{
 "cells": [
  {
   "cell_type": "markdown",
   "metadata": {},
   "source": [
    "# What is the True Normal Human Body Temperature? \n",
    "\n",
    "#### Background\n",
    "\n",
    "The mean normal body temperature was held to be 37$^{\\circ}$C or 98.6$^{\\circ}$F for more than 120 years since it was first conceptualized and reported by Carl Wunderlich in a famous 1868 book. But, is this value statistically correct?"
   ]
  },
  {
   "cell_type": "markdown",
   "metadata": {},
   "source": [
    "<h3>Exercises</h3>\n",
    "\n",
    "<p>In this exercise, you will analyze a dataset of human body temperatures and employ the concepts of hypothesis testing, confidence intervals, and statistical significance.</p>\n",
    "\n",
    "<p>Answer the following questions <b>in this notebook below and submit to your Github account</b>.</p> \n",
    "\n",
    "<ol>\n",
    "<li>  Is the distribution of body temperatures normal? \n",
    "    <ul>\n",
    "    <li> Although this is not a requirement for CLT to hold (read CLT carefully), it gives us some peace of mind that the population may also be normally distributed if we assume that this sample is representative of the population.\n",
    "    </ul>\n",
    "<li>  Is the sample size large? Are the observations independent?\n",
    "    <ul>\n",
    "    <li> Remember that this is a condition for the CLT, and hence the statistical tests we are using, to apply.\n",
    "    </ul>\n",
    "<li>  Is the true population mean really 98.6 degrees F?\n",
    "    <ul>\n",
    "    <li> Would you use a one-sample or two-sample test? Why?\n",
    "    <li> In this situation, is it appropriate to use the $t$ or $z$ statistic? \n",
    "    <li> Now try using the other test. How is the result be different? Why?\n",
    "    </ul>\n",
    "<li>  Draw a small sample of size 10 from the data and repeat both tests. \n",
    "    <ul>\n",
    "    <li> Which one is the correct one to use? \n",
    "    <li> What do you notice? What does this tell you about the difference in application of the $t$ and $z$ statistic?\n",
    "    </ul>\n",
    "<li>  At what temperature should we consider someone's temperature to be \"abnormal\"?\n",
    "    <ul>\n",
    "    <li> Start by computing the margin of error and confidence interval.\n",
    "    </ul>\n",
    "<li>  Is there a significant difference between males and females in normal temperature?\n",
    "    <ul>\n",
    "    <li> What test did you use and why?\n",
    "    <li> Write a story with your conclusion in the context of the original problem.\n",
    "    </ul>\n",
    "</ol>\n",
    "\n",
    "You can include written notes in notebook cells using Markdown: \n",
    "   - In the control panel at the top, choose Cell > Cell Type > Markdown\n",
    "   - Markdown syntax: http://nestacms.com/docs/creating-content/markdown-cheat-sheet\n",
    "\n",
    "#### Resources\n",
    "\n",
    "+ Information and data sources: http://www.amstat.org/publications/jse/datasets/normtemp.txt, http://www.amstat.org/publications/jse/jse_data_archive.htm\n",
    "+ Markdown syntax: http://nestacms.com/docs/creating-content/markdown-cheat-sheet\n",
    "\n",
    "****"
   ]
  },
  {
   "cell_type": "code",
   "execution_count": 2,
   "metadata": {
    "collapsed": true
   },
   "outputs": [],
   "source": [
    "import pandas as pd\n",
    "\n",
    "df = pd.read_csv('data/human_body_temperature.csv')"
   ]
  },
  {
   "cell_type": "code",
   "execution_count": 3,
   "metadata": {},
   "outputs": [
    {
     "data": {
      "text/html": [
       "<div>\n",
       "<style>\n",
       "    .dataframe thead tr:only-child th {\n",
       "        text-align: right;\n",
       "    }\n",
       "\n",
       "    .dataframe thead th {\n",
       "        text-align: left;\n",
       "    }\n",
       "\n",
       "    .dataframe tbody tr th {\n",
       "        vertical-align: top;\n",
       "    }\n",
       "</style>\n",
       "<table border=\"1\" class=\"dataframe\">\n",
       "  <thead>\n",
       "    <tr style=\"text-align: right;\">\n",
       "      <th></th>\n",
       "      <th>temperature</th>\n",
       "      <th>gender</th>\n",
       "      <th>heart_rate</th>\n",
       "    </tr>\n",
       "  </thead>\n",
       "  <tbody>\n",
       "    <tr>\n",
       "      <th>0</th>\n",
       "      <td>99.3</td>\n",
       "      <td>F</td>\n",
       "      <td>68.0</td>\n",
       "    </tr>\n",
       "    <tr>\n",
       "      <th>1</th>\n",
       "      <td>98.4</td>\n",
       "      <td>F</td>\n",
       "      <td>81.0</td>\n",
       "    </tr>\n",
       "    <tr>\n",
       "      <th>2</th>\n",
       "      <td>97.8</td>\n",
       "      <td>M</td>\n",
       "      <td>73.0</td>\n",
       "    </tr>\n",
       "    <tr>\n",
       "      <th>3</th>\n",
       "      <td>99.2</td>\n",
       "      <td>F</td>\n",
       "      <td>66.0</td>\n",
       "    </tr>\n",
       "    <tr>\n",
       "      <th>4</th>\n",
       "      <td>98.0</td>\n",
       "      <td>F</td>\n",
       "      <td>73.0</td>\n",
       "    </tr>\n",
       "  </tbody>\n",
       "</table>\n",
       "</div>"
      ],
      "text/plain": [
       "   temperature gender  heart_rate\n",
       "0         99.3      F        68.0\n",
       "1         98.4      F        81.0\n",
       "2         97.8      M        73.0\n",
       "3         99.2      F        66.0\n",
       "4         98.0      F        73.0"
      ]
     },
     "execution_count": 3,
     "metadata": {},
     "output_type": "execute_result"
    }
   ],
   "source": [
    "#check the headers to get an idea about the columns\n",
    "df.head(5)"
   ]
  },
  {
   "cell_type": "code",
   "execution_count": 65,
   "metadata": {
    "collapsed": true
   },
   "outputs": [],
   "source": [
    "import matplotlib.pyplot as plt\n",
    "import numpy as np\n",
    "import scipy.stats as stats\n",
    "import math"
   ]
  },
  {
   "cell_type": "code",
   "execution_count": 16,
   "metadata": {
    "scrolled": true
   },
   "outputs": [
    {
     "data": {
      "image/png": "[encoded data removed]",
      "text/plain": [
       "<matplotlib.figure.Figure at 0x26bd29ca0f0>"
      ]
     },
     "metadata": {},
     "output_type": "display_data"
    }
   ],
   "source": [
    "plt.hist(df.temperature, bins = 5, color='red', alpha = 0.5)\n",
    "plt.xlabel('Temperature (F)')\n",
    "plt.ylabel('Frequency')\n",
    "plt.show()"
   ]
  },
  {
   "cell_type": "markdown",
   "metadata": {},
   "source": [
    "The above figure is a histogram plot for the temperature data with 5 bins. The plot has a single peak and indicates a normal distribution. However, changing the bins can result in more peaks (typical problem). It will be good to test by plotting an other histogram with a higher bin."
   ]
  },
  {
   "cell_type": "code",
   "execution_count": 17,
   "metadata": {},
   "outputs": [
    {
     "data": {
      "image/png": "[encoded data removed]",
      "text/plain": [
       "<matplotlib.figure.Figure at 0x26bd29d1a58>"
      ]
     },
     "metadata": {},
     "output_type": "display_data"
    }
   ],
   "source": [
    "plt.hist(df.temperature, bins = 50, color='red', alpha = 0.5)\n",
    "plt.xlabel('Temperature (F)')\n",
    "plt.ylabel('Frequency')\n",
    "plt.show()"
   ]
  },
  {
   "cell_type": "markdown",
   "metadata": {},
   "source": [
    "The above plot shows somewhat of a normal distribution. The best check will be to plot the Cumuulative Distribution Function (CDF)."
   ]
  },
  {
   "cell_type": "code",
   "execution_count": 22,
   "metadata": {},
   "outputs": [
    {
     "data": {
      "image/png": "[encoded data removed]",
      "text/plain": [
       "<matplotlib.figure.Figure at 0x26bd2794978>"
      ]
     },
     "metadata": {},
     "output_type": "display_data"
    }
   ],
   "source": [
    "# Define a function to calculate the CDF\n",
    "def cdf(data):\n",
    "    '''Compute Cummulative Distribution Function'''\n",
    "    n = len(data)\n",
    "    x = np.sort(data)\n",
    "    y = np.arange(1,n+1)/n\n",
    "    \n",
    "    return x,y\n",
    "\n",
    "#Compute the cdf for the temperature data\n",
    "x_temp, y_temp = cdf(df.temperature)\n",
    "\n",
    "#plot the Cdf\n",
    "temperature_CDF_plot = plt.plot(x_temp,y_temp)\n",
    "plt.xlabel('Temperature F')\n",
    "plt.ylabel('CDF')\n",
    "plt.show()"
   ]
  },
  {
   "cell_type": "markdown",
   "metadata": {},
   "source": [
    "The above CDF plot indicates that the temperature data is in fact normally distributed."
   ]
  },
  {
   "cell_type": "markdown",
   "metadata": {},
   "source": [
    "2. Is the sample size large? Are the observations independent?\n",
    "\n",
    "The sample size condition for CLT is n > 30 (rule of thumb). And for normally distributed data the theorem will hold true for even smaller values. In this case the number of temperature observations os 130 (>30) and hence the sample size is large enough.\n",
    "\n",
    "The sample size 130 < 10% of the population, the data is independent."
   ]
  },
  {
   "cell_type": "markdown",
   "metadata": {},
   "source": [
    "3. Is the true population mean really 98.6 degrees F?\n",
    "\n",
    "Here the null hypotheis is nu (population mean) = 98.6 degrees F\n",
    "The alternate hypothesis is nu not equal to 98.6 degrees F"
   ]
  },
  {
   "cell_type": "code",
   "execution_count": 61,
   "metadata": {},
   "outputs": [
    {
     "data": {
      "text/plain": [
       "Ttest_1sampResult(statistic=-5.4548232923645195, pvalue=2.4106320415561276e-07)"
      ]
     },
     "execution_count": 61,
     "metadata": {},
     "output_type": "execute_result"
    }
   ],
   "source": [
    "#conduct a one sample t-test for the null hypothesis\n",
    "stats.ttest_1samp(a=df.temperature, popmean=98.6)"
   ]
  },
  {
   "cell_type": "markdown",
   "metadata": {},
   "source": [
    "The p-value for the t-statistic is well below 0.05. This means that the null hypothesis is rejected and the population mean is different from 98.6 F."
   ]
  },
  {
   "cell_type": "markdown",
   "metadata": {},
   "source": [
    "Would you use a one-sample or two-sample test? Why?\n",
    "\n",
    "A two-sample t-test investigates whether the means of two independent data samples differ from one another which is not the case. Here we are ineterested only in the population mean from the sample mean where a single sample test is sufficient. \n",
    "\n",
    "In this situation, is it appropriate to use the  t  or  z  statistic?\n",
    "\n",
    "The t statistic is used when the population standard deviation is unknown, which is the case here. Hence, the t-statistic is the appropriate one to use. The z-statistic is typically used when the population standard deviation is known and the sample size is above 30."
   ]
  },
  {
   "cell_type": "code",
   "execution_count": null,
   "metadata": {},
   "outputs": [],
   "source": [
    "#Now try using the other test. How is the result be different? Why?\n",
    "mean = np.mean(df.temperature)\n",
    "std = np.std(df.temperature)\n",
    "z_score = (mean - 98.6)/std\n",
    "z_score\n",
    "\n",
    "#calculate the p-value for the Z-score\n",
    "p_value = stats.norm.cdf(z_score) * 2"
   ]
  },
  {
   "cell_type": "markdown",
   "metadata": {},
   "source": [
    "The p-value for the z-test is 0.63. The p-value is above 0.05. Hence the null hypothesis is not rejected and the population mean is indeed 98.6 degrees F as per the z-test. This is the opposite of the t-test conclusion. "
   ]
  },
  {
   "cell_type": "code",
   "execution_count": 76,
   "metadata": {},
   "outputs": [
    {
     "name": "stdout",
     "output_type": "stream",
     "text": [
      "T-test statistics for the sample with size 10 =  Ttest_1sampResult(statistic=-3.0934479202257976, pvalue=0.012857704604809363)\n",
      "p-value for z-test on the sample with size 10 =  0.315517562793\n"
     ]
    }
   ],
   "source": [
    "#4. Draw a small sample of size 10 from the data and repeat both tests.\n",
    "\n",
    "#Extract sample size of 10 from the data\n",
    "np.random.seed(42)\n",
    "sample_data = np.random.choice(df.temperature,size=10)\n",
    "\n",
    "#t-test on sample dataset\n",
    "print ('T-test statistics for the sample with size 10 = ',stats.ttest_1samp(a=sample_data, popmean=98.6))\n",
    "\n",
    "sample_mean = np.mean(sample_data)\n",
    "sample_std = np.std(sample_data)\n",
    "z_score_sample = (sample_mean - 98.6)/sample_std\n",
    "p_value_sample = stats.norm.cdf(z_score_sample)*2\n",
    "print ('p-value for z-test on the sample with size 10 = ', p_value)       "
   ]
  },
  {
   "cell_type": "markdown",
   "metadata": {},
   "source": [
    "Which one is the correct one to use?\n",
    "\n",
    "Here again we need to use the t-statistic since we do not know the population standard deviation and the sample size is less than 30. \n",
    "\n",
    "What do you notice? What does this tell you about the difference in application of the t and z statistic?\n",
    "\n",
    "The t-test rejects the null hypothesis and the z-test does not reject the null hypothesis. The difference indicates that the z-test can result in a Type1/Type2 error. "
   ]
  },
  {
   "cell_type": "code",
   "execution_count": 73,
   "metadata": {},
   "outputs": [
    {
     "name": "stdout",
     "output_type": "stream",
     "text": [
      "Temperature is abnormal if it exceeds  98.76500983945482  degree F  or is lower than 98.43499016054517  degree F.\n"
     ]
    }
   ],
   "source": [
    "#5. At what temperature should we consider someone's temperature to be \"abnormal\"?\n",
    "\n",
    "standard_error = std/math.sqrt(len(df.temperature))\n",
    "#calculate 99% confidence interval\n",
    "temp_low, temp_high = 98.6 - 2.576 * standard_error, 98.6 + 2.576 * standard_error #z-score for 99% CI is 2.576\n",
    "print ('Temperature is abnormal if it exceeds ',temp_high,' degree F',' or is lower than',temp_low,' degree F.')"
   ]
  },
  {
   "cell_type": "code",
   "execution_count": null,
   "metadata": {
    "collapsed": true
   },
   "outputs": [],
   "source": [
    "#6. Is there a significant difference between males and females in normal temperature?\n",
    "\n",
    "#subset the data for the male and female temperature observations\n",
    "\n",
    "male = df[df.gender == 'M']\n",
    "female = df[df.gender == 'F']\n",
    "\n",
    "#conduct a two-sample t-test for male and female samples\n",
    "t_test_stats = stats.ttest_ind(a=male.temperature,b=female.temperature,equal_var=False)\n",
    "print ('The p value for the two sample t-test is ',t_test_stats[1])\n",
    "print ('The p value is less than 0.05 which indicates that the null hypothesis is rejected. There is a significant difference between the means of the two samples.')"
   ]
  },
  {
   "cell_type": "markdown",
   "metadata": {},
   "source": [
    "A two sample t-test has to be used for comparing means between two samples."
   ]
  },
  {
   "cell_type": "markdown",
   "metadata": {},
   "source": [
    "Write a story with your conclusion in the context of the original problem.\n",
    "\n",
    "The mean normal body temperature was held to be 37 C or 98.6 F for more than 120 years since it was first conceptualized and reported by Carl Wunderlich in a famous 1868 book. A statistical anaysis was done on the dataset to test the validity of the statisitic. A datest with human body temperatures was analyzed. A one sample t-test was perfomed. The p-value from the t-test was observed to be well below 0.05. Hence the null hypothesis was rejected, which indicates that the mean body temperature is indeed different from 98.6 degree F. Also, a two-sample t-test was done for the male and female temperatures. The results indicate that the mean values for the male and female temperatures are significantly different. "
   ]
  }
 ],
 "metadata": {
  "kernelspec": {
   "display_name": "Python 3",
   "language": "python",
   "name": "python3"
  },
  "language_info": {
   "codemirror_mode": {
    "name": "ipython",
    "version": 3
   },
   "file_extension": ".py",
   "mimetype": "text/x-python",
   "name": "python",
   "nbconvert_exporter": "python",
   "pygments_lexer": "ipython3",
   "version": "3.6.3"
  }
 },
 "nbformat": 4,
 "nbformat_minor": 1
}

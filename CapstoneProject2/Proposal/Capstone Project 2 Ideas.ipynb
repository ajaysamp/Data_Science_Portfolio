{
 "cells": [
  {
   "cell_type": "markdown",
   "metadata": {},
   "source": [
    "## Idea 1 - TED Talks\n",
    "\n",
    "#### Description\n",
    "\n",
    "I am a big fan of Ted Talks. Coincidentally, I first came across the topic of data science in a Ted Talk. It will be really cool to analyze Ted Talks to answer the questions below:\n",
    "\n",
    "1. Which are the most viewed and most favorited Talks of all time? Why are they popular?\n",
    "2. What kind of topics attract the maximum discussion and debate (in the form of comments)?\n",
    "3. Which months are most popular among TED and TEDx chapters?\n",
    "4. Which themes are most popular amongst TEDsters?\n",
    "5. Perform a sentiment analysis on the description?\n",
    "6. Build a recommendation engine for Ted Talks? \n",
    "7. Estimate number of views from theme and other parameters etc?\n",
    "\n",
    "#### Data\n",
    "\n",
    "Data is available from the Dataworld.com and Data Distribution Portal website. The following fields are available in the data set:\n",
    "\n",
    "- id - identification number for the talk\n",
    "- speaker - name of the speaker\n",
    "- headline - title of the talk\n",
    "- url - link to the actual ted talk\n",
    "- descripton - a short overview of the talk\n",
    "- transcript_url - url link to the full transcript for the talk\n",
    "- month_filmed - numerical value for the month \n",
    "- year_filmed - numerical value of the year\n",
    "- event - name of the event\n",
    "- duration - time in hours, min and seconds\n",
    "- date_published - date in year, month and day when the talk was published on the website\n",
    "- tags - descriptive words for the talk\n",
    "- views_as_of_06162017 - number of views as of June 16, 2017\n",
    "\n",
    "#### Analysis Methodology\n",
    "\n",
    "_to be developed_\n",
    "\n",
    "#### Deliverables\n",
    "\n",
    "The following deliverables will be submitted as part of this project and will be made available in a git hub repository.\n",
    "\n",
    "- Final report/paper\n",
    "- Codes used for the analysis\n",
    "\n"
   ]
  },
  {
   "cell_type": "markdown",
   "metadata": {},
   "source": [
    "----------------------------------------------------------------------------------------------------------------------------"
   ]
  },
  {
   "cell_type": "markdown",
   "metadata": {},
   "source": [
    "## Idea 2 - Amazon Book Reviews\n",
    "\n",
    "#### Description\n",
    "\n",
    "In this fast paced day and age reviews have become in selecting a product. It is always good to know what other people had to say about a particular product. I have always found it helpful to see a review before selecting a book to read. This project will analyze 160,793 reviews from the kindle store. We will try to answer the following questions:\n",
    "\n",
    "1. How people rate the usefulness of the reviews? What contributes to usefulness?\n",
    "2. Sentiment analysis on the reviews\n",
    "3. Identify fake reviews/outliers\n",
    "4. Other interesting insights\n",
    "\n",
    "#### Data\n",
    "\n",
    "The dataset is available from the Stanford Analysis Project (SNAP) - https://snap.stanford.edu/data/web-Amazon.html\n",
    "\n",
    "The following fields are available in the dataset:\n",
    "\n",
    "- productID - alphanumeric product identifier\n",
    "- title - product title\n",
    "- price - product price\n",
    "- userID - alphanumeric identifier for user\n",
    "- profileName - name of the user\n",
    "- helpfulness - fraction of the users who found the review helpful\n",
    "- score - rating for the product\n",
    "- time - time of review (unix)\n",
    "- summary - review summary\n",
    "- text - text of the review\n",
    "\n",
    "#### Analysis Methodology\n",
    "\n",
    "_to be developed_\n",
    "\n",
    "#### Deliverables\n",
    "\n",
    "- Final report/paper\n",
    "- Codes used for analysis\n",
    "\n"
   ]
  },
  {
   "cell_type": "markdown",
   "metadata": {},
   "source": [
    "----------------------------------------------------------------------------------------------------------------------------"
   ]
  },
  {
   "cell_type": "markdown",
   "metadata": {},
   "source": [
    "## Idea 3 - Yelp\n",
    "\n",
    "#### Description\n",
    "\n",
    "Yelp reviews are useful to pick our place of business. It can range from dog grooming to restaurants to funeral homes. The data can provide ineteresting insights on what businesses are popular in which cities and why. We will try to answer the following questions:\n",
    "\n",
    "- NLP on reviews to check if it is positive or negative \n",
    "- Which features make the business popular\n",
    "- Other useful insights from the metadata\n",
    "\n",
    "#### Data\n",
    "\n",
    "The data is available from the yelp website https://www.yelp.com/dataset/download. There are 5,200,000 reviews for 174,000 businesses from 11 metropolitan cities. The data set also contains the a number of fields such as business neighborhood, lat, long, city, postal code, rating, number of reviews, business category, hours open, text reviews, number of useful votes recieved for each review, and a whole slew of metadata about the user. \n",
    "\n",
    "\n",
    "#### Analysis Methodology\n",
    "\n",
    "_to be developed_\n",
    "\n",
    "#### Deliverables\n",
    "\n",
    "- Final report/paper\n",
    "- Codes used for analysis\n"
   ]
  },
  {
   "cell_type": "code",
   "execution_count": null,
   "metadata": {
    "collapsed": true
   },
   "outputs": [],
   "source": []
  }
 ],
 "metadata": {
  "kernelspec": {
   "display_name": "Python 3",
   "language": "python",
   "name": "python3"
  },
  "language_info": {
   "codemirror_mode": {
    "name": "ipython",
    "version": 3
   },
   "file_extension": ".py",
   "mimetype": "text/x-python",
   "name": "python",
   "nbconvert_exporter": "python",
   "pygments_lexer": "ipython3",
   "version": "3.6.3"
  }
 },
 "nbformat": 4,
 "nbformat_minor": 2
}

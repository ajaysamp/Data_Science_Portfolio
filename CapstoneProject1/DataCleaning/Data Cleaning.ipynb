{
 "cells": [
  {
   "cell_type": "markdown",
   "metadata": {},
   "source": [
    "## Data Cleaning\n",
    "\n",
    "In this notebook we will go through the process of cleaning the data obtained from ratebeer.com. We will look at the different columns, figure out strategies to impute missing data, drop unwanted columns and add columns as needed. "
   ]
  },
  {
   "cell_type": "markdown",
   "metadata": {},
   "source": [
    "## Import Modules"
   ]
  },
  {
   "cell_type": "code",
   "execution_count": 91,
   "metadata": {
    "collapsed": true
   },
   "outputs": [],
   "source": [
    "import pandas as pd\n",
    "import matplotlib.pyplot as plt\n",
    "import seaborn as sns"
   ]
  },
  {
   "cell_type": "markdown",
   "metadata": {},
   "source": [
    "## Load Data\n",
    "\n",
    "We have already acquired the data from ratebeer.com and saved the data as a .csv file. Details on data acquistion are provided in the notebook here."
   ]
  },
  {
   "cell_type": "code",
   "execution_count": 92,
   "metadata": {
    "collapsed": true
   },
   "outputs": [],
   "source": [
    "df = pd.read_csv('RateBeer.csv')"
   ]
  },
  {
   "cell_type": "code",
   "execution_count": 93,
   "metadata": {},
   "outputs": [
    {
     "data": {
      "text/html": [
       "<div>\n",
       "<style>\n",
       "    .dataframe thead tr:only-child th {\n",
       "        text-align: right;\n",
       "    }\n",
       "\n",
       "    .dataframe thead th {\n",
       "        text-align: left;\n",
       "    }\n",
       "\n",
       "    .dataframe tbody tr th {\n",
       "        vertical-align: top;\n",
       "    }\n",
       "</style>\n",
       "<table border=\"1\" class=\"dataframe\">\n",
       "  <thead>\n",
       "    <tr style=\"text-align: right;\">\n",
       "      <th></th>\n",
       "      <th>Unnamed: 0</th>\n",
       "      <th>beer_id</th>\n",
       "      <th>beer_name</th>\n",
       "      <th>beer_description</th>\n",
       "      <th>beer_abv</th>\n",
       "      <th>beer_styleScore</th>\n",
       "      <th>beer_overallScore</th>\n",
       "      <th>beer_averageRating</th>\n",
       "      <th>beer_ratingCount</th>\n",
       "      <th>beer_styleName</th>\n",
       "      <th>brewery_name</th>\n",
       "      <th>brewery_type</th>\n",
       "      <th>brewery_street</th>\n",
       "      <th>brewery_city</th>\n",
       "      <th>brewery_state</th>\n",
       "      <th>brewery_country</th>\n",
       "      <th>brewery_continent</th>\n",
       "      <th>brewery_twitter</th>\n",
       "      <th>brewery_facebook</th>\n",
       "    </tr>\n",
       "  </thead>\n",
       "  <tbody>\n",
       "    <tr>\n",
       "      <th>0</th>\n",
       "      <td>1</td>\n",
       "      <td>58057</td>\n",
       "      <td>Närke Kaggen Stormaktsporter</td>\n",
       "      <td>Imperial Stout brewed with heather honey and a...</td>\n",
       "      <td>9.5</td>\n",
       "      <td>100.0</td>\n",
       "      <td>100.0</td>\n",
       "      <td>4.489771</td>\n",
       "      <td>557</td>\n",
       "      <td>Imperial Stout</td>\n",
       "      <td>Närke Kulturbryggeri</td>\n",
       "      <td>Microbrewery</td>\n",
       "      <td>Beväringsgatan 2</td>\n",
       "      <td>Örebro</td>\n",
       "      <td>NaN</td>\n",
       "      <td>Sweden</td>\n",
       "      <td>NaN</td>\n",
       "      <td>NaN</td>\n",
       "      <td>NaN</td>\n",
       "    </tr>\n",
       "    <tr>\n",
       "      <th>1</th>\n",
       "      <td>2</td>\n",
       "      <td>4934</td>\n",
       "      <td>Westvleteren 12 (XII)</td>\n",
       "      <td>Westvleteren has the smallest output of the Tr...</td>\n",
       "      <td>10.2</td>\n",
       "      <td>100.0</td>\n",
       "      <td>100.0</td>\n",
       "      <td>4.426578</td>\n",
       "      <td>3332</td>\n",
       "      <td>Abt/Quadrupel</td>\n",
       "      <td>Westvleteren Abdij St. Sixtus</td>\n",
       "      <td>Microbrewery</td>\n",
       "      <td>Donkerstraat 12</td>\n",
       "      <td>Westvleteren</td>\n",
       "      <td>NaN</td>\n",
       "      <td>Belgium</td>\n",
       "      <td>NaN</td>\n",
       "      <td>NaN</td>\n",
       "      <td>NaN</td>\n",
       "    </tr>\n",
       "    <tr>\n",
       "      <th>2</th>\n",
       "      <td>3</td>\n",
       "      <td>231441</td>\n",
       "      <td>Schramm’s The Heart of Darkness</td>\n",
       "      <td>The Heart of Darkness is our capstone mead. It...</td>\n",
       "      <td>14.0</td>\n",
       "      <td>100.0</td>\n",
       "      <td>100.0</td>\n",
       "      <td>4.423655</td>\n",
       "      <td>77</td>\n",
       "      <td>Mead</td>\n",
       "      <td>Schramm’s Mead</td>\n",
       "      <td>Meadery</td>\n",
       "      <td>327 West 9 Mile Road</td>\n",
       "      <td>Ferndale</td>\n",
       "      <td>Michigan</td>\n",
       "      <td>United States</td>\n",
       "      <td>North America</td>\n",
       "      <td>schrammsmead</td>\n",
       "      <td>https://facebook.com/SchrammsMeadery</td>\n",
       "    </tr>\n",
       "    <tr>\n",
       "      <th>3</th>\n",
       "      <td>4</td>\n",
       "      <td>106749</td>\n",
       "      <td>B. Nektar Ken Schramm Signature Series - The H...</td>\n",
       "      <td>Meadmaker Ken Schramm crafted the Heart of Dar...</td>\n",
       "      <td>14.0</td>\n",
       "      <td>100.0</td>\n",
       "      <td>100.0</td>\n",
       "      <td>4.421873</td>\n",
       "      <td>50</td>\n",
       "      <td>Mead</td>\n",
       "      <td>B. Nektar Meadery</td>\n",
       "      <td>Meadery</td>\n",
       "      <td>1511 Jarvis</td>\n",
       "      <td>Ferndale</td>\n",
       "      <td>Michigan</td>\n",
       "      <td>United States</td>\n",
       "      <td>North America</td>\n",
       "      <td>bnektar</td>\n",
       "      <td>https://facebook.com/b.nektar</td>\n",
       "    </tr>\n",
       "    <tr>\n",
       "      <th>4</th>\n",
       "      <td>5</td>\n",
       "      <td>140581</td>\n",
       "      <td>Cigar City Pilot Series Dragonfruit Passion Fr...</td>\n",
       "      <td>Editor’s Note: This is an archived entry for t...</td>\n",
       "      <td>0.0</td>\n",
       "      <td>100.0</td>\n",
       "      <td>100.0</td>\n",
       "      <td>4.420719</td>\n",
       "      <td>46</td>\n",
       "      <td>Berliner Weisse</td>\n",
       "      <td>Cigar City Brewing</td>\n",
       "      <td>Microbrewery</td>\n",
       "      <td>3924 W Spruce Street</td>\n",
       "      <td>Tampa</td>\n",
       "      <td>Florida</td>\n",
       "      <td>United States</td>\n",
       "      <td>North America</td>\n",
       "      <td>cigarcitybeer</td>\n",
       "      <td>https://facebook.com/cigarcitybeer</td>\n",
       "    </tr>\n",
       "  </tbody>\n",
       "</table>\n",
       "</div>"
      ],
      "text/plain": [
       "   Unnamed: 0  beer_id                                          beer_name  \\\n",
       "0           1    58057                       Närke Kaggen Stormaktsporter   \n",
       "1           2     4934                              Westvleteren 12 (XII)   \n",
       "2           3   231441                    Schramm’s The Heart of Darkness   \n",
       "3           4   106749  B. Nektar Ken Schramm Signature Series - The H...   \n",
       "4           5   140581  Cigar City Pilot Series Dragonfruit Passion Fr...   \n",
       "\n",
       "                                    beer_description  beer_abv  \\\n",
       "0  Imperial Stout brewed with heather honey and a...       9.5   \n",
       "1  Westvleteren has the smallest output of the Tr...      10.2   \n",
       "2  The Heart of Darkness is our capstone mead. It...      14.0   \n",
       "3  Meadmaker Ken Schramm crafted the Heart of Dar...      14.0   \n",
       "4  Editor’s Note: This is an archived entry for t...       0.0   \n",
       "\n",
       "   beer_styleScore  beer_overallScore  beer_averageRating  beer_ratingCount  \\\n",
       "0            100.0              100.0            4.489771               557   \n",
       "1            100.0              100.0            4.426578              3332   \n",
       "2            100.0              100.0            4.423655                77   \n",
       "3            100.0              100.0            4.421873                50   \n",
       "4            100.0              100.0            4.420719                46   \n",
       "\n",
       "    beer_styleName                   brewery_name  brewery_type  \\\n",
       "0   Imperial Stout           Närke Kulturbryggeri  Microbrewery   \n",
       "1    Abt/Quadrupel  Westvleteren Abdij St. Sixtus  Microbrewery   \n",
       "2             Mead                 Schramm’s Mead       Meadery   \n",
       "3             Mead              B. Nektar Meadery       Meadery   \n",
       "4  Berliner Weisse             Cigar City Brewing  Microbrewery   \n",
       "\n",
       "         brewery_street  brewery_city brewery_state brewery_country  \\\n",
       "0      Beväringsgatan 2        Örebro           NaN          Sweden   \n",
       "1       Donkerstraat 12  Westvleteren           NaN         Belgium   \n",
       "2  327 West 9 Mile Road      Ferndale      Michigan   United States   \n",
       "3           1511 Jarvis      Ferndale      Michigan   United States   \n",
       "4  3924 W Spruce Street         Tampa       Florida   United States   \n",
       "\n",
       "  brewery_continent brewery_twitter                      brewery_facebook  \n",
       "0               NaN             NaN                                   NaN  \n",
       "1               NaN             NaN                                   NaN  \n",
       "2     North America    schrammsmead  https://facebook.com/SchrammsMeadery  \n",
       "3     North America         bnektar         https://facebook.com/b.nektar  \n",
       "4     North America   cigarcitybeer    https://facebook.com/cigarcitybeer  "
      ]
     },
     "execution_count": 93,
     "metadata": {},
     "output_type": "execute_result"
    }
   ],
   "source": [
    "df.head()"
   ]
  },
  {
   "cell_type": "code",
   "execution_count": 94,
   "metadata": {
    "collapsed": true
   },
   "outputs": [],
   "source": [
    "#drop the unnamed column\n",
    "df.drop([\"Unnamed: 0\"], axis=1, inplace=True)"
   ]
  },
  {
   "cell_type": "code",
   "execution_count": 95,
   "metadata": {},
   "outputs": [
    {
     "data": {
      "text/html": [
       "<div>\n",
       "<style>\n",
       "    .dataframe thead tr:only-child th {\n",
       "        text-align: right;\n",
       "    }\n",
       "\n",
       "    .dataframe thead th {\n",
       "        text-align: left;\n",
       "    }\n",
       "\n",
       "    .dataframe tbody tr th {\n",
       "        vertical-align: top;\n",
       "    }\n",
       "</style>\n",
       "<table border=\"1\" class=\"dataframe\">\n",
       "  <thead>\n",
       "    <tr style=\"text-align: right;\">\n",
       "      <th></th>\n",
       "      <th>beer_id</th>\n",
       "      <th>beer_name</th>\n",
       "      <th>beer_description</th>\n",
       "      <th>beer_abv</th>\n",
       "      <th>beer_styleScore</th>\n",
       "      <th>beer_overallScore</th>\n",
       "      <th>beer_averageRating</th>\n",
       "      <th>beer_ratingCount</th>\n",
       "      <th>beer_styleName</th>\n",
       "      <th>brewery_name</th>\n",
       "      <th>brewery_type</th>\n",
       "      <th>brewery_street</th>\n",
       "      <th>brewery_city</th>\n",
       "      <th>brewery_state</th>\n",
       "      <th>brewery_country</th>\n",
       "      <th>brewery_continent</th>\n",
       "      <th>brewery_twitter</th>\n",
       "      <th>brewery_facebook</th>\n",
       "    </tr>\n",
       "  </thead>\n",
       "  <tbody>\n",
       "    <tr>\n",
       "      <th>0</th>\n",
       "      <td>58057</td>\n",
       "      <td>Närke Kaggen Stormaktsporter</td>\n",
       "      <td>Imperial Stout brewed with heather honey and a...</td>\n",
       "      <td>9.5</td>\n",
       "      <td>100.0</td>\n",
       "      <td>100.0</td>\n",
       "      <td>4.489771</td>\n",
       "      <td>557</td>\n",
       "      <td>Imperial Stout</td>\n",
       "      <td>Närke Kulturbryggeri</td>\n",
       "      <td>Microbrewery</td>\n",
       "      <td>Beväringsgatan 2</td>\n",
       "      <td>Örebro</td>\n",
       "      <td>NaN</td>\n",
       "      <td>Sweden</td>\n",
       "      <td>NaN</td>\n",
       "      <td>NaN</td>\n",
       "      <td>NaN</td>\n",
       "    </tr>\n",
       "    <tr>\n",
       "      <th>1</th>\n",
       "      <td>4934</td>\n",
       "      <td>Westvleteren 12 (XII)</td>\n",
       "      <td>Westvleteren has the smallest output of the Tr...</td>\n",
       "      <td>10.2</td>\n",
       "      <td>100.0</td>\n",
       "      <td>100.0</td>\n",
       "      <td>4.426578</td>\n",
       "      <td>3332</td>\n",
       "      <td>Abt/Quadrupel</td>\n",
       "      <td>Westvleteren Abdij St. Sixtus</td>\n",
       "      <td>Microbrewery</td>\n",
       "      <td>Donkerstraat 12</td>\n",
       "      <td>Westvleteren</td>\n",
       "      <td>NaN</td>\n",
       "      <td>Belgium</td>\n",
       "      <td>NaN</td>\n",
       "      <td>NaN</td>\n",
       "      <td>NaN</td>\n",
       "    </tr>\n",
       "    <tr>\n",
       "      <th>2</th>\n",
       "      <td>231441</td>\n",
       "      <td>Schramm’s The Heart of Darkness</td>\n",
       "      <td>The Heart of Darkness is our capstone mead. It...</td>\n",
       "      <td>14.0</td>\n",
       "      <td>100.0</td>\n",
       "      <td>100.0</td>\n",
       "      <td>4.423655</td>\n",
       "      <td>77</td>\n",
       "      <td>Mead</td>\n",
       "      <td>Schramm’s Mead</td>\n",
       "      <td>Meadery</td>\n",
       "      <td>327 West 9 Mile Road</td>\n",
       "      <td>Ferndale</td>\n",
       "      <td>Michigan</td>\n",
       "      <td>United States</td>\n",
       "      <td>North America</td>\n",
       "      <td>schrammsmead</td>\n",
       "      <td>https://facebook.com/SchrammsMeadery</td>\n",
       "    </tr>\n",
       "    <tr>\n",
       "      <th>3</th>\n",
       "      <td>106749</td>\n",
       "      <td>B. Nektar Ken Schramm Signature Series - The H...</td>\n",
       "      <td>Meadmaker Ken Schramm crafted the Heart of Dar...</td>\n",
       "      <td>14.0</td>\n",
       "      <td>100.0</td>\n",
       "      <td>100.0</td>\n",
       "      <td>4.421873</td>\n",
       "      <td>50</td>\n",
       "      <td>Mead</td>\n",
       "      <td>B. Nektar Meadery</td>\n",
       "      <td>Meadery</td>\n",
       "      <td>1511 Jarvis</td>\n",
       "      <td>Ferndale</td>\n",
       "      <td>Michigan</td>\n",
       "      <td>United States</td>\n",
       "      <td>North America</td>\n",
       "      <td>bnektar</td>\n",
       "      <td>https://facebook.com/b.nektar</td>\n",
       "    </tr>\n",
       "    <tr>\n",
       "      <th>4</th>\n",
       "      <td>140581</td>\n",
       "      <td>Cigar City Pilot Series Dragonfruit Passion Fr...</td>\n",
       "      <td>Editor’s Note: This is an archived entry for t...</td>\n",
       "      <td>0.0</td>\n",
       "      <td>100.0</td>\n",
       "      <td>100.0</td>\n",
       "      <td>4.420719</td>\n",
       "      <td>46</td>\n",
       "      <td>Berliner Weisse</td>\n",
       "      <td>Cigar City Brewing</td>\n",
       "      <td>Microbrewery</td>\n",
       "      <td>3924 W Spruce Street</td>\n",
       "      <td>Tampa</td>\n",
       "      <td>Florida</td>\n",
       "      <td>United States</td>\n",
       "      <td>North America</td>\n",
       "      <td>cigarcitybeer</td>\n",
       "      <td>https://facebook.com/cigarcitybeer</td>\n",
       "    </tr>\n",
       "  </tbody>\n",
       "</table>\n",
       "</div>"
      ],
      "text/plain": [
       "   beer_id                                          beer_name  \\\n",
       "0    58057                       Närke Kaggen Stormaktsporter   \n",
       "1     4934                              Westvleteren 12 (XII)   \n",
       "2   231441                    Schramm’s The Heart of Darkness   \n",
       "3   106749  B. Nektar Ken Schramm Signature Series - The H...   \n",
       "4   140581  Cigar City Pilot Series Dragonfruit Passion Fr...   \n",
       "\n",
       "                                    beer_description  beer_abv  \\\n",
       "0  Imperial Stout brewed with heather honey and a...       9.5   \n",
       "1  Westvleteren has the smallest output of the Tr...      10.2   \n",
       "2  The Heart of Darkness is our capstone mead. It...      14.0   \n",
       "3  Meadmaker Ken Schramm crafted the Heart of Dar...      14.0   \n",
       "4  Editor’s Note: This is an archived entry for t...       0.0   \n",
       "\n",
       "   beer_styleScore  beer_overallScore  beer_averageRating  beer_ratingCount  \\\n",
       "0            100.0              100.0            4.489771               557   \n",
       "1            100.0              100.0            4.426578              3332   \n",
       "2            100.0              100.0            4.423655                77   \n",
       "3            100.0              100.0            4.421873                50   \n",
       "4            100.0              100.0            4.420719                46   \n",
       "\n",
       "    beer_styleName                   brewery_name  brewery_type  \\\n",
       "0   Imperial Stout           Närke Kulturbryggeri  Microbrewery   \n",
       "1    Abt/Quadrupel  Westvleteren Abdij St. Sixtus  Microbrewery   \n",
       "2             Mead                 Schramm’s Mead       Meadery   \n",
       "3             Mead              B. Nektar Meadery       Meadery   \n",
       "4  Berliner Weisse             Cigar City Brewing  Microbrewery   \n",
       "\n",
       "         brewery_street  brewery_city brewery_state brewery_country  \\\n",
       "0      Beväringsgatan 2        Örebro           NaN          Sweden   \n",
       "1       Donkerstraat 12  Westvleteren           NaN         Belgium   \n",
       "2  327 West 9 Mile Road      Ferndale      Michigan   United States   \n",
       "3           1511 Jarvis      Ferndale      Michigan   United States   \n",
       "4  3924 W Spruce Street         Tampa       Florida   United States   \n",
       "\n",
       "  brewery_continent brewery_twitter                      brewery_facebook  \n",
       "0               NaN             NaN                                   NaN  \n",
       "1               NaN             NaN                                   NaN  \n",
       "2     North America    schrammsmead  https://facebook.com/SchrammsMeadery  \n",
       "3     North America         bnektar         https://facebook.com/b.nektar  \n",
       "4     North America   cigarcitybeer    https://facebook.com/cigarcitybeer  "
      ]
     },
     "execution_count": 95,
     "metadata": {},
     "output_type": "execute_result"
    }
   ],
   "source": [
    "df.head()"
   ]
  },
  {
   "cell_type": "code",
   "execution_count": 96,
   "metadata": {},
   "outputs": [
    {
     "data": {
      "text/plain": [
       "(220000, 18)"
      ]
     },
     "execution_count": 96,
     "metadata": {},
     "output_type": "execute_result"
    }
   ],
   "source": [
    "df.shape"
   ]
  },
  {
   "cell_type": "markdown",
   "metadata": {},
   "source": [
    "The data set contains 220,000 beers with 18 variables. There are 5 columns that are numerical and will be important for the analysis. The 'beer_description' column will be interesting to look at from a sentiment analysis perspective. However, it will not be applied for this project. Other columns such as brewery_name, brewery_street, brewery_city can be dropped from the data frame since they add no value for the current analysis. The brewery_country column will be useful to look at the variation in beer ratings across countries i.e. to answer the question which country produces the best beer? The brewery_continent column is to broad for an analysis and is expected not to give any insights. The last two columns give the links to the beer/brewery social media accounts. These will be converted to binary columns for analysis to analyze the effect of social media on the ratings and other variables."
   ]
  },
  {
   "cell_type": "code",
   "execution_count": 97,
   "metadata": {
    "collapsed": true
   },
   "outputs": [],
   "source": [
    "# drop unwanted columns from the dataframe\n",
    "cols = ['beer_name','beer_abv','beer_styleScore','beer_overallScore','beer_averageRating','beer_ratingCount','beer_styleName','brewery_type','brewery_state','brewery_country','brewery_twitter','brewery_facebook']\n",
    "df = df.loc[:,cols]"
   ]
  },
  {
   "cell_type": "code",
   "execution_count": 98,
   "metadata": {},
   "outputs": [
    {
     "data": {
      "text/html": [
       "<div>\n",
       "<style>\n",
       "    .dataframe thead tr:only-child th {\n",
       "        text-align: right;\n",
       "    }\n",
       "\n",
       "    .dataframe thead th {\n",
       "        text-align: left;\n",
       "    }\n",
       "\n",
       "    .dataframe tbody tr th {\n",
       "        vertical-align: top;\n",
       "    }\n",
       "</style>\n",
       "<table border=\"1\" class=\"dataframe\">\n",
       "  <thead>\n",
       "    <tr style=\"text-align: right;\">\n",
       "      <th></th>\n",
       "      <th>beer_name</th>\n",
       "      <th>beer_abv</th>\n",
       "      <th>beer_styleScore</th>\n",
       "      <th>beer_overallScore</th>\n",
       "      <th>beer_averageRating</th>\n",
       "      <th>beer_ratingCount</th>\n",
       "      <th>beer_styleName</th>\n",
       "      <th>brewery_type</th>\n",
       "      <th>brewery_state</th>\n",
       "      <th>brewery_country</th>\n",
       "      <th>brewery_twitter</th>\n",
       "      <th>brewery_facebook</th>\n",
       "    </tr>\n",
       "  </thead>\n",
       "  <tbody>\n",
       "    <tr>\n",
       "      <th>0</th>\n",
       "      <td>Närke Kaggen Stormaktsporter</td>\n",
       "      <td>9.5</td>\n",
       "      <td>100.0</td>\n",
       "      <td>100.0</td>\n",
       "      <td>4.489771</td>\n",
       "      <td>557</td>\n",
       "      <td>Imperial Stout</td>\n",
       "      <td>Microbrewery</td>\n",
       "      <td>NaN</td>\n",
       "      <td>Sweden</td>\n",
       "      <td>NaN</td>\n",
       "      <td>NaN</td>\n",
       "    </tr>\n",
       "    <tr>\n",
       "      <th>1</th>\n",
       "      <td>Westvleteren 12 (XII)</td>\n",
       "      <td>10.2</td>\n",
       "      <td>100.0</td>\n",
       "      <td>100.0</td>\n",
       "      <td>4.426578</td>\n",
       "      <td>3332</td>\n",
       "      <td>Abt/Quadrupel</td>\n",
       "      <td>Microbrewery</td>\n",
       "      <td>NaN</td>\n",
       "      <td>Belgium</td>\n",
       "      <td>NaN</td>\n",
       "      <td>NaN</td>\n",
       "    </tr>\n",
       "    <tr>\n",
       "      <th>2</th>\n",
       "      <td>Schramm’s The Heart of Darkness</td>\n",
       "      <td>14.0</td>\n",
       "      <td>100.0</td>\n",
       "      <td>100.0</td>\n",
       "      <td>4.423655</td>\n",
       "      <td>77</td>\n",
       "      <td>Mead</td>\n",
       "      <td>Meadery</td>\n",
       "      <td>Michigan</td>\n",
       "      <td>United States</td>\n",
       "      <td>schrammsmead</td>\n",
       "      <td>https://facebook.com/SchrammsMeadery</td>\n",
       "    </tr>\n",
       "    <tr>\n",
       "      <th>3</th>\n",
       "      <td>B. Nektar Ken Schramm Signature Series - The H...</td>\n",
       "      <td>14.0</td>\n",
       "      <td>100.0</td>\n",
       "      <td>100.0</td>\n",
       "      <td>4.421873</td>\n",
       "      <td>50</td>\n",
       "      <td>Mead</td>\n",
       "      <td>Meadery</td>\n",
       "      <td>Michigan</td>\n",
       "      <td>United States</td>\n",
       "      <td>bnektar</td>\n",
       "      <td>https://facebook.com/b.nektar</td>\n",
       "    </tr>\n",
       "    <tr>\n",
       "      <th>4</th>\n",
       "      <td>Cigar City Pilot Series Dragonfruit Passion Fr...</td>\n",
       "      <td>0.0</td>\n",
       "      <td>100.0</td>\n",
       "      <td>100.0</td>\n",
       "      <td>4.420719</td>\n",
       "      <td>46</td>\n",
       "      <td>Berliner Weisse</td>\n",
       "      <td>Microbrewery</td>\n",
       "      <td>Florida</td>\n",
       "      <td>United States</td>\n",
       "      <td>cigarcitybeer</td>\n",
       "      <td>https://facebook.com/cigarcitybeer</td>\n",
       "    </tr>\n",
       "  </tbody>\n",
       "</table>\n",
       "</div>"
      ],
      "text/plain": [
       "                                           beer_name  beer_abv  \\\n",
       "0                       Närke Kaggen Stormaktsporter       9.5   \n",
       "1                              Westvleteren 12 (XII)      10.2   \n",
       "2                    Schramm’s The Heart of Darkness      14.0   \n",
       "3  B. Nektar Ken Schramm Signature Series - The H...      14.0   \n",
       "4  Cigar City Pilot Series Dragonfruit Passion Fr...       0.0   \n",
       "\n",
       "   beer_styleScore  beer_overallScore  beer_averageRating  beer_ratingCount  \\\n",
       "0            100.0              100.0            4.489771               557   \n",
       "1            100.0              100.0            4.426578              3332   \n",
       "2            100.0              100.0            4.423655                77   \n",
       "3            100.0              100.0            4.421873                50   \n",
       "4            100.0              100.0            4.420719                46   \n",
       "\n",
       "    beer_styleName  brewery_type brewery_state brewery_country  \\\n",
       "0   Imperial Stout  Microbrewery           NaN          Sweden   \n",
       "1    Abt/Quadrupel  Microbrewery           NaN         Belgium   \n",
       "2             Mead       Meadery      Michigan   United States   \n",
       "3             Mead       Meadery      Michigan   United States   \n",
       "4  Berliner Weisse  Microbrewery       Florida   United States   \n",
       "\n",
       "  brewery_twitter                      brewery_facebook  \n",
       "0             NaN                                   NaN  \n",
       "1             NaN                                   NaN  \n",
       "2    schrammsmead  https://facebook.com/SchrammsMeadery  \n",
       "3         bnektar         https://facebook.com/b.nektar  \n",
       "4   cigarcitybeer    https://facebook.com/cigarcitybeer  "
      ]
     },
     "execution_count": 98,
     "metadata": {},
     "output_type": "execute_result"
    }
   ],
   "source": [
    "df.head()"
   ]
  },
  {
   "cell_type": "markdown",
   "metadata": {},
   "source": [
    "Now that we have only the required columns in the dataframe, we will give easily readable names to the columns."
   ]
  },
  {
   "cell_type": "code",
   "execution_count": 99,
   "metadata": {},
   "outputs": [
    {
     "data": {
      "text/html": [
       "<div>\n",
       "<style>\n",
       "    .dataframe thead tr:only-child th {\n",
       "        text-align: right;\n",
       "    }\n",
       "\n",
       "    .dataframe thead th {\n",
       "        text-align: left;\n",
       "    }\n",
       "\n",
       "    .dataframe tbody tr th {\n",
       "        vertical-align: top;\n",
       "    }\n",
       "</style>\n",
       "<table border=\"1\" class=\"dataframe\">\n",
       "  <thead>\n",
       "    <tr style=\"text-align: right;\">\n",
       "      <th></th>\n",
       "      <th>Name</th>\n",
       "      <th>ABV</th>\n",
       "      <th>StyleScore</th>\n",
       "      <th>OverallScore</th>\n",
       "      <th>AverageRating</th>\n",
       "      <th>RatingCount</th>\n",
       "      <th>BeerStyle</th>\n",
       "      <th>BreweryType</th>\n",
       "      <th>State</th>\n",
       "      <th>Country</th>\n",
       "      <th>Twitter</th>\n",
       "      <th>Facebook</th>\n",
       "    </tr>\n",
       "  </thead>\n",
       "  <tbody>\n",
       "    <tr>\n",
       "      <th>0</th>\n",
       "      <td>Närke Kaggen Stormaktsporter</td>\n",
       "      <td>9.5</td>\n",
       "      <td>100.0</td>\n",
       "      <td>100.0</td>\n",
       "      <td>4.489771</td>\n",
       "      <td>557</td>\n",
       "      <td>Imperial Stout</td>\n",
       "      <td>Microbrewery</td>\n",
       "      <td>NaN</td>\n",
       "      <td>Sweden</td>\n",
       "      <td>NaN</td>\n",
       "      <td>NaN</td>\n",
       "    </tr>\n",
       "    <tr>\n",
       "      <th>1</th>\n",
       "      <td>Westvleteren 12 (XII)</td>\n",
       "      <td>10.2</td>\n",
       "      <td>100.0</td>\n",
       "      <td>100.0</td>\n",
       "      <td>4.426578</td>\n",
       "      <td>3332</td>\n",
       "      <td>Abt/Quadrupel</td>\n",
       "      <td>Microbrewery</td>\n",
       "      <td>NaN</td>\n",
       "      <td>Belgium</td>\n",
       "      <td>NaN</td>\n",
       "      <td>NaN</td>\n",
       "    </tr>\n",
       "    <tr>\n",
       "      <th>2</th>\n",
       "      <td>Schramm’s The Heart of Darkness</td>\n",
       "      <td>14.0</td>\n",
       "      <td>100.0</td>\n",
       "      <td>100.0</td>\n",
       "      <td>4.423655</td>\n",
       "      <td>77</td>\n",
       "      <td>Mead</td>\n",
       "      <td>Meadery</td>\n",
       "      <td>Michigan</td>\n",
       "      <td>United States</td>\n",
       "      <td>schrammsmead</td>\n",
       "      <td>https://facebook.com/SchrammsMeadery</td>\n",
       "    </tr>\n",
       "    <tr>\n",
       "      <th>3</th>\n",
       "      <td>B. Nektar Ken Schramm Signature Series - The H...</td>\n",
       "      <td>14.0</td>\n",
       "      <td>100.0</td>\n",
       "      <td>100.0</td>\n",
       "      <td>4.421873</td>\n",
       "      <td>50</td>\n",
       "      <td>Mead</td>\n",
       "      <td>Meadery</td>\n",
       "      <td>Michigan</td>\n",
       "      <td>United States</td>\n",
       "      <td>bnektar</td>\n",
       "      <td>https://facebook.com/b.nektar</td>\n",
       "    </tr>\n",
       "    <tr>\n",
       "      <th>4</th>\n",
       "      <td>Cigar City Pilot Series Dragonfruit Passion Fr...</td>\n",
       "      <td>0.0</td>\n",
       "      <td>100.0</td>\n",
       "      <td>100.0</td>\n",
       "      <td>4.420719</td>\n",
       "      <td>46</td>\n",
       "      <td>Berliner Weisse</td>\n",
       "      <td>Microbrewery</td>\n",
       "      <td>Florida</td>\n",
       "      <td>United States</td>\n",
       "      <td>cigarcitybeer</td>\n",
       "      <td>https://facebook.com/cigarcitybeer</td>\n",
       "    </tr>\n",
       "  </tbody>\n",
       "</table>\n",
       "</div>"
      ],
      "text/plain": [
       "                                                Name   ABV  StyleScore  \\\n",
       "0                       Närke Kaggen Stormaktsporter   9.5       100.0   \n",
       "1                              Westvleteren 12 (XII)  10.2       100.0   \n",
       "2                    Schramm’s The Heart of Darkness  14.0       100.0   \n",
       "3  B. Nektar Ken Schramm Signature Series - The H...  14.0       100.0   \n",
       "4  Cigar City Pilot Series Dragonfruit Passion Fr...   0.0       100.0   \n",
       "\n",
       "   OverallScore  AverageRating  RatingCount        BeerStyle   BreweryType  \\\n",
       "0         100.0       4.489771          557   Imperial Stout  Microbrewery   \n",
       "1         100.0       4.426578         3332    Abt/Quadrupel  Microbrewery   \n",
       "2         100.0       4.423655           77             Mead       Meadery   \n",
       "3         100.0       4.421873           50             Mead       Meadery   \n",
       "4         100.0       4.420719           46  Berliner Weisse  Microbrewery   \n",
       "\n",
       "      State        Country        Twitter  \\\n",
       "0       NaN         Sweden            NaN   \n",
       "1       NaN        Belgium            NaN   \n",
       "2  Michigan  United States   schrammsmead   \n",
       "3  Michigan  United States        bnektar   \n",
       "4   Florida  United States  cigarcitybeer   \n",
       "\n",
       "                               Facebook  \n",
       "0                                   NaN  \n",
       "1                                   NaN  \n",
       "2  https://facebook.com/SchrammsMeadery  \n",
       "3         https://facebook.com/b.nektar  \n",
       "4    https://facebook.com/cigarcitybeer  "
      ]
     },
     "execution_count": 99,
     "metadata": {},
     "output_type": "execute_result"
    }
   ],
   "source": [
    "df.columns = ['Name','ABV','StyleScore','OverallScore','AverageRating','RatingCount','BeerStyle','BreweryType','State','Country','Twitter','Facebook']\n",
    "df.head()"
   ]
  },
  {
   "cell_type": "markdown",
   "metadata": {},
   "source": [
    "As a next step, we will look at the summary statistics for the numerical columns to understand the data."
   ]
  },
  {
   "cell_type": "code",
   "execution_count": 100,
   "metadata": {},
   "outputs": [
    {
     "data": {
      "text/html": [
       "<div>\n",
       "<style>\n",
       "    .dataframe thead tr:only-child th {\n",
       "        text-align: right;\n",
       "    }\n",
       "\n",
       "    .dataframe thead th {\n",
       "        text-align: left;\n",
       "    }\n",
       "\n",
       "    .dataframe tbody tr th {\n",
       "        vertical-align: top;\n",
       "    }\n",
       "</style>\n",
       "<table border=\"1\" class=\"dataframe\">\n",
       "  <thead>\n",
       "    <tr style=\"text-align: right;\">\n",
       "      <th></th>\n",
       "      <th>ABV</th>\n",
       "      <th>StyleScore</th>\n",
       "      <th>OverallScore</th>\n",
       "      <th>AverageRating</th>\n",
       "      <th>RatingCount</th>\n",
       "    </tr>\n",
       "  </thead>\n",
       "  <tbody>\n",
       "    <tr>\n",
       "      <th>count</th>\n",
       "      <td>220000.000000</td>\n",
       "      <td>130759.000000</td>\n",
       "      <td>130759.000000</td>\n",
       "      <td>220000.000000</td>\n",
       "      <td>220000.000000</td>\n",
       "    </tr>\n",
       "    <tr>\n",
       "      <th>mean</th>\n",
       "      <td>5.914893</td>\n",
       "      <td>52.691640</td>\n",
       "      <td>54.141304</td>\n",
       "      <td>3.090490</td>\n",
       "      <td>35.734341</td>\n",
       "    </tr>\n",
       "    <tr>\n",
       "      <th>std</th>\n",
       "      <td>2.597578</td>\n",
       "      <td>30.802735</td>\n",
       "      <td>30.645764</td>\n",
       "      <td>0.372849</td>\n",
       "      <td>127.098904</td>\n",
       "    </tr>\n",
       "    <tr>\n",
       "      <th>min</th>\n",
       "      <td>0.000000</td>\n",
       "      <td>0.000000</td>\n",
       "      <td>0.000000</td>\n",
       "      <td>1.800000</td>\n",
       "      <td>0.000000</td>\n",
       "    </tr>\n",
       "    <tr>\n",
       "      <th>25%</th>\n",
       "      <td>4.700000</td>\n",
       "      <td>29.367154</td>\n",
       "      <td>31.690527</td>\n",
       "      <td>2.878205</td>\n",
       "      <td>5.000000</td>\n",
       "    </tr>\n",
       "    <tr>\n",
       "      <th>50%</th>\n",
       "      <td>5.500000</td>\n",
       "      <td>49.417950</td>\n",
       "      <td>51.617950</td>\n",
       "      <td>3.112463</td>\n",
       "      <td>10.000000</td>\n",
       "    </tr>\n",
       "    <tr>\n",
       "      <th>75%</th>\n",
       "      <td>7.000000</td>\n",
       "      <td>81.792747</td>\n",
       "      <td>83.094671</td>\n",
       "      <td>3.340448</td>\n",
       "      <td>25.000000</td>\n",
       "    </tr>\n",
       "    <tr>\n",
       "      <th>max</th>\n",
       "      <td>73.000000</td>\n",
       "      <td>100.000000</td>\n",
       "      <td>100.000000</td>\n",
       "      <td>4.489771</td>\n",
       "      <td>5182.000000</td>\n",
       "    </tr>\n",
       "  </tbody>\n",
       "</table>\n",
       "</div>"
      ],
      "text/plain": [
       "                 ABV     StyleScore   OverallScore  AverageRating  \\\n",
       "count  220000.000000  130759.000000  130759.000000  220000.000000   \n",
       "mean        5.914893      52.691640      54.141304       3.090490   \n",
       "std         2.597578      30.802735      30.645764       0.372849   \n",
       "min         0.000000       0.000000       0.000000       1.800000   \n",
       "25%         4.700000      29.367154      31.690527       2.878205   \n",
       "50%         5.500000      49.417950      51.617950       3.112463   \n",
       "75%         7.000000      81.792747      83.094671       3.340448   \n",
       "max        73.000000     100.000000     100.000000       4.489771   \n",
       "\n",
       "         RatingCount  \n",
       "count  220000.000000  \n",
       "mean       35.734341  \n",
       "std       127.098904  \n",
       "min         0.000000  \n",
       "25%         5.000000  \n",
       "50%        10.000000  \n",
       "75%        25.000000  \n",
       "max      5182.000000  "
      ]
     },
     "execution_count": 100,
     "metadata": {},
     "output_type": "execute_result"
    }
   ],
   "source": [
    "df.describe()"
   ]
  },
  {
   "cell_type": "markdown",
   "metadata": {},
   "source": [
    "There are beers with a ABV values of 0. This is very interesting. We need to look at these more closely. These could be errors in the data or missing values coded as 0. The mean value of ABV is about 6%. There are beers ABV as high as 73%. These are rare and maybe outliers in the data. \n",
    "\n",
    "The zero values in the rating count column is suspect. A beer cannot have an average rating without anybody reviewing it! We will also look at these closely.\n",
    "\n",
    "The zero values in the overall score and style score are reasonable. These are percentile values and the beers with a 0 style score or overall score are basically at the bottom of the rankings. "
   ]
  },
  {
   "cell_type": "markdown",
   "metadata": {},
   "source": [
    "### ABV\n",
    "\n",
    "We will take a closer look at the 0% ABV values."
   ]
  },
  {
   "cell_type": "code",
   "execution_count": 101,
   "metadata": {},
   "outputs": [
    {
     "data": {
      "text/plain": [
       "12354"
      ]
     },
     "execution_count": 101,
     "metadata": {},
     "output_type": "execute_result"
    }
   ],
   "source": [
    "len(df[df['ABV'] == 0])"
   ]
  },
  {
   "cell_type": "markdown",
   "metadata": {},
   "source": [
    "There are 12,354 beers with 0% ABV. "
   ]
  },
  {
   "cell_type": "code",
   "execution_count": 102,
   "metadata": {},
   "outputs": [
    {
     "data": {
      "text/html": [
       "<div>\n",
       "<style>\n",
       "    .dataframe thead tr:only-child th {\n",
       "        text-align: right;\n",
       "    }\n",
       "\n",
       "    .dataframe thead th {\n",
       "        text-align: left;\n",
       "    }\n",
       "\n",
       "    .dataframe tbody tr th {\n",
       "        vertical-align: top;\n",
       "    }\n",
       "</style>\n",
       "<table border=\"1\" class=\"dataframe\">\n",
       "  <thead>\n",
       "    <tr style=\"text-align: right;\">\n",
       "      <th></th>\n",
       "      <th>ABV</th>\n",
       "      <th>StyleScore</th>\n",
       "      <th>OverallScore</th>\n",
       "      <th>AverageRating</th>\n",
       "      <th>RatingCount</th>\n",
       "    </tr>\n",
       "  </thead>\n",
       "  <tbody>\n",
       "    <tr>\n",
       "      <th>count</th>\n",
       "      <td>12354.0</td>\n",
       "      <td>6098.000000</td>\n",
       "      <td>6098.000000</td>\n",
       "      <td>12354.000000</td>\n",
       "      <td>12354.000000</td>\n",
       "    </tr>\n",
       "    <tr>\n",
       "      <th>mean</th>\n",
       "      <td>0.0</td>\n",
       "      <td>36.047717</td>\n",
       "      <td>35.701583</td>\n",
       "      <td>2.948276</td>\n",
       "      <td>10.076008</td>\n",
       "    </tr>\n",
       "    <tr>\n",
       "      <th>std</th>\n",
       "      <td>0.0</td>\n",
       "      <td>34.235343</td>\n",
       "      <td>34.130871</td>\n",
       "      <td>0.378459</td>\n",
       "      <td>17.009527</td>\n",
       "    </tr>\n",
       "    <tr>\n",
       "      <th>min</th>\n",
       "      <td>0.0</td>\n",
       "      <td>0.000000</td>\n",
       "      <td>0.000000</td>\n",
       "      <td>1.800000</td>\n",
       "      <td>0.000000</td>\n",
       "    </tr>\n",
       "    <tr>\n",
       "      <th>25%</th>\n",
       "      <td>0.0</td>\n",
       "      <td>0.000000</td>\n",
       "      <td>0.000000</td>\n",
       "      <td>2.713145</td>\n",
       "      <td>2.000000</td>\n",
       "    </tr>\n",
       "    <tr>\n",
       "      <th>50%</th>\n",
       "      <td>0.0</td>\n",
       "      <td>32.996299</td>\n",
       "      <td>32.599852</td>\n",
       "      <td>2.974803</td>\n",
       "      <td>5.000000</td>\n",
       "    </tr>\n",
       "    <tr>\n",
       "      <th>75%</th>\n",
       "      <td>0.0</td>\n",
       "      <td>65.400000</td>\n",
       "      <td>65.096803</td>\n",
       "      <td>3.194811</td>\n",
       "      <td>11.000000</td>\n",
       "    </tr>\n",
       "    <tr>\n",
       "      <th>max</th>\n",
       "      <td>0.0</td>\n",
       "      <td>100.000000</td>\n",
       "      <td>100.000000</td>\n",
       "      <td>4.420719</td>\n",
       "      <td>375.000000</td>\n",
       "    </tr>\n",
       "  </tbody>\n",
       "</table>\n",
       "</div>"
      ],
      "text/plain": [
       "           ABV   StyleScore  OverallScore  AverageRating   RatingCount\n",
       "count  12354.0  6098.000000   6098.000000   12354.000000  12354.000000\n",
       "mean       0.0    36.047717     35.701583       2.948276     10.076008\n",
       "std        0.0    34.235343     34.130871       0.378459     17.009527\n",
       "min        0.0     0.000000      0.000000       1.800000      0.000000\n",
       "25%        0.0     0.000000      0.000000       2.713145      2.000000\n",
       "50%        0.0    32.996299     32.599852       2.974803      5.000000\n",
       "75%        0.0    65.400000     65.096803       3.194811     11.000000\n",
       "max        0.0   100.000000    100.000000       4.420719    375.000000"
      ]
     },
     "execution_count": 102,
     "metadata": {},
     "output_type": "execute_result"
    }
   ],
   "source": [
    "df[df['ABV'] == 0].describe()"
   ]
  },
  {
   "cell_type": "markdown",
   "metadata": {},
   "source": [
    "The zero ABV values vary across all ratings. It is very odd that beers with average rating as high as 4.42/5 will have 0% alochol. We will consider the zeroes as missing values in the dataset. \n",
    "\n",
    "We can fill the missing values by taking the mean ABV in the different rating bins. For example, we can get the mean of the average rating of all beers with ratings between 4 and 4.5 and use that value for all beers with missing values in that bin. However, to use this strategy we need to first see if the ABV and average rating are correlated. "
   ]
  },
  {
   "cell_type": "code",
   "execution_count": 103,
   "metadata": {},
   "outputs": [
    {
     "data": {
      "image/png": "[encoded data removed]",
      "text/plain": [
       "<matplotlib.figure.Figure at 0x20801525940>"
      ]
     },
     "metadata": {},
     "output_type": "display_data"
    }
   ],
   "source": [
    "#plot ABV and average rating\n",
    "sns.regplot(x=df.ABV,y=df.AverageRating, ci=False,)\n",
    "plt.xlabel('ABV %',size=15)\n",
    "plt.ylabel('Average Rating',size=15)\n",
    "plt.title('ABV % vs Average Rating',size=15)\n",
    "plt.show()"
   ]
  },
  {
   "cell_type": "markdown",
   "metadata": {},
   "source": [
    "There seems to be a very strong correlation between the ABV and Average rating. However, this includes the 0 values and the very high ABV values that can be considered outliers. We will plot a boxplot to get a sense of the outliers."
   ]
  },
  {
   "cell_type": "code",
   "execution_count": 104,
   "metadata": {},
   "outputs": [
    {
     "data": {
      "image/png": "[encoded data removed]",
      "text/plain": [
       "<matplotlib.figure.Figure at 0x208099229b0>"
      ]
     },
     "metadata": {},
     "output_type": "display_data"
    }
   ],
   "source": [
    "plt.figure(figsize=(15,4))\n",
    "sns.boxplot(y=df.ABV,orient='h')\n",
    "plt.xlabel('ABV %', size=15)\n",
    "plt.show()"
   ]
  },
  {
   "cell_type": "markdown",
   "metadata": {},
   "source": [
    "We can consider any value above 10% ABV and less than 2% as outliers. We will remove the outliers and plot the correlation again."
   ]
  },
  {
   "cell_type": "code",
   "execution_count": 105,
   "metadata": {},
   "outputs": [
    {
     "data": {
      "image/png": "[encoded data removed]",
      "text/plain": [
       "<matplotlib.figure.Figure at 0x208099f2f60>"
      ]
     },
     "metadata": {},
     "output_type": "display_data"
    }
   ],
   "source": [
    "df1 = df[(df['ABV'] > 1) & (df['ABV'] <= 10)]\n",
    "sns.regplot(x=df1.ABV,y=df1.AverageRating, ci=False,scatter_kws={\"color\":\"red\",\"alpha\":0.1},line_kws={\"color\":\"b\",\"alpha\":1.0,\"lw\":5})\n",
    "plt.xlabel('ABV %',size=15)\n",
    "plt.ylabel('Average Rating',size=15)\n",
    "plt.title('ABV % vs Average Rating',size=15)\n",
    "plt.show()"
   ]
  },
  {
   "cell_type": "markdown",
   "metadata": {},
   "source": [
    "There is a strong positive correlation between the ABV % and Average Rating. We can calculate a correlation coefficient to understand the correlation better. We will need to look at the distribution for the ABV and Average Rating. We will look at these without the outliers. "
   ]
  },
  {
   "cell_type": "code",
   "execution_count": 106,
   "metadata": {},
   "outputs": [
    {
     "data": {
      "image/png": "[encoded data removed]",
      "text/plain": [
       "<matplotlib.figure.Figure at 0x20801493eb8>"
      ]
     },
     "metadata": {},
     "output_type": "display_data"
    }
   ],
   "source": [
    "plt.figure(figsize=(20,8))\n",
    "plt.subplot(1,2,1)\n",
    "sns.distplot(df1.ABV)\n",
    "plt.xlabel('ABV %',size=15)\n",
    "plt.title('ABV Distribution',size=15)\n",
    "\n",
    "plt.subplot(1,2,2)\n",
    "sns.distplot(df1.AverageRating, color='r')\n",
    "plt.xlabel('Average Rating',size=15)\n",
    "plt.title('Average Rating Distribution',size=15)\n",
    "\n",
    "plt.tight_layout()\n",
    "plt.show()"
   ]
  },
  {
   "cell_type": "markdown",
   "metadata": {},
   "source": [
    "The ABV % does not look normally distributed. The average rating is clearly normally distributed. Let's test the distributions."
   ]
  },
  {
   "cell_type": "code",
   "execution_count": 107,
   "metadata": {},
   "outputs": [
    {
     "data": {
      "text/plain": [
       "NormaltestResult(statistic=10142.138374385369, pvalue=0.0)"
      ]
     },
     "execution_count": 107,
     "metadata": {},
     "output_type": "execute_result"
    }
   ],
   "source": [
    "from scipy import stats\n",
    "stats.normaltest(df1.ABV)"
   ]
  },
  {
   "cell_type": "code",
   "execution_count": 108,
   "metadata": {},
   "outputs": [
    {
     "data": {
      "text/plain": [
       "NormaltestResult(statistic=10267.363727749587, pvalue=0.0)"
      ]
     },
     "execution_count": 108,
     "metadata": {},
     "output_type": "execute_result"
    }
   ],
   "source": [
    "stats.normaltest(df1.AverageRating)"
   ]
  },
  {
   "cell_type": "markdown",
   "metadata": {},
   "source": [
    "The test confirms that the ABV % is not normally distributed. However, the p-value for the Average Rating also is 0, which means we have to reject the null hypothesis that distribution is normal. This is surprising given that the distribution looks normal visually. We can calculate a spearman correlation coefficient for the data."
   ]
  },
  {
   "cell_type": "code",
   "execution_count": 109,
   "metadata": {},
   "outputs": [
    {
     "data": {
      "text/plain": [
       "SpearmanrResult(correlation=0.4241677227393798, pvalue=0.0)"
      ]
     },
     "execution_count": 109,
     "metadata": {},
     "output_type": "execute_result"
    }
   ],
   "source": [
    "stats.spearmanr(df1.ABV,df1.AverageRating)"
   ]
  },
  {
   "cell_type": "markdown",
   "metadata": {},
   "source": [
    "The p-value is 0. Hence we can reject the null hypothesis that there is no correlation. However, the correlation coefficient is somewhat low. Since there is some correlation and no other direct methods available, we can stick to the strategy of filling the ABV values according to the average rating bins. We wil replace all values below a 1% alcohol level.\n",
    "\n",
    "We will calculate the means (without outliers) for the different bins and then loop through the dataframe to replace the values accordingly."
   ]
  },
  {
   "cell_type": "code",
   "execution_count": 110,
   "metadata": {
    "collapsed": true
   },
   "outputs": [],
   "source": [
    "meanAbv_4 = df1[df1['AverageRating'] >= 4].ABV.mean()\n",
    "meanAbv_3 = df1[(df1['AverageRating'] >= 3) & (df1['AverageRating'] < 4) ].ABV.mean()\n",
    "meanAbv_2 = df1[(df1['AverageRating'] >= 2) & (df1['AverageRating'] < 3) ].ABV.mean()\n",
    "meanAbv_1 = df1[(df1['AverageRating'] >= 1) & (df1['AverageRating'] < 2) ].ABV.mean()\n",
    "mean_Abv_0 = df1[df1['AverageRating'] < 1].ABV.mean()"
   ]
  },
  {
   "cell_type": "code",
   "execution_count": 111,
   "metadata": {
    "collapsed": true
   },
   "outputs": [],
   "source": [
    "#create a temp dataframe for replacing zero values in ABV\n",
    "df_temp = df"
   ]
  },
  {
   "cell_type": "code",
   "execution_count": 112,
   "metadata": {
    "collapsed": true
   },
   "outputs": [],
   "source": [
    "for i in range(len(df_temp.ABV)) :\n",
    "               if df_temp.iloc[i].ABV < 1:\n",
    "                   if df_temp.iloc[i].AverageRating >= 4:\n",
    "                       df_temp.iloc[i,1] = meanAbv_4\n",
    "                   elif (df_temp.iloc[i].AverageRating >= 3) & (df_temp.iloc[i].AverageRating < 4):\n",
    "                       df_temp.iloc[i,1] = meanAbv_3\n",
    "                   elif (df_temp.iloc[i].AverageRating >= 2) & (df_temp.iloc[i].AverageRating < 3):\n",
    "                       df_temp.iloc[i,1] = meanAbv_2\n",
    "                   elif (df_temp.iloc[i].AverageRating >= 1) & (df_temp.iloc[i].AverageRating < 2):\n",
    "                       df_temp.iloc[i,1] = meanAbv_1\n",
    "                   else:\n",
    "                       df_temp.iloc[i,1] = mean_Abv_0\n",
    "                    "
   ]
  },
  {
   "cell_type": "markdown",
   "metadata": {},
   "source": [
    "Let's check if there are any more zero values in the ABV column and if the values have been replaced."
   ]
  },
  {
   "cell_type": "code",
   "execution_count": 113,
   "metadata": {},
   "outputs": [
    {
     "data": {
      "text/html": [
       "<div>\n",
       "<style>\n",
       "    .dataframe thead tr:only-child th {\n",
       "        text-align: right;\n",
       "    }\n",
       "\n",
       "    .dataframe thead th {\n",
       "        text-align: left;\n",
       "    }\n",
       "\n",
       "    .dataframe tbody tr th {\n",
       "        vertical-align: top;\n",
       "    }\n",
       "</style>\n",
       "<table border=\"1\" class=\"dataframe\">\n",
       "  <thead>\n",
       "    <tr style=\"text-align: right;\">\n",
       "      <th></th>\n",
       "      <th>ABV</th>\n",
       "      <th>StyleScore</th>\n",
       "      <th>OverallScore</th>\n",
       "      <th>AverageRating</th>\n",
       "      <th>RatingCount</th>\n",
       "    </tr>\n",
       "  </thead>\n",
       "  <tbody>\n",
       "    <tr>\n",
       "      <th>count</th>\n",
       "      <td>220000.000000</td>\n",
       "      <td>130759.000000</td>\n",
       "      <td>130759.000000</td>\n",
       "      <td>220000.000000</td>\n",
       "      <td>220000.000000</td>\n",
       "    </tr>\n",
       "    <tr>\n",
       "      <th>mean</th>\n",
       "      <td>6.249801</td>\n",
       "      <td>52.691640</td>\n",
       "      <td>54.141304</td>\n",
       "      <td>3.090490</td>\n",
       "      <td>35.734341</td>\n",
       "    </tr>\n",
       "    <tr>\n",
       "      <th>std</th>\n",
       "      <td>2.148592</td>\n",
       "      <td>30.802735</td>\n",
       "      <td>30.645764</td>\n",
       "      <td>0.372849</td>\n",
       "      <td>127.098904</td>\n",
       "    </tr>\n",
       "    <tr>\n",
       "      <th>min</th>\n",
       "      <td>1.000000</td>\n",
       "      <td>0.000000</td>\n",
       "      <td>0.000000</td>\n",
       "      <td>1.800000</td>\n",
       "      <td>0.000000</td>\n",
       "    </tr>\n",
       "    <tr>\n",
       "      <th>25%</th>\n",
       "      <td>5.000000</td>\n",
       "      <td>29.367154</td>\n",
       "      <td>31.690527</td>\n",
       "      <td>2.878205</td>\n",
       "      <td>5.000000</td>\n",
       "    </tr>\n",
       "    <tr>\n",
       "      <th>50%</th>\n",
       "      <td>5.700000</td>\n",
       "      <td>49.417950</td>\n",
       "      <td>51.617950</td>\n",
       "      <td>3.112463</td>\n",
       "      <td>10.000000</td>\n",
       "    </tr>\n",
       "    <tr>\n",
       "      <th>75%</th>\n",
       "      <td>7.000000</td>\n",
       "      <td>81.792747</td>\n",
       "      <td>83.094671</td>\n",
       "      <td>3.340448</td>\n",
       "      <td>25.000000</td>\n",
       "    </tr>\n",
       "    <tr>\n",
       "      <th>max</th>\n",
       "      <td>73.000000</td>\n",
       "      <td>100.000000</td>\n",
       "      <td>100.000000</td>\n",
       "      <td>4.489771</td>\n",
       "      <td>5182.000000</td>\n",
       "    </tr>\n",
       "  </tbody>\n",
       "</table>\n",
       "</div>"
      ],
      "text/plain": [
       "                 ABV     StyleScore   OverallScore  AverageRating  \\\n",
       "count  220000.000000  130759.000000  130759.000000  220000.000000   \n",
       "mean        6.249801      52.691640      54.141304       3.090490   \n",
       "std         2.148592      30.802735      30.645764       0.372849   \n",
       "min         1.000000       0.000000       0.000000       1.800000   \n",
       "25%         5.000000      29.367154      31.690527       2.878205   \n",
       "50%         5.700000      49.417950      51.617950       3.112463   \n",
       "75%         7.000000      81.792747      83.094671       3.340448   \n",
       "max        73.000000     100.000000     100.000000       4.489771   \n",
       "\n",
       "         RatingCount  \n",
       "count  220000.000000  \n",
       "mean       35.734341  \n",
       "std       127.098904  \n",
       "min         0.000000  \n",
       "25%         5.000000  \n",
       "50%        10.000000  \n",
       "75%        25.000000  \n",
       "max      5182.000000  "
      ]
     },
     "execution_count": 113,
     "metadata": {},
     "output_type": "execute_result"
    }
   ],
   "source": [
    "df_temp.describe()"
   ]
  },
  {
   "cell_type": "code",
   "execution_count": 114,
   "metadata": {},
   "outputs": [
    {
     "data": {
      "text/html": [
       "<div>\n",
       "<style>\n",
       "    .dataframe thead tr:only-child th {\n",
       "        text-align: right;\n",
       "    }\n",
       "\n",
       "    .dataframe thead th {\n",
       "        text-align: left;\n",
       "    }\n",
       "\n",
       "    .dataframe tbody tr th {\n",
       "        vertical-align: top;\n",
       "    }\n",
       "</style>\n",
       "<table border=\"1\" class=\"dataframe\">\n",
       "  <thead>\n",
       "    <tr style=\"text-align: right;\">\n",
       "      <th></th>\n",
       "      <th>Name</th>\n",
       "      <th>ABV</th>\n",
       "      <th>StyleScore</th>\n",
       "      <th>OverallScore</th>\n",
       "      <th>AverageRating</th>\n",
       "      <th>RatingCount</th>\n",
       "      <th>BeerStyle</th>\n",
       "      <th>BreweryType</th>\n",
       "      <th>State</th>\n",
       "      <th>Country</th>\n",
       "      <th>Twitter</th>\n",
       "      <th>Facebook</th>\n",
       "    </tr>\n",
       "  </thead>\n",
       "  <tbody>\n",
       "    <tr>\n",
       "      <th>0</th>\n",
       "      <td>Närke Kaggen Stormaktsporter</td>\n",
       "      <td>9.500000</td>\n",
       "      <td>100.0</td>\n",
       "      <td>100.0</td>\n",
       "      <td>4.489771</td>\n",
       "      <td>557</td>\n",
       "      <td>Imperial Stout</td>\n",
       "      <td>Microbrewery</td>\n",
       "      <td>NaN</td>\n",
       "      <td>Sweden</td>\n",
       "      <td>NaN</td>\n",
       "      <td>NaN</td>\n",
       "    </tr>\n",
       "    <tr>\n",
       "      <th>1</th>\n",
       "      <td>Westvleteren 12 (XII)</td>\n",
       "      <td>10.200000</td>\n",
       "      <td>100.0</td>\n",
       "      <td>100.0</td>\n",
       "      <td>4.426578</td>\n",
       "      <td>3332</td>\n",
       "      <td>Abt/Quadrupel</td>\n",
       "      <td>Microbrewery</td>\n",
       "      <td>NaN</td>\n",
       "      <td>Belgium</td>\n",
       "      <td>NaN</td>\n",
       "      <td>NaN</td>\n",
       "    </tr>\n",
       "    <tr>\n",
       "      <th>2</th>\n",
       "      <td>Schramm’s The Heart of Darkness</td>\n",
       "      <td>14.000000</td>\n",
       "      <td>100.0</td>\n",
       "      <td>100.0</td>\n",
       "      <td>4.423655</td>\n",
       "      <td>77</td>\n",
       "      <td>Mead</td>\n",
       "      <td>Meadery</td>\n",
       "      <td>Michigan</td>\n",
       "      <td>United States</td>\n",
       "      <td>schrammsmead</td>\n",
       "      <td>https://facebook.com/SchrammsMeadery</td>\n",
       "    </tr>\n",
       "    <tr>\n",
       "      <th>3</th>\n",
       "      <td>B. Nektar Ken Schramm Signature Series - The H...</td>\n",
       "      <td>14.000000</td>\n",
       "      <td>100.0</td>\n",
       "      <td>100.0</td>\n",
       "      <td>4.421873</td>\n",
       "      <td>50</td>\n",
       "      <td>Mead</td>\n",
       "      <td>Meadery</td>\n",
       "      <td>Michigan</td>\n",
       "      <td>United States</td>\n",
       "      <td>bnektar</td>\n",
       "      <td>https://facebook.com/b.nektar</td>\n",
       "    </tr>\n",
       "    <tr>\n",
       "      <th>4</th>\n",
       "      <td>Cigar City Pilot Series Dragonfruit Passion Fr...</td>\n",
       "      <td>7.608336</td>\n",
       "      <td>100.0</td>\n",
       "      <td>100.0</td>\n",
       "      <td>4.420719</td>\n",
       "      <td>46</td>\n",
       "      <td>Berliner Weisse</td>\n",
       "      <td>Microbrewery</td>\n",
       "      <td>Florida</td>\n",
       "      <td>United States</td>\n",
       "      <td>cigarcitybeer</td>\n",
       "      <td>https://facebook.com/cigarcitybeer</td>\n",
       "    </tr>\n",
       "  </tbody>\n",
       "</table>\n",
       "</div>"
      ],
      "text/plain": [
       "                                                Name        ABV  StyleScore  \\\n",
       "0                       Närke Kaggen Stormaktsporter   9.500000       100.0   \n",
       "1                              Westvleteren 12 (XII)  10.200000       100.0   \n",
       "2                    Schramm’s The Heart of Darkness  14.000000       100.0   \n",
       "3  B. Nektar Ken Schramm Signature Series - The H...  14.000000       100.0   \n",
       "4  Cigar City Pilot Series Dragonfruit Passion Fr...   7.608336       100.0   \n",
       "\n",
       "   OverallScore  AverageRating  RatingCount        BeerStyle   BreweryType  \\\n",
       "0         100.0       4.489771          557   Imperial Stout  Microbrewery   \n",
       "1         100.0       4.426578         3332    Abt/Quadrupel  Microbrewery   \n",
       "2         100.0       4.423655           77             Mead       Meadery   \n",
       "3         100.0       4.421873           50             Mead       Meadery   \n",
       "4         100.0       4.420719           46  Berliner Weisse  Microbrewery   \n",
       "\n",
       "      State        Country        Twitter  \\\n",
       "0       NaN         Sweden            NaN   \n",
       "1       NaN        Belgium            NaN   \n",
       "2  Michigan  United States   schrammsmead   \n",
       "3  Michigan  United States        bnektar   \n",
       "4   Florida  United States  cigarcitybeer   \n",
       "\n",
       "                               Facebook  \n",
       "0                                   NaN  \n",
       "1                                   NaN  \n",
       "2  https://facebook.com/SchrammsMeadery  \n",
       "3         https://facebook.com/b.nektar  \n",
       "4    https://facebook.com/cigarcitybeer  "
      ]
     },
     "execution_count": 114,
     "metadata": {},
     "output_type": "execute_result"
    }
   ],
   "source": [
    "df_temp.head()"
   ]
  },
  {
   "cell_type": "markdown",
   "metadata": {},
   "source": [
    "Looks like all the zero values in the ABV column have been replaced. We previously saw that the 5th observation (index 4) had an ABV of zero. Now, we see that it has a value of 7.6, which was the average ABV for all beers with a rating 4 or higher."
   ]
  },
  {
   "cell_type": "markdown",
   "metadata": {},
   "source": [
    "### Rating Count\n",
    "\n",
    "Now,we will take a look at the rating count column. This is the number of ratings/reviews a beer has recieved on the website. As mentioned earlier, the rating count cannot be zero. We will assume that the missing values are coded as zero. "
   ]
  },
  {
   "cell_type": "code",
   "execution_count": 115,
   "metadata": {},
   "outputs": [
    {
     "data": {
      "text/plain": [
       "33"
      ]
     },
     "execution_count": 115,
     "metadata": {},
     "output_type": "execute_result"
    }
   ],
   "source": [
    "len(df_temp[df_temp.RatingCount == 0])"
   ]
  },
  {
   "cell_type": "markdown",
   "metadata": {},
   "source": [
    "There are only 33 observation with zero ratings. It will be safe to assume a mean value for the rating count for the missing values."
   ]
  },
  {
   "cell_type": "code",
   "execution_count": 116,
   "metadata": {},
   "outputs": [
    {
     "data": {
      "text/plain": [
       "count    220000.000000\n",
       "mean         35.734341\n",
       "std         127.098904\n",
       "min           0.000000\n",
       "25%           5.000000\n",
       "50%          10.000000\n",
       "75%          25.000000\n",
       "max        5182.000000\n",
       "Name: RatingCount, dtype: float64"
      ]
     },
     "execution_count": 116,
     "metadata": {},
     "output_type": "execute_result"
    }
   ],
   "source": [
    "df['RatingCount'].describe()"
   ]
  },
  {
   "cell_type": "code",
   "execution_count": 117,
   "metadata": {
    "collapsed": true
   },
   "outputs": [],
   "source": [
    "import numpy as np\n",
    "df_temp['RatingCount'] = np.where(df['RatingCount'] == 0, 35.73,df_temp['RatingCount'])"
   ]
  },
  {
   "cell_type": "code",
   "execution_count": 118,
   "metadata": {},
   "outputs": [
    {
     "data": {
      "text/plain": [
       "0"
      ]
     },
     "execution_count": 118,
     "metadata": {},
     "output_type": "execute_result"
    }
   ],
   "source": [
    "len(df_temp[df_temp.RatingCount == 0])"
   ]
  },
  {
   "cell_type": "markdown",
   "metadata": {},
   "source": [
    "We have successfully replaced the missing values in the rating count column."
   ]
  },
  {
   "cell_type": "markdown",
   "metadata": {},
   "source": [
    "### Social Media\n",
    "\n",
    "We will be using the facebook and twitter columns to analyze the influence of social media on the rating counts and average rating. We will asumme that the missing values indicate that the beer/brewery does not have a social media account. We will create the following binary columns - has_twitter and has_facebook for analysis."
   ]
  },
  {
   "cell_type": "code",
   "execution_count": 119,
   "metadata": {},
   "outputs": [
    {
     "data": {
      "text/plain": [
       "110147"
      ]
     },
     "execution_count": 119,
     "metadata": {},
     "output_type": "execute_result"
    }
   ],
   "source": [
    "df_temp.Twitter.isnull().sum()"
   ]
  },
  {
   "cell_type": "code",
   "execution_count": 120,
   "metadata": {},
   "outputs": [
    {
     "data": {
      "text/plain": [
       "60080"
      ]
     },
     "execution_count": 120,
     "metadata": {},
     "output_type": "execute_result"
    }
   ],
   "source": [
    "df_temp.Facebook.isnull().sum()"
   ]
  },
  {
   "cell_type": "markdown",
   "metadata": {},
   "source": [
    "There are quite a few beers with either social media accounts - 109,853 beers have twitter, 159,220 have facebook. Looks like brewries prefer facbook over twitter. This can be an interesting analysis to see which social media account has a greater influence on the average rating. Let's create the binary columns mentioned above."
   ]
  },
  {
   "cell_type": "code",
   "execution_count": 121,
   "metadata": {
    "collapsed": true
   },
   "outputs": [],
   "source": [
    "df_temp['has_twitter'] = np.where(pd.isnull(df_temp['Twitter']), 0, 1)"
   ]
  },
  {
   "cell_type": "code",
   "execution_count": 122,
   "metadata": {
    "collapsed": true
   },
   "outputs": [],
   "source": [
    "df_temp['has_facebook'] = np.where(pd.isnull(df_temp['Facebook']), 0, 1)"
   ]
  },
  {
   "cell_type": "markdown",
   "metadata": {},
   "source": [
    "Lets quickly check the number of beers with twitter and facebook."
   ]
  },
  {
   "cell_type": "code",
   "execution_count": 123,
   "metadata": {},
   "outputs": [
    {
     "data": {
      "text/plain": [
       "159920"
      ]
     },
     "execution_count": 123,
     "metadata": {},
     "output_type": "execute_result"
    }
   ],
   "source": [
    "df_temp.has_facebook.sum()"
   ]
  },
  {
   "cell_type": "code",
   "execution_count": 124,
   "metadata": {},
   "outputs": [
    {
     "data": {
      "text/plain": [
       "109853"
      ]
     },
     "execution_count": 124,
     "metadata": {},
     "output_type": "execute_result"
    }
   ],
   "source": [
    "df_temp.has_twitter.sum()"
   ]
  },
  {
   "cell_type": "code",
   "execution_count": 125,
   "metadata": {},
   "outputs": [
    {
     "data": {
      "text/html": [
       "<div>\n",
       "<style>\n",
       "    .dataframe thead tr:only-child th {\n",
       "        text-align: right;\n",
       "    }\n",
       "\n",
       "    .dataframe thead th {\n",
       "        text-align: left;\n",
       "    }\n",
       "\n",
       "    .dataframe tbody tr th {\n",
       "        vertical-align: top;\n",
       "    }\n",
       "</style>\n",
       "<table border=\"1\" class=\"dataframe\">\n",
       "  <thead>\n",
       "    <tr style=\"text-align: right;\">\n",
       "      <th></th>\n",
       "      <th>Name</th>\n",
       "      <th>ABV</th>\n",
       "      <th>StyleScore</th>\n",
       "      <th>OverallScore</th>\n",
       "      <th>AverageRating</th>\n",
       "      <th>RatingCount</th>\n",
       "      <th>BeerStyle</th>\n",
       "      <th>BreweryType</th>\n",
       "      <th>State</th>\n",
       "      <th>Country</th>\n",
       "      <th>Twitter</th>\n",
       "      <th>Facebook</th>\n",
       "      <th>has_twitter</th>\n",
       "      <th>has_facebook</th>\n",
       "    </tr>\n",
       "  </thead>\n",
       "  <tbody>\n",
       "    <tr>\n",
       "      <th>0</th>\n",
       "      <td>Närke Kaggen Stormaktsporter</td>\n",
       "      <td>9.500000</td>\n",
       "      <td>100.0</td>\n",
       "      <td>100.0</td>\n",
       "      <td>4.489771</td>\n",
       "      <td>557.0</td>\n",
       "      <td>Imperial Stout</td>\n",
       "      <td>Microbrewery</td>\n",
       "      <td>NaN</td>\n",
       "      <td>Sweden</td>\n",
       "      <td>NaN</td>\n",
       "      <td>NaN</td>\n",
       "      <td>0</td>\n",
       "      <td>0</td>\n",
       "    </tr>\n",
       "    <tr>\n",
       "      <th>1</th>\n",
       "      <td>Westvleteren 12 (XII)</td>\n",
       "      <td>10.200000</td>\n",
       "      <td>100.0</td>\n",
       "      <td>100.0</td>\n",
       "      <td>4.426578</td>\n",
       "      <td>3332.0</td>\n",
       "      <td>Abt/Quadrupel</td>\n",
       "      <td>Microbrewery</td>\n",
       "      <td>NaN</td>\n",
       "      <td>Belgium</td>\n",
       "      <td>NaN</td>\n",
       "      <td>NaN</td>\n",
       "      <td>0</td>\n",
       "      <td>0</td>\n",
       "    </tr>\n",
       "    <tr>\n",
       "      <th>2</th>\n",
       "      <td>Schramm’s The Heart of Darkness</td>\n",
       "      <td>14.000000</td>\n",
       "      <td>100.0</td>\n",
       "      <td>100.0</td>\n",
       "      <td>4.423655</td>\n",
       "      <td>77.0</td>\n",
       "      <td>Mead</td>\n",
       "      <td>Meadery</td>\n",
       "      <td>Michigan</td>\n",
       "      <td>United States</td>\n",
       "      <td>schrammsmead</td>\n",
       "      <td>https://facebook.com/SchrammsMeadery</td>\n",
       "      <td>1</td>\n",
       "      <td>1</td>\n",
       "    </tr>\n",
       "    <tr>\n",
       "      <th>3</th>\n",
       "      <td>B. Nektar Ken Schramm Signature Series - The H...</td>\n",
       "      <td>14.000000</td>\n",
       "      <td>100.0</td>\n",
       "      <td>100.0</td>\n",
       "      <td>4.421873</td>\n",
       "      <td>50.0</td>\n",
       "      <td>Mead</td>\n",
       "      <td>Meadery</td>\n",
       "      <td>Michigan</td>\n",
       "      <td>United States</td>\n",
       "      <td>bnektar</td>\n",
       "      <td>https://facebook.com/b.nektar</td>\n",
       "      <td>1</td>\n",
       "      <td>1</td>\n",
       "    </tr>\n",
       "    <tr>\n",
       "      <th>4</th>\n",
       "      <td>Cigar City Pilot Series Dragonfruit Passion Fr...</td>\n",
       "      <td>7.608336</td>\n",
       "      <td>100.0</td>\n",
       "      <td>100.0</td>\n",
       "      <td>4.420719</td>\n",
       "      <td>46.0</td>\n",
       "      <td>Berliner Weisse</td>\n",
       "      <td>Microbrewery</td>\n",
       "      <td>Florida</td>\n",
       "      <td>United States</td>\n",
       "      <td>cigarcitybeer</td>\n",
       "      <td>https://facebook.com/cigarcitybeer</td>\n",
       "      <td>1</td>\n",
       "      <td>1</td>\n",
       "    </tr>\n",
       "  </tbody>\n",
       "</table>\n",
       "</div>"
      ],
      "text/plain": [
       "                                                Name        ABV  StyleScore  \\\n",
       "0                       Närke Kaggen Stormaktsporter   9.500000       100.0   \n",
       "1                              Westvleteren 12 (XII)  10.200000       100.0   \n",
       "2                    Schramm’s The Heart of Darkness  14.000000       100.0   \n",
       "3  B. Nektar Ken Schramm Signature Series - The H...  14.000000       100.0   \n",
       "4  Cigar City Pilot Series Dragonfruit Passion Fr...   7.608336       100.0   \n",
       "\n",
       "   OverallScore  AverageRating  RatingCount        BeerStyle   BreweryType  \\\n",
       "0         100.0       4.489771        557.0   Imperial Stout  Microbrewery   \n",
       "1         100.0       4.426578       3332.0    Abt/Quadrupel  Microbrewery   \n",
       "2         100.0       4.423655         77.0             Mead       Meadery   \n",
       "3         100.0       4.421873         50.0             Mead       Meadery   \n",
       "4         100.0       4.420719         46.0  Berliner Weisse  Microbrewery   \n",
       "\n",
       "      State        Country        Twitter  \\\n",
       "0       NaN         Sweden            NaN   \n",
       "1       NaN        Belgium            NaN   \n",
       "2  Michigan  United States   schrammsmead   \n",
       "3  Michigan  United States        bnektar   \n",
       "4   Florida  United States  cigarcitybeer   \n",
       "\n",
       "                               Facebook  has_twitter  has_facebook  \n",
       "0                                   NaN            0             0  \n",
       "1                                   NaN            0             0  \n",
       "2  https://facebook.com/SchrammsMeadery            1             1  \n",
       "3         https://facebook.com/b.nektar            1             1  \n",
       "4    https://facebook.com/cigarcitybeer            1             1  "
      ]
     },
     "execution_count": 125,
     "metadata": {},
     "output_type": "execute_result"
    }
   ],
   "source": [
    "df_temp.head()"
   ]
  },
  {
   "cell_type": "markdown",
   "metadata": {},
   "source": [
    "Now that we have the binary columns we can drop the twitter and facebook columns. "
   ]
  },
  {
   "cell_type": "code",
   "execution_count": 126,
   "metadata": {
    "collapsed": true
   },
   "outputs": [],
   "source": [
    "df_temp.drop(['Twitter','Facebook'],axis=1,inplace=True)"
   ]
  },
  {
   "cell_type": "code",
   "execution_count": 127,
   "metadata": {},
   "outputs": [
    {
     "data": {
      "text/html": [
       "<div>\n",
       "<style>\n",
       "    .dataframe thead tr:only-child th {\n",
       "        text-align: right;\n",
       "    }\n",
       "\n",
       "    .dataframe thead th {\n",
       "        text-align: left;\n",
       "    }\n",
       "\n",
       "    .dataframe tbody tr th {\n",
       "        vertical-align: top;\n",
       "    }\n",
       "</style>\n",
       "<table border=\"1\" class=\"dataframe\">\n",
       "  <thead>\n",
       "    <tr style=\"text-align: right;\">\n",
       "      <th></th>\n",
       "      <th>Name</th>\n",
       "      <th>ABV</th>\n",
       "      <th>StyleScore</th>\n",
       "      <th>OverallScore</th>\n",
       "      <th>AverageRating</th>\n",
       "      <th>RatingCount</th>\n",
       "      <th>BeerStyle</th>\n",
       "      <th>BreweryType</th>\n",
       "      <th>State</th>\n",
       "      <th>Country</th>\n",
       "      <th>has_twitter</th>\n",
       "      <th>has_facebook</th>\n",
       "    </tr>\n",
       "  </thead>\n",
       "  <tbody>\n",
       "    <tr>\n",
       "      <th>0</th>\n",
       "      <td>Närke Kaggen Stormaktsporter</td>\n",
       "      <td>9.500000</td>\n",
       "      <td>100.0</td>\n",
       "      <td>100.0</td>\n",
       "      <td>4.489771</td>\n",
       "      <td>557.0</td>\n",
       "      <td>Imperial Stout</td>\n",
       "      <td>Microbrewery</td>\n",
       "      <td>NaN</td>\n",
       "      <td>Sweden</td>\n",
       "      <td>0</td>\n",
       "      <td>0</td>\n",
       "    </tr>\n",
       "    <tr>\n",
       "      <th>1</th>\n",
       "      <td>Westvleteren 12 (XII)</td>\n",
       "      <td>10.200000</td>\n",
       "      <td>100.0</td>\n",
       "      <td>100.0</td>\n",
       "      <td>4.426578</td>\n",
       "      <td>3332.0</td>\n",
       "      <td>Abt/Quadrupel</td>\n",
       "      <td>Microbrewery</td>\n",
       "      <td>NaN</td>\n",
       "      <td>Belgium</td>\n",
       "      <td>0</td>\n",
       "      <td>0</td>\n",
       "    </tr>\n",
       "    <tr>\n",
       "      <th>2</th>\n",
       "      <td>Schramm’s The Heart of Darkness</td>\n",
       "      <td>14.000000</td>\n",
       "      <td>100.0</td>\n",
       "      <td>100.0</td>\n",
       "      <td>4.423655</td>\n",
       "      <td>77.0</td>\n",
       "      <td>Mead</td>\n",
       "      <td>Meadery</td>\n",
       "      <td>Michigan</td>\n",
       "      <td>United States</td>\n",
       "      <td>1</td>\n",
       "      <td>1</td>\n",
       "    </tr>\n",
       "    <tr>\n",
       "      <th>3</th>\n",
       "      <td>B. Nektar Ken Schramm Signature Series - The H...</td>\n",
       "      <td>14.000000</td>\n",
       "      <td>100.0</td>\n",
       "      <td>100.0</td>\n",
       "      <td>4.421873</td>\n",
       "      <td>50.0</td>\n",
       "      <td>Mead</td>\n",
       "      <td>Meadery</td>\n",
       "      <td>Michigan</td>\n",
       "      <td>United States</td>\n",
       "      <td>1</td>\n",
       "      <td>1</td>\n",
       "    </tr>\n",
       "    <tr>\n",
       "      <th>4</th>\n",
       "      <td>Cigar City Pilot Series Dragonfruit Passion Fr...</td>\n",
       "      <td>7.608336</td>\n",
       "      <td>100.0</td>\n",
       "      <td>100.0</td>\n",
       "      <td>4.420719</td>\n",
       "      <td>46.0</td>\n",
       "      <td>Berliner Weisse</td>\n",
       "      <td>Microbrewery</td>\n",
       "      <td>Florida</td>\n",
       "      <td>United States</td>\n",
       "      <td>1</td>\n",
       "      <td>1</td>\n",
       "    </tr>\n",
       "  </tbody>\n",
       "</table>\n",
       "</div>"
      ],
      "text/plain": [
       "                                                Name        ABV  StyleScore  \\\n",
       "0                       Närke Kaggen Stormaktsporter   9.500000       100.0   \n",
       "1                              Westvleteren 12 (XII)  10.200000       100.0   \n",
       "2                    Schramm’s The Heart of Darkness  14.000000       100.0   \n",
       "3  B. Nektar Ken Schramm Signature Series - The H...  14.000000       100.0   \n",
       "4  Cigar City Pilot Series Dragonfruit Passion Fr...   7.608336       100.0   \n",
       "\n",
       "   OverallScore  AverageRating  RatingCount        BeerStyle   BreweryType  \\\n",
       "0         100.0       4.489771        557.0   Imperial Stout  Microbrewery   \n",
       "1         100.0       4.426578       3332.0    Abt/Quadrupel  Microbrewery   \n",
       "2         100.0       4.423655         77.0             Mead       Meadery   \n",
       "3         100.0       4.421873         50.0             Mead       Meadery   \n",
       "4         100.0       4.420719         46.0  Berliner Weisse  Microbrewery   \n",
       "\n",
       "      State        Country  has_twitter  has_facebook  \n",
       "0       NaN         Sweden            0             0  \n",
       "1       NaN        Belgium            0             0  \n",
       "2  Michigan  United States            1             1  \n",
       "3  Michigan  United States            1             1  \n",
       "4   Florida  United States            1             1  "
      ]
     },
     "execution_count": 127,
     "metadata": {},
     "output_type": "execute_result"
    }
   ],
   "source": [
    "df_temp.head()"
   ]
  },
  {
   "cell_type": "markdown",
   "metadata": {},
   "source": [
    "It is all looking good now. We will do one more check for the columns with numerical values."
   ]
  },
  {
   "cell_type": "code",
   "execution_count": 128,
   "metadata": {},
   "outputs": [
    {
     "data": {
      "text/html": [
       "<div>\n",
       "<style>\n",
       "    .dataframe thead tr:only-child th {\n",
       "        text-align: right;\n",
       "    }\n",
       "\n",
       "    .dataframe thead th {\n",
       "        text-align: left;\n",
       "    }\n",
       "\n",
       "    .dataframe tbody tr th {\n",
       "        vertical-align: top;\n",
       "    }\n",
       "</style>\n",
       "<table border=\"1\" class=\"dataframe\">\n",
       "  <thead>\n",
       "    <tr style=\"text-align: right;\">\n",
       "      <th></th>\n",
       "      <th>ABV</th>\n",
       "      <th>StyleScore</th>\n",
       "      <th>OverallScore</th>\n",
       "      <th>AverageRating</th>\n",
       "      <th>RatingCount</th>\n",
       "      <th>has_twitter</th>\n",
       "      <th>has_facebook</th>\n",
       "    </tr>\n",
       "  </thead>\n",
       "  <tbody>\n",
       "    <tr>\n",
       "      <th>count</th>\n",
       "      <td>220000.000000</td>\n",
       "      <td>130759.000000</td>\n",
       "      <td>130759.000000</td>\n",
       "      <td>220000.000000</td>\n",
       "      <td>220000.00000</td>\n",
       "      <td>220000.000000</td>\n",
       "      <td>220000.000000</td>\n",
       "    </tr>\n",
       "    <tr>\n",
       "      <th>mean</th>\n",
       "      <td>6.249801</td>\n",
       "      <td>52.691640</td>\n",
       "      <td>54.141304</td>\n",
       "      <td>3.090490</td>\n",
       "      <td>35.73970</td>\n",
       "      <td>0.499332</td>\n",
       "      <td>0.726909</td>\n",
       "    </tr>\n",
       "    <tr>\n",
       "      <th>std</th>\n",
       "      <td>2.148592</td>\n",
       "      <td>30.802735</td>\n",
       "      <td>30.645764</td>\n",
       "      <td>0.372849</td>\n",
       "      <td>127.09815</td>\n",
       "      <td>0.500001</td>\n",
       "      <td>0.445548</td>\n",
       "    </tr>\n",
       "    <tr>\n",
       "      <th>min</th>\n",
       "      <td>1.000000</td>\n",
       "      <td>0.000000</td>\n",
       "      <td>0.000000</td>\n",
       "      <td>1.800000</td>\n",
       "      <td>1.00000</td>\n",
       "      <td>0.000000</td>\n",
       "      <td>0.000000</td>\n",
       "    </tr>\n",
       "    <tr>\n",
       "      <th>25%</th>\n",
       "      <td>5.000000</td>\n",
       "      <td>29.367154</td>\n",
       "      <td>31.690527</td>\n",
       "      <td>2.878205</td>\n",
       "      <td>5.00000</td>\n",
       "      <td>0.000000</td>\n",
       "      <td>0.000000</td>\n",
       "    </tr>\n",
       "    <tr>\n",
       "      <th>50%</th>\n",
       "      <td>5.700000</td>\n",
       "      <td>49.417950</td>\n",
       "      <td>51.617950</td>\n",
       "      <td>3.112463</td>\n",
       "      <td>10.00000</td>\n",
       "      <td>0.000000</td>\n",
       "      <td>1.000000</td>\n",
       "    </tr>\n",
       "    <tr>\n",
       "      <th>75%</th>\n",
       "      <td>7.000000</td>\n",
       "      <td>81.792747</td>\n",
       "      <td>83.094671</td>\n",
       "      <td>3.340448</td>\n",
       "      <td>25.00000</td>\n",
       "      <td>1.000000</td>\n",
       "      <td>1.000000</td>\n",
       "    </tr>\n",
       "    <tr>\n",
       "      <th>max</th>\n",
       "      <td>73.000000</td>\n",
       "      <td>100.000000</td>\n",
       "      <td>100.000000</td>\n",
       "      <td>4.489771</td>\n",
       "      <td>5182.00000</td>\n",
       "      <td>1.000000</td>\n",
       "      <td>1.000000</td>\n",
       "    </tr>\n",
       "  </tbody>\n",
       "</table>\n",
       "</div>"
      ],
      "text/plain": [
       "                 ABV     StyleScore   OverallScore  AverageRating  \\\n",
       "count  220000.000000  130759.000000  130759.000000  220000.000000   \n",
       "mean        6.249801      52.691640      54.141304       3.090490   \n",
       "std         2.148592      30.802735      30.645764       0.372849   \n",
       "min         1.000000       0.000000       0.000000       1.800000   \n",
       "25%         5.000000      29.367154      31.690527       2.878205   \n",
       "50%         5.700000      49.417950      51.617950       3.112463   \n",
       "75%         7.000000      81.792747      83.094671       3.340448   \n",
       "max        73.000000     100.000000     100.000000       4.489771   \n",
       "\n",
       "        RatingCount    has_twitter   has_facebook  \n",
       "count  220000.00000  220000.000000  220000.000000  \n",
       "mean       35.73970       0.499332       0.726909  \n",
       "std       127.09815       0.500001       0.445548  \n",
       "min         1.00000       0.000000       0.000000  \n",
       "25%         5.00000       0.000000       0.000000  \n",
       "50%        10.00000       0.000000       1.000000  \n",
       "75%        25.00000       1.000000       1.000000  \n",
       "max      5182.00000       1.000000       1.000000  "
      ]
     },
     "execution_count": 128,
     "metadata": {},
     "output_type": "execute_result"
    }
   ],
   "source": [
    "df_temp.describe()"
   ]
  },
  {
   "cell_type": "markdown",
   "metadata": {},
   "source": [
    "We see there are no missing values in the dataset except for the OverallScore and StyleScore. We have disucssed these missing values above. There are no zero values in the ABV and rating count columns. "
   ]
  },
  {
   "cell_type": "markdown",
   "metadata": {},
   "source": [
    "### Missing Values in the other columns\n",
    "\n",
    "We will look at the missing values in the State, Country, BreweryType and BeerStyle columns."
   ]
  },
  {
   "cell_type": "code",
   "execution_count": 129,
   "metadata": {},
   "outputs": [
    {
     "data": {
      "text/plain": [
       "0"
      ]
     },
     "execution_count": 129,
     "metadata": {},
     "output_type": "execute_result"
    }
   ],
   "source": [
    "df_temp.BeerStyle.isnull().sum()"
   ]
  },
  {
   "cell_type": "code",
   "execution_count": 130,
   "metadata": {},
   "outputs": [
    {
     "data": {
      "text/plain": [
       "0"
      ]
     },
     "execution_count": 130,
     "metadata": {},
     "output_type": "execute_result"
    }
   ],
   "source": [
    "df_temp.BreweryType.isnull().sum()"
   ]
  },
  {
   "cell_type": "code",
   "execution_count": 131,
   "metadata": {},
   "outputs": [
    {
     "data": {
      "text/plain": [
       "0"
      ]
     },
     "execution_count": 131,
     "metadata": {},
     "output_type": "execute_result"
    }
   ],
   "source": [
    "df_temp['Country'] = df_temp['Country'].str.strip()\n",
    "df_temp.Country.isnull().sum()"
   ]
  },
  {
   "cell_type": "code",
   "execution_count": 132,
   "metadata": {},
   "outputs": [
    {
     "data": {
      "text/plain": [
       "81306"
      ]
     },
     "execution_count": 132,
     "metadata": {},
     "output_type": "execute_result"
    }
   ],
   "source": [
    "df_temp['State'] = df_temp['State'].str.strip()\n",
    "df_temp.State.isnull().sum()"
   ]
  },
  {
   "cell_type": "markdown",
   "metadata": {},
   "source": [
    "There are 81,306 missing values in the state column. We are not interested in comparing the beers from different states around the world. We will evaluate the varations across the countries. However, it will be good to compare beers across states within the US. Let us check if there are states missing for beers from the US"
   ]
  },
  {
   "cell_type": "code",
   "execution_count": 133,
   "metadata": {},
   "outputs": [
    {
     "data": {
      "text/plain": [
       "54"
      ]
     },
     "execution_count": 133,
     "metadata": {},
     "output_type": "execute_result"
    }
   ],
   "source": [
    "df_temp[df_temp['Country'] == 'United States'].State.isnull().sum()"
   ]
  },
  {
   "cell_type": "code",
   "execution_count": 134,
   "metadata": {},
   "outputs": [
    {
     "data": {
      "text/plain": [
       "88228"
      ]
     },
     "execution_count": 134,
     "metadata": {},
     "output_type": "execute_result"
    }
   ],
   "source": [
    "df_temp[df_temp['Country'] == 'United States'].Country.count()"
   ]
  },
  {
   "cell_type": "markdown",
   "metadata": {},
   "source": [
    "There are 54 missing values out of the 88,228 observations. Since we will not focus too much on the dependency of the state beer ratings we will not worry about the missing values in the state column for now. The entire column will be dropped for the machine learning analysis.\n",
    "\n",
    "The dataframe can be saved as a .csv file now for further analysis."
   ]
  },
  {
   "cell_type": "code",
   "execution_count": 135,
   "metadata": {
    "collapsed": true
   },
   "outputs": [],
   "source": [
    "df_temp.to_csv('Allbeers.csv',sep=',',encoding='utf-8')"
   ]
  }
 ],
 "metadata": {
  "kernelspec": {
   "display_name": "Python 3",
   "language": "python",
   "name": "python3"
  },
  "language_info": {
   "codemirror_mode": {
    "name": "ipython",
    "version": 3
   },
   "file_extension": ".py",
   "mimetype": "text/x-python",
   "name": "python",
   "nbconvert_exporter": "python",
   "pygments_lexer": "ipython3",
   "version": "3.6.3"
  }
 },
 "nbformat": 4,
 "nbformat_minor": 2
}

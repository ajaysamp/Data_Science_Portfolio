{
 "cells": [
  {
   "cell_type": "markdown",
   "metadata": {},
   "source": [
    "## Data Cleaning\n",
    "\n",
    "In this notebook we will go through the process of cleaning the data obtained from ratebeer.com. We will look at the different columns, figure out strategies to impute missing data, drop unwanted columns and add columns as needed. "
   ]
  },
  {
   "cell_type": "markdown",
   "metadata": {},
   "source": [
    "## Import Modules"
   ]
  },
  {
   "cell_type": "code",
   "execution_count": 25,
   "metadata": {
    "collapsed": true
   },
   "outputs": [],
   "source": [
    "import pandas as pd\n",
    "import matplotlib.pyplot as plt\n",
    "import seaborn as sns"
   ]
  },
  {
   "cell_type": "markdown",
   "metadata": {},
   "source": [
    "## Load Data\n",
    "\n",
    "We have already acquired the data from ratebeer.com and saved the data as a .csv file already."
   ]
  },
  {
   "cell_type": "code",
   "execution_count": 26,
   "metadata": {
    "collapsed": true
   },
   "outputs": [],
   "source": [
    "df = pd.read_csv('RateBeer.csv')"
   ]
  },
  {
   "cell_type": "code",
   "execution_count": 27,
   "metadata": {},
   "outputs": [
    {
     "data": {
      "text/html": [
       "<div>\n",
       "<style>\n",
       "    .dataframe thead tr:only-child th {\n",
       "        text-align: right;\n",
       "    }\n",
       "\n",
       "    .dataframe thead th {\n",
       "        text-align: left;\n",
       "    }\n",
       "\n",
       "    .dataframe tbody tr th {\n",
       "        vertical-align: top;\n",
       "    }\n",
       "</style>\n",
       "<table border=\"1\" class=\"dataframe\">\n",
       "  <thead>\n",
       "    <tr style=\"text-align: right;\">\n",
       "      <th></th>\n",
       "      <th>Unnamed: 0</th>\n",
       "      <th>beer_id</th>\n",
       "      <th>beer_name</th>\n",
       "      <th>beer_description</th>\n",
       "      <th>beer_abv</th>\n",
       "      <th>beer_styleScore</th>\n",
       "      <th>beer_overallScore</th>\n",
       "      <th>beer_averageRating</th>\n",
       "      <th>beer_ratingCount</th>\n",
       "      <th>beer_styleName</th>\n",
       "      <th>brewery_name</th>\n",
       "      <th>brewery_type</th>\n",
       "      <th>brewery_street</th>\n",
       "      <th>brewery_city</th>\n",
       "      <th>brewery_state</th>\n",
       "      <th>brewery_country</th>\n",
       "      <th>brewery_continent</th>\n",
       "      <th>brewery_twitter</th>\n",
       "      <th>brewery_facebook</th>\n",
       "    </tr>\n",
       "  </thead>\n",
       "  <tbody>\n",
       "    <tr>\n",
       "      <th>0</th>\n",
       "      <td>1</td>\n",
       "      <td>58057</td>\n",
       "      <td>Närke Kaggen Stormaktsporter</td>\n",
       "      <td>Imperial Stout brewed with heather honey and a...</td>\n",
       "      <td>9.5</td>\n",
       "      <td>100.0</td>\n",
       "      <td>100.0</td>\n",
       "      <td>4.489771</td>\n",
       "      <td>557</td>\n",
       "      <td>Imperial Stout</td>\n",
       "      <td>Närke Kulturbryggeri</td>\n",
       "      <td>Microbrewery</td>\n",
       "      <td>Beväringsgatan 2</td>\n",
       "      <td>Örebro</td>\n",
       "      <td>NaN</td>\n",
       "      <td>Sweden</td>\n",
       "      <td>NaN</td>\n",
       "      <td>NaN</td>\n",
       "      <td>NaN</td>\n",
       "    </tr>\n",
       "    <tr>\n",
       "      <th>1</th>\n",
       "      <td>2</td>\n",
       "      <td>4934</td>\n",
       "      <td>Westvleteren 12 (XII)</td>\n",
       "      <td>Westvleteren has the smallest output of the Tr...</td>\n",
       "      <td>10.2</td>\n",
       "      <td>100.0</td>\n",
       "      <td>100.0</td>\n",
       "      <td>4.426578</td>\n",
       "      <td>3332</td>\n",
       "      <td>Abt/Quadrupel</td>\n",
       "      <td>Westvleteren Abdij St. Sixtus</td>\n",
       "      <td>Microbrewery</td>\n",
       "      <td>Donkerstraat 12</td>\n",
       "      <td>Westvleteren</td>\n",
       "      <td>NaN</td>\n",
       "      <td>Belgium</td>\n",
       "      <td>NaN</td>\n",
       "      <td>NaN</td>\n",
       "      <td>NaN</td>\n",
       "    </tr>\n",
       "    <tr>\n",
       "      <th>2</th>\n",
       "      <td>3</td>\n",
       "      <td>231441</td>\n",
       "      <td>Schramm’s The Heart of Darkness</td>\n",
       "      <td>The Heart of Darkness is our capstone mead. It...</td>\n",
       "      <td>14.0</td>\n",
       "      <td>100.0</td>\n",
       "      <td>100.0</td>\n",
       "      <td>4.423655</td>\n",
       "      <td>77</td>\n",
       "      <td>Mead</td>\n",
       "      <td>Schramm’s Mead</td>\n",
       "      <td>Meadery</td>\n",
       "      <td>327 West 9 Mile Road</td>\n",
       "      <td>Ferndale</td>\n",
       "      <td>Michigan</td>\n",
       "      <td>United States</td>\n",
       "      <td>North America</td>\n",
       "      <td>schrammsmead</td>\n",
       "      <td>https://facebook.com/SchrammsMeadery</td>\n",
       "    </tr>\n",
       "    <tr>\n",
       "      <th>3</th>\n",
       "      <td>4</td>\n",
       "      <td>106749</td>\n",
       "      <td>B. Nektar Ken Schramm Signature Series - The H...</td>\n",
       "      <td>Meadmaker Ken Schramm crafted the Heart of Dar...</td>\n",
       "      <td>14.0</td>\n",
       "      <td>100.0</td>\n",
       "      <td>100.0</td>\n",
       "      <td>4.421873</td>\n",
       "      <td>50</td>\n",
       "      <td>Mead</td>\n",
       "      <td>B. Nektar Meadery</td>\n",
       "      <td>Meadery</td>\n",
       "      <td>1511 Jarvis</td>\n",
       "      <td>Ferndale</td>\n",
       "      <td>Michigan</td>\n",
       "      <td>United States</td>\n",
       "      <td>North America</td>\n",
       "      <td>bnektar</td>\n",
       "      <td>https://facebook.com/b.nektar</td>\n",
       "    </tr>\n",
       "    <tr>\n",
       "      <th>4</th>\n",
       "      <td>5</td>\n",
       "      <td>140581</td>\n",
       "      <td>Cigar City Pilot Series Dragonfruit Passion Fr...</td>\n",
       "      <td>Editor’s Note: This is an archived entry for t...</td>\n",
       "      <td>0.0</td>\n",
       "      <td>100.0</td>\n",
       "      <td>100.0</td>\n",
       "      <td>4.420719</td>\n",
       "      <td>46</td>\n",
       "      <td>Berliner Weisse</td>\n",
       "      <td>Cigar City Brewing</td>\n",
       "      <td>Microbrewery</td>\n",
       "      <td>3924 W Spruce Street</td>\n",
       "      <td>Tampa</td>\n",
       "      <td>Florida</td>\n",
       "      <td>United States</td>\n",
       "      <td>North America</td>\n",
       "      <td>cigarcitybeer</td>\n",
       "      <td>https://facebook.com/cigarcitybeer</td>\n",
       "    </tr>\n",
       "  </tbody>\n",
       "</table>\n",
       "</div>"
      ],
      "text/plain": [
       "   Unnamed: 0  beer_id                                          beer_name  \\\n",
       "0           1    58057                       Närke Kaggen Stormaktsporter   \n",
       "1           2     4934                              Westvleteren 12 (XII)   \n",
       "2           3   231441                    Schramm’s The Heart of Darkness   \n",
       "3           4   106749  B. Nektar Ken Schramm Signature Series - The H...   \n",
       "4           5   140581  Cigar City Pilot Series Dragonfruit Passion Fr...   \n",
       "\n",
       "                                    beer_description  beer_abv  \\\n",
       "0  Imperial Stout brewed with heather honey and a...       9.5   \n",
       "1  Westvleteren has the smallest output of the Tr...      10.2   \n",
       "2  The Heart of Darkness is our capstone mead. It...      14.0   \n",
       "3  Meadmaker Ken Schramm crafted the Heart of Dar...      14.0   \n",
       "4  Editor’s Note: This is an archived entry for t...       0.0   \n",
       "\n",
       "   beer_styleScore  beer_overallScore  beer_averageRating  beer_ratingCount  \\\n",
       "0            100.0              100.0            4.489771               557   \n",
       "1            100.0              100.0            4.426578              3332   \n",
       "2            100.0              100.0            4.423655                77   \n",
       "3            100.0              100.0            4.421873                50   \n",
       "4            100.0              100.0            4.420719                46   \n",
       "\n",
       "    beer_styleName                   brewery_name  brewery_type  \\\n",
       "0   Imperial Stout           Närke Kulturbryggeri  Microbrewery   \n",
       "1    Abt/Quadrupel  Westvleteren Abdij St. Sixtus  Microbrewery   \n",
       "2             Mead                 Schramm’s Mead       Meadery   \n",
       "3             Mead              B. Nektar Meadery       Meadery   \n",
       "4  Berliner Weisse             Cigar City Brewing  Microbrewery   \n",
       "\n",
       "         brewery_street  brewery_city brewery_state brewery_country  \\\n",
       "0      Beväringsgatan 2        Örebro           NaN          Sweden   \n",
       "1       Donkerstraat 12  Westvleteren           NaN         Belgium   \n",
       "2  327 West 9 Mile Road      Ferndale      Michigan   United States   \n",
       "3           1511 Jarvis      Ferndale      Michigan   United States   \n",
       "4  3924 W Spruce Street         Tampa       Florida   United States   \n",
       "\n",
       "  brewery_continent brewery_twitter                      brewery_facebook  \n",
       "0               NaN             NaN                                   NaN  \n",
       "1               NaN             NaN                                   NaN  \n",
       "2     North America    schrammsmead  https://facebook.com/SchrammsMeadery  \n",
       "3     North America         bnektar         https://facebook.com/b.nektar  \n",
       "4     North America   cigarcitybeer    https://facebook.com/cigarcitybeer  "
      ]
     },
     "execution_count": 27,
     "metadata": {},
     "output_type": "execute_result"
    }
   ],
   "source": [
    "df.head()"
   ]
  },
  {
   "cell_type": "code",
   "execution_count": 28,
   "metadata": {
    "collapsed": true
   },
   "outputs": [],
   "source": [
    "#drop the unnamed column\n",
    "df.drop([\"Unnamed: 0\"], axis=1, inplace=True)"
   ]
  },
  {
   "cell_type": "code",
   "execution_count": 29,
   "metadata": {},
   "outputs": [
    {
     "data": {
      "text/html": [
       "<div>\n",
       "<style>\n",
       "    .dataframe thead tr:only-child th {\n",
       "        text-align: right;\n",
       "    }\n",
       "\n",
       "    .dataframe thead th {\n",
       "        text-align: left;\n",
       "    }\n",
       "\n",
       "    .dataframe tbody tr th {\n",
       "        vertical-align: top;\n",
       "    }\n",
       "</style>\n",
       "<table border=\"1\" class=\"dataframe\">\n",
       "  <thead>\n",
       "    <tr style=\"text-align: right;\">\n",
       "      <th></th>\n",
       "      <th>beer_id</th>\n",
       "      <th>beer_name</th>\n",
       "      <th>beer_description</th>\n",
       "      <th>beer_abv</th>\n",
       "      <th>beer_styleScore</th>\n",
       "      <th>beer_overallScore</th>\n",
       "      <th>beer_averageRating</th>\n",
       "      <th>beer_ratingCount</th>\n",
       "      <th>beer_styleName</th>\n",
       "      <th>brewery_name</th>\n",
       "      <th>brewery_type</th>\n",
       "      <th>brewery_street</th>\n",
       "      <th>brewery_city</th>\n",
       "      <th>brewery_state</th>\n",
       "      <th>brewery_country</th>\n",
       "      <th>brewery_continent</th>\n",
       "      <th>brewery_twitter</th>\n",
       "      <th>brewery_facebook</th>\n",
       "    </tr>\n",
       "  </thead>\n",
       "  <tbody>\n",
       "    <tr>\n",
       "      <th>0</th>\n",
       "      <td>58057</td>\n",
       "      <td>Närke Kaggen Stormaktsporter</td>\n",
       "      <td>Imperial Stout brewed with heather honey and a...</td>\n",
       "      <td>9.5</td>\n",
       "      <td>100.0</td>\n",
       "      <td>100.0</td>\n",
       "      <td>4.489771</td>\n",
       "      <td>557</td>\n",
       "      <td>Imperial Stout</td>\n",
       "      <td>Närke Kulturbryggeri</td>\n",
       "      <td>Microbrewery</td>\n",
       "      <td>Beväringsgatan 2</td>\n",
       "      <td>Örebro</td>\n",
       "      <td>NaN</td>\n",
       "      <td>Sweden</td>\n",
       "      <td>NaN</td>\n",
       "      <td>NaN</td>\n",
       "      <td>NaN</td>\n",
       "    </tr>\n",
       "    <tr>\n",
       "      <th>1</th>\n",
       "      <td>4934</td>\n",
       "      <td>Westvleteren 12 (XII)</td>\n",
       "      <td>Westvleteren has the smallest output of the Tr...</td>\n",
       "      <td>10.2</td>\n",
       "      <td>100.0</td>\n",
       "      <td>100.0</td>\n",
       "      <td>4.426578</td>\n",
       "      <td>3332</td>\n",
       "      <td>Abt/Quadrupel</td>\n",
       "      <td>Westvleteren Abdij St. Sixtus</td>\n",
       "      <td>Microbrewery</td>\n",
       "      <td>Donkerstraat 12</td>\n",
       "      <td>Westvleteren</td>\n",
       "      <td>NaN</td>\n",
       "      <td>Belgium</td>\n",
       "      <td>NaN</td>\n",
       "      <td>NaN</td>\n",
       "      <td>NaN</td>\n",
       "    </tr>\n",
       "    <tr>\n",
       "      <th>2</th>\n",
       "      <td>231441</td>\n",
       "      <td>Schramm’s The Heart of Darkness</td>\n",
       "      <td>The Heart of Darkness is our capstone mead. It...</td>\n",
       "      <td>14.0</td>\n",
       "      <td>100.0</td>\n",
       "      <td>100.0</td>\n",
       "      <td>4.423655</td>\n",
       "      <td>77</td>\n",
       "      <td>Mead</td>\n",
       "      <td>Schramm’s Mead</td>\n",
       "      <td>Meadery</td>\n",
       "      <td>327 West 9 Mile Road</td>\n",
       "      <td>Ferndale</td>\n",
       "      <td>Michigan</td>\n",
       "      <td>United States</td>\n",
       "      <td>North America</td>\n",
       "      <td>schrammsmead</td>\n",
       "      <td>https://facebook.com/SchrammsMeadery</td>\n",
       "    </tr>\n",
       "    <tr>\n",
       "      <th>3</th>\n",
       "      <td>106749</td>\n",
       "      <td>B. Nektar Ken Schramm Signature Series - The H...</td>\n",
       "      <td>Meadmaker Ken Schramm crafted the Heart of Dar...</td>\n",
       "      <td>14.0</td>\n",
       "      <td>100.0</td>\n",
       "      <td>100.0</td>\n",
       "      <td>4.421873</td>\n",
       "      <td>50</td>\n",
       "      <td>Mead</td>\n",
       "      <td>B. Nektar Meadery</td>\n",
       "      <td>Meadery</td>\n",
       "      <td>1511 Jarvis</td>\n",
       "      <td>Ferndale</td>\n",
       "      <td>Michigan</td>\n",
       "      <td>United States</td>\n",
       "      <td>North America</td>\n",
       "      <td>bnektar</td>\n",
       "      <td>https://facebook.com/b.nektar</td>\n",
       "    </tr>\n",
       "    <tr>\n",
       "      <th>4</th>\n",
       "      <td>140581</td>\n",
       "      <td>Cigar City Pilot Series Dragonfruit Passion Fr...</td>\n",
       "      <td>Editor’s Note: This is an archived entry for t...</td>\n",
       "      <td>0.0</td>\n",
       "      <td>100.0</td>\n",
       "      <td>100.0</td>\n",
       "      <td>4.420719</td>\n",
       "      <td>46</td>\n",
       "      <td>Berliner Weisse</td>\n",
       "      <td>Cigar City Brewing</td>\n",
       "      <td>Microbrewery</td>\n",
       "      <td>3924 W Spruce Street</td>\n",
       "      <td>Tampa</td>\n",
       "      <td>Florida</td>\n",
       "      <td>United States</td>\n",
       "      <td>North America</td>\n",
       "      <td>cigarcitybeer</td>\n",
       "      <td>https://facebook.com/cigarcitybeer</td>\n",
       "    </tr>\n",
       "  </tbody>\n",
       "</table>\n",
       "</div>"
      ],
      "text/plain": [
       "   beer_id                                          beer_name  \\\n",
       "0    58057                       Närke Kaggen Stormaktsporter   \n",
       "1     4934                              Westvleteren 12 (XII)   \n",
       "2   231441                    Schramm’s The Heart of Darkness   \n",
       "3   106749  B. Nektar Ken Schramm Signature Series - The H...   \n",
       "4   140581  Cigar City Pilot Series Dragonfruit Passion Fr...   \n",
       "\n",
       "                                    beer_description  beer_abv  \\\n",
       "0  Imperial Stout brewed with heather honey and a...       9.5   \n",
       "1  Westvleteren has the smallest output of the Tr...      10.2   \n",
       "2  The Heart of Darkness is our capstone mead. It...      14.0   \n",
       "3  Meadmaker Ken Schramm crafted the Heart of Dar...      14.0   \n",
       "4  Editor’s Note: This is an archived entry for t...       0.0   \n",
       "\n",
       "   beer_styleScore  beer_overallScore  beer_averageRating  beer_ratingCount  \\\n",
       "0            100.0              100.0            4.489771               557   \n",
       "1            100.0              100.0            4.426578              3332   \n",
       "2            100.0              100.0            4.423655                77   \n",
       "3            100.0              100.0            4.421873                50   \n",
       "4            100.0              100.0            4.420719                46   \n",
       "\n",
       "    beer_styleName                   brewery_name  brewery_type  \\\n",
       "0   Imperial Stout           Närke Kulturbryggeri  Microbrewery   \n",
       "1    Abt/Quadrupel  Westvleteren Abdij St. Sixtus  Microbrewery   \n",
       "2             Mead                 Schramm’s Mead       Meadery   \n",
       "3             Mead              B. Nektar Meadery       Meadery   \n",
       "4  Berliner Weisse             Cigar City Brewing  Microbrewery   \n",
       "\n",
       "         brewery_street  brewery_city brewery_state brewery_country  \\\n",
       "0      Beväringsgatan 2        Örebro           NaN          Sweden   \n",
       "1       Donkerstraat 12  Westvleteren           NaN         Belgium   \n",
       "2  327 West 9 Mile Road      Ferndale      Michigan   United States   \n",
       "3           1511 Jarvis      Ferndale      Michigan   United States   \n",
       "4  3924 W Spruce Street         Tampa       Florida   United States   \n",
       "\n",
       "  brewery_continent brewery_twitter                      brewery_facebook  \n",
       "0               NaN             NaN                                   NaN  \n",
       "1               NaN             NaN                                   NaN  \n",
       "2     North America    schrammsmead  https://facebook.com/SchrammsMeadery  \n",
       "3     North America         bnektar         https://facebook.com/b.nektar  \n",
       "4     North America   cigarcitybeer    https://facebook.com/cigarcitybeer  "
      ]
     },
     "execution_count": 29,
     "metadata": {},
     "output_type": "execute_result"
    }
   ],
   "source": [
    "df.head()"
   ]
  },
  {
   "cell_type": "code",
   "execution_count": 30,
   "metadata": {},
   "outputs": [
    {
     "data": {
      "text/plain": [
       "(220000, 18)"
      ]
     },
     "execution_count": 30,
     "metadata": {},
     "output_type": "execute_result"
    }
   ],
   "source": [
    "df.shape"
   ]
  },
  {
   "cell_type": "markdown",
   "metadata": {},
   "source": [
    "The data set contains 220,000 beers with 18 variables. There are 5 columns that are numerical and will be important for the analysis. Preliminary inspection of the dataset indicates that the data is fairly clean with mising values. The 'beer_description' column will be interesting to look at from a sentiment analysis perspective. However, it will not be applied for this project. Other columns such as brewery_name, brewery_street can be dropped from the data frame since they add no value for the current analysis. The brewery_country column will be useful to look at the variation in beer ratings across countries i.e. to answer the question which country produces the best beer? The brewery_continent column is too broad for an analysis and is expected not to give any insights. We will probably compare beers only from a few countries. The last two columns give the links to the beer/brewery social media accounts. These will be converted to binary columns for analysis to analyze the effect of social media on the ratings and other variables. We can drop the overall score and style score since these are percentile values that are actually based on the ratings and will not provide insights. "
   ]
  },
  {
   "cell_type": "code",
   "execution_count": 31,
   "metadata": {},
   "outputs": [],
   "source": [
    "# drop unwanted columns from the dataframe\n",
    "cols = ['beer_name','beer_abv','beer_averageRating','beer_ratingCount','beer_styleName','brewery_type','brewery_city','brewery_state','brewery_country','brewery_twitter','brewery_facebook']\n",
    "df = df.loc[:,cols]"
   ]
  },
  {
   "cell_type": "code",
   "execution_count": 32,
   "metadata": {},
   "outputs": [
    {
     "data": {
      "text/html": [
       "<div>\n",
       "<style>\n",
       "    .dataframe thead tr:only-child th {\n",
       "        text-align: right;\n",
       "    }\n",
       "\n",
       "    .dataframe thead th {\n",
       "        text-align: left;\n",
       "    }\n",
       "\n",
       "    .dataframe tbody tr th {\n",
       "        vertical-align: top;\n",
       "    }\n",
       "</style>\n",
       "<table border=\"1\" class=\"dataframe\">\n",
       "  <thead>\n",
       "    <tr style=\"text-align: right;\">\n",
       "      <th></th>\n",
       "      <th>beer_name</th>\n",
       "      <th>beer_abv</th>\n",
       "      <th>beer_averageRating</th>\n",
       "      <th>beer_ratingCount</th>\n",
       "      <th>beer_styleName</th>\n",
       "      <th>brewery_type</th>\n",
       "      <th>brewery_city</th>\n",
       "      <th>brewery_state</th>\n",
       "      <th>brewery_country</th>\n",
       "      <th>brewery_twitter</th>\n",
       "      <th>brewery_facebook</th>\n",
       "    </tr>\n",
       "  </thead>\n",
       "  <tbody>\n",
       "    <tr>\n",
       "      <th>0</th>\n",
       "      <td>Närke Kaggen Stormaktsporter</td>\n",
       "      <td>9.5</td>\n",
       "      <td>4.489771</td>\n",
       "      <td>557</td>\n",
       "      <td>Imperial Stout</td>\n",
       "      <td>Microbrewery</td>\n",
       "      <td>Örebro</td>\n",
       "      <td>NaN</td>\n",
       "      <td>Sweden</td>\n",
       "      <td>NaN</td>\n",
       "      <td>NaN</td>\n",
       "    </tr>\n",
       "    <tr>\n",
       "      <th>1</th>\n",
       "      <td>Westvleteren 12 (XII)</td>\n",
       "      <td>10.2</td>\n",
       "      <td>4.426578</td>\n",
       "      <td>3332</td>\n",
       "      <td>Abt/Quadrupel</td>\n",
       "      <td>Microbrewery</td>\n",
       "      <td>Westvleteren</td>\n",
       "      <td>NaN</td>\n",
       "      <td>Belgium</td>\n",
       "      <td>NaN</td>\n",
       "      <td>NaN</td>\n",
       "    </tr>\n",
       "    <tr>\n",
       "      <th>2</th>\n",
       "      <td>Schramm’s The Heart of Darkness</td>\n",
       "      <td>14.0</td>\n",
       "      <td>4.423655</td>\n",
       "      <td>77</td>\n",
       "      <td>Mead</td>\n",
       "      <td>Meadery</td>\n",
       "      <td>Ferndale</td>\n",
       "      <td>Michigan</td>\n",
       "      <td>United States</td>\n",
       "      <td>schrammsmead</td>\n",
       "      <td>https://facebook.com/SchrammsMeadery</td>\n",
       "    </tr>\n",
       "    <tr>\n",
       "      <th>3</th>\n",
       "      <td>B. Nektar Ken Schramm Signature Series - The H...</td>\n",
       "      <td>14.0</td>\n",
       "      <td>4.421873</td>\n",
       "      <td>50</td>\n",
       "      <td>Mead</td>\n",
       "      <td>Meadery</td>\n",
       "      <td>Ferndale</td>\n",
       "      <td>Michigan</td>\n",
       "      <td>United States</td>\n",
       "      <td>bnektar</td>\n",
       "      <td>https://facebook.com/b.nektar</td>\n",
       "    </tr>\n",
       "    <tr>\n",
       "      <th>4</th>\n",
       "      <td>Cigar City Pilot Series Dragonfruit Passion Fr...</td>\n",
       "      <td>0.0</td>\n",
       "      <td>4.420719</td>\n",
       "      <td>46</td>\n",
       "      <td>Berliner Weisse</td>\n",
       "      <td>Microbrewery</td>\n",
       "      <td>Tampa</td>\n",
       "      <td>Florida</td>\n",
       "      <td>United States</td>\n",
       "      <td>cigarcitybeer</td>\n",
       "      <td>https://facebook.com/cigarcitybeer</td>\n",
       "    </tr>\n",
       "  </tbody>\n",
       "</table>\n",
       "</div>"
      ],
      "text/plain": [
       "                                           beer_name  beer_abv  \\\n",
       "0                       Närke Kaggen Stormaktsporter       9.5   \n",
       "1                              Westvleteren 12 (XII)      10.2   \n",
       "2                    Schramm’s The Heart of Darkness      14.0   \n",
       "3  B. Nektar Ken Schramm Signature Series - The H...      14.0   \n",
       "4  Cigar City Pilot Series Dragonfruit Passion Fr...       0.0   \n",
       "\n",
       "   beer_averageRating  beer_ratingCount   beer_styleName  brewery_type  \\\n",
       "0            4.489771               557   Imperial Stout  Microbrewery   \n",
       "1            4.426578              3332    Abt/Quadrupel  Microbrewery   \n",
       "2            4.423655                77             Mead       Meadery   \n",
       "3            4.421873                50             Mead       Meadery   \n",
       "4            4.420719                46  Berliner Weisse  Microbrewery   \n",
       "\n",
       "   brewery_city brewery_state brewery_country brewery_twitter  \\\n",
       "0        Örebro           NaN          Sweden             NaN   \n",
       "1  Westvleteren           NaN         Belgium             NaN   \n",
       "2      Ferndale      Michigan   United States    schrammsmead   \n",
       "3      Ferndale      Michigan   United States         bnektar   \n",
       "4         Tampa       Florida   United States   cigarcitybeer   \n",
       "\n",
       "                       brewery_facebook  \n",
       "0                                   NaN  \n",
       "1                                   NaN  \n",
       "2  https://facebook.com/SchrammsMeadery  \n",
       "3         https://facebook.com/b.nektar  \n",
       "4    https://facebook.com/cigarcitybeer  "
      ]
     },
     "execution_count": 32,
     "metadata": {},
     "output_type": "execute_result"
    }
   ],
   "source": [
    "df.head()"
   ]
  },
  {
   "cell_type": "markdown",
   "metadata": {},
   "source": [
    "Now that we have only the required columns in the dataframe, we will give easily readable names to the columns."
   ]
  },
  {
   "cell_type": "code",
   "execution_count": 33,
   "metadata": {},
   "outputs": [
    {
     "data": {
      "text/html": [
       "<div>\n",
       "<style>\n",
       "    .dataframe thead tr:only-child th {\n",
       "        text-align: right;\n",
       "    }\n",
       "\n",
       "    .dataframe thead th {\n",
       "        text-align: left;\n",
       "    }\n",
       "\n",
       "    .dataframe tbody tr th {\n",
       "        vertical-align: top;\n",
       "    }\n",
       "</style>\n",
       "<table border=\"1\" class=\"dataframe\">\n",
       "  <thead>\n",
       "    <tr style=\"text-align: right;\">\n",
       "      <th></th>\n",
       "      <th>Name</th>\n",
       "      <th>ABV</th>\n",
       "      <th>AverageRating</th>\n",
       "      <th>RatingCount</th>\n",
       "      <th>BeerStyle</th>\n",
       "      <th>BreweryType</th>\n",
       "      <th>City</th>\n",
       "      <th>State</th>\n",
       "      <th>Country</th>\n",
       "      <th>Twitter</th>\n",
       "      <th>Facebook</th>\n",
       "    </tr>\n",
       "  </thead>\n",
       "  <tbody>\n",
       "    <tr>\n",
       "      <th>0</th>\n",
       "      <td>Närke Kaggen Stormaktsporter</td>\n",
       "      <td>9.5</td>\n",
       "      <td>4.489771</td>\n",
       "      <td>557</td>\n",
       "      <td>Imperial Stout</td>\n",
       "      <td>Microbrewery</td>\n",
       "      <td>Örebro</td>\n",
       "      <td>NaN</td>\n",
       "      <td>Sweden</td>\n",
       "      <td>NaN</td>\n",
       "      <td>NaN</td>\n",
       "    </tr>\n",
       "    <tr>\n",
       "      <th>1</th>\n",
       "      <td>Westvleteren 12 (XII)</td>\n",
       "      <td>10.2</td>\n",
       "      <td>4.426578</td>\n",
       "      <td>3332</td>\n",
       "      <td>Abt/Quadrupel</td>\n",
       "      <td>Microbrewery</td>\n",
       "      <td>Westvleteren</td>\n",
       "      <td>NaN</td>\n",
       "      <td>Belgium</td>\n",
       "      <td>NaN</td>\n",
       "      <td>NaN</td>\n",
       "    </tr>\n",
       "    <tr>\n",
       "      <th>2</th>\n",
       "      <td>Schramm’s The Heart of Darkness</td>\n",
       "      <td>14.0</td>\n",
       "      <td>4.423655</td>\n",
       "      <td>77</td>\n",
       "      <td>Mead</td>\n",
       "      <td>Meadery</td>\n",
       "      <td>Ferndale</td>\n",
       "      <td>Michigan</td>\n",
       "      <td>United States</td>\n",
       "      <td>schrammsmead</td>\n",
       "      <td>https://facebook.com/SchrammsMeadery</td>\n",
       "    </tr>\n",
       "    <tr>\n",
       "      <th>3</th>\n",
       "      <td>B. Nektar Ken Schramm Signature Series - The H...</td>\n",
       "      <td>14.0</td>\n",
       "      <td>4.421873</td>\n",
       "      <td>50</td>\n",
       "      <td>Mead</td>\n",
       "      <td>Meadery</td>\n",
       "      <td>Ferndale</td>\n",
       "      <td>Michigan</td>\n",
       "      <td>United States</td>\n",
       "      <td>bnektar</td>\n",
       "      <td>https://facebook.com/b.nektar</td>\n",
       "    </tr>\n",
       "    <tr>\n",
       "      <th>4</th>\n",
       "      <td>Cigar City Pilot Series Dragonfruit Passion Fr...</td>\n",
       "      <td>0.0</td>\n",
       "      <td>4.420719</td>\n",
       "      <td>46</td>\n",
       "      <td>Berliner Weisse</td>\n",
       "      <td>Microbrewery</td>\n",
       "      <td>Tampa</td>\n",
       "      <td>Florida</td>\n",
       "      <td>United States</td>\n",
       "      <td>cigarcitybeer</td>\n",
       "      <td>https://facebook.com/cigarcitybeer</td>\n",
       "    </tr>\n",
       "  </tbody>\n",
       "</table>\n",
       "</div>"
      ],
      "text/plain": [
       "                                                Name   ABV  AverageRating  \\\n",
       "0                       Närke Kaggen Stormaktsporter   9.5       4.489771   \n",
       "1                              Westvleteren 12 (XII)  10.2       4.426578   \n",
       "2                    Schramm’s The Heart of Darkness  14.0       4.423655   \n",
       "3  B. Nektar Ken Schramm Signature Series - The H...  14.0       4.421873   \n",
       "4  Cigar City Pilot Series Dragonfruit Passion Fr...   0.0       4.420719   \n",
       "\n",
       "   RatingCount        BeerStyle   BreweryType          City     State  \\\n",
       "0          557   Imperial Stout  Microbrewery        Örebro       NaN   \n",
       "1         3332    Abt/Quadrupel  Microbrewery  Westvleteren       NaN   \n",
       "2           77             Mead       Meadery      Ferndale  Michigan   \n",
       "3           50             Mead       Meadery      Ferndale  Michigan   \n",
       "4           46  Berliner Weisse  Microbrewery         Tampa   Florida   \n",
       "\n",
       "         Country        Twitter                              Facebook  \n",
       "0         Sweden            NaN                                   NaN  \n",
       "1        Belgium            NaN                                   NaN  \n",
       "2  United States   schrammsmead  https://facebook.com/SchrammsMeadery  \n",
       "3  United States        bnektar         https://facebook.com/b.nektar  \n",
       "4  United States  cigarcitybeer    https://facebook.com/cigarcitybeer  "
      ]
     },
     "execution_count": 33,
     "metadata": {},
     "output_type": "execute_result"
    }
   ],
   "source": [
    "df.columns = ['Name','ABV','AverageRating','RatingCount','BeerStyle','BreweryType','City','State','Country','Twitter','Facebook']\n",
    "df.head()"
   ]
  },
  {
   "cell_type": "markdown",
   "metadata": {},
   "source": [
    "As a next step, we will look at the summary statistics for the numerical columns to understand the data."
   ]
  },
  {
   "cell_type": "code",
   "execution_count": 34,
   "metadata": {},
   "outputs": [
    {
     "data": {
      "text/html": [
       "<div>\n",
       "<style>\n",
       "    .dataframe thead tr:only-child th {\n",
       "        text-align: right;\n",
       "    }\n",
       "\n",
       "    .dataframe thead th {\n",
       "        text-align: left;\n",
       "    }\n",
       "\n",
       "    .dataframe tbody tr th {\n",
       "        vertical-align: top;\n",
       "    }\n",
       "</style>\n",
       "<table border=\"1\" class=\"dataframe\">\n",
       "  <thead>\n",
       "    <tr style=\"text-align: right;\">\n",
       "      <th></th>\n",
       "      <th>ABV</th>\n",
       "      <th>AverageRating</th>\n",
       "      <th>RatingCount</th>\n",
       "    </tr>\n",
       "  </thead>\n",
       "  <tbody>\n",
       "    <tr>\n",
       "      <th>count</th>\n",
       "      <td>220000.000000</td>\n",
       "      <td>220000.000000</td>\n",
       "      <td>220000.000000</td>\n",
       "    </tr>\n",
       "    <tr>\n",
       "      <th>mean</th>\n",
       "      <td>5.914893</td>\n",
       "      <td>3.090490</td>\n",
       "      <td>35.734341</td>\n",
       "    </tr>\n",
       "    <tr>\n",
       "      <th>std</th>\n",
       "      <td>2.597578</td>\n",
       "      <td>0.372849</td>\n",
       "      <td>127.098904</td>\n",
       "    </tr>\n",
       "    <tr>\n",
       "      <th>min</th>\n",
       "      <td>0.000000</td>\n",
       "      <td>1.800000</td>\n",
       "      <td>0.000000</td>\n",
       "    </tr>\n",
       "    <tr>\n",
       "      <th>25%</th>\n",
       "      <td>4.700000</td>\n",
       "      <td>2.878205</td>\n",
       "      <td>5.000000</td>\n",
       "    </tr>\n",
       "    <tr>\n",
       "      <th>50%</th>\n",
       "      <td>5.500000</td>\n",
       "      <td>3.112463</td>\n",
       "      <td>10.000000</td>\n",
       "    </tr>\n",
       "    <tr>\n",
       "      <th>75%</th>\n",
       "      <td>7.000000</td>\n",
       "      <td>3.340448</td>\n",
       "      <td>25.000000</td>\n",
       "    </tr>\n",
       "    <tr>\n",
       "      <th>max</th>\n",
       "      <td>73.000000</td>\n",
       "      <td>4.489771</td>\n",
       "      <td>5182.000000</td>\n",
       "    </tr>\n",
       "  </tbody>\n",
       "</table>\n",
       "</div>"
      ],
      "text/plain": [
       "                 ABV  AverageRating    RatingCount\n",
       "count  220000.000000  220000.000000  220000.000000\n",
       "mean        5.914893       3.090490      35.734341\n",
       "std         2.597578       0.372849     127.098904\n",
       "min         0.000000       1.800000       0.000000\n",
       "25%         4.700000       2.878205       5.000000\n",
       "50%         5.500000       3.112463      10.000000\n",
       "75%         7.000000       3.340448      25.000000\n",
       "max        73.000000       4.489771    5182.000000"
      ]
     },
     "execution_count": 34,
     "metadata": {},
     "output_type": "execute_result"
    }
   ],
   "source": [
    "df.describe()"
   ]
  },
  {
   "cell_type": "markdown",
   "metadata": {},
   "source": [
    "There are beers with a ABV values of 0. This is very interesting. We need to look at these more closely. These could be errors in the data or missing values coded as 0. The mean value of ABV is about 6%. There are beers ABV as high as 73%. These are rare and maybe outliers in the data. \n",
    "\n",
    "The zero values in the rating count column is suspect. A beer cannot have an average rating without anybody reviewing it! We will also look at these closely.\n",
    "\n",
    "The zero values will not be dealt with now and assume that the zero values are not missing. We will inspect these in detail when we do an exploratory data analysis. "
   ]
  },
  {
   "cell_type": "markdown",
   "metadata": {},
   "source": [
    "### Social Media\n",
    "\n",
    "We will be using the facebook and twitter columns to analyze the influence of social media on the rating counts and average rating. We will asumme that the missing values indicate that the beer/brewery does not have a social media account. We will create the following binary columns - has_twitter and has_facebook for analysis."
   ]
  },
  {
   "cell_type": "code",
   "execution_count": 36,
   "metadata": {},
   "outputs": [
    {
     "data": {
      "text/plain": [
       "110147"
      ]
     },
     "execution_count": 36,
     "metadata": {},
     "output_type": "execute_result"
    }
   ],
   "source": [
    "df.Twitter.isnull().sum()"
   ]
  },
  {
   "cell_type": "code",
   "execution_count": 37,
   "metadata": {},
   "outputs": [
    {
     "data": {
      "text/plain": [
       "60080"
      ]
     },
     "execution_count": 37,
     "metadata": {},
     "output_type": "execute_result"
    }
   ],
   "source": [
    "df.Facebook.isnull().sum()"
   ]
  },
  {
   "cell_type": "markdown",
   "metadata": {},
   "source": [
    "There are quite a few beers with either social media accounts - 109,853 beers have twitter, 159,220 have facebook. Looks like brewries prefer facbook over twitter. This can be an interesting analysis to see which social media account has a greater influence on the average rating. Let's create the binary columns mentioned above."
   ]
  },
  {
   "cell_type": "code",
   "execution_count": 52,
   "metadata": {},
   "outputs": [],
   "source": [
    "import numpy as np\n",
    "df['has_twitter'] = np.where(pd.isnull(df.Twitter), 0, 1)"
   ]
  },
  {
   "cell_type": "code",
   "execution_count": 53,
   "metadata": {},
   "outputs": [],
   "source": [
    "df['has_facebook'] = np.where(pd.isnull(df.Facebook), 0, 1)"
   ]
  },
  {
   "cell_type": "markdown",
   "metadata": {},
   "source": [
    "Lets quickly check the number of beers with twitter and facebook."
   ]
  },
  {
   "cell_type": "code",
   "execution_count": 54,
   "metadata": {},
   "outputs": [
    {
     "data": {
      "text/plain": [
       "159920"
      ]
     },
     "execution_count": 54,
     "metadata": {},
     "output_type": "execute_result"
    }
   ],
   "source": [
    "df.has_facebook.sum()"
   ]
  },
  {
   "cell_type": "code",
   "execution_count": 55,
   "metadata": {},
   "outputs": [
    {
     "data": {
      "text/plain": [
       "109853"
      ]
     },
     "execution_count": 55,
     "metadata": {},
     "output_type": "execute_result"
    }
   ],
   "source": [
    "df.has_twitter.sum()"
   ]
  },
  {
   "cell_type": "code",
   "execution_count": 56,
   "metadata": {},
   "outputs": [
    {
     "data": {
      "text/html": [
       "<div>\n",
       "<style>\n",
       "    .dataframe thead tr:only-child th {\n",
       "        text-align: right;\n",
       "    }\n",
       "\n",
       "    .dataframe thead th {\n",
       "        text-align: left;\n",
       "    }\n",
       "\n",
       "    .dataframe tbody tr th {\n",
       "        vertical-align: top;\n",
       "    }\n",
       "</style>\n",
       "<table border=\"1\" class=\"dataframe\">\n",
       "  <thead>\n",
       "    <tr style=\"text-align: right;\">\n",
       "      <th></th>\n",
       "      <th>Name</th>\n",
       "      <th>ABV</th>\n",
       "      <th>AverageRating</th>\n",
       "      <th>RatingCount</th>\n",
       "      <th>BeerStyle</th>\n",
       "      <th>BreweryType</th>\n",
       "      <th>City</th>\n",
       "      <th>State</th>\n",
       "      <th>Country</th>\n",
       "      <th>Twitter</th>\n",
       "      <th>Facebook</th>\n",
       "      <th>has_twitter</th>\n",
       "      <th>has_facebook</th>\n",
       "    </tr>\n",
       "  </thead>\n",
       "  <tbody>\n",
       "    <tr>\n",
       "      <th>0</th>\n",
       "      <td>Närke Kaggen Stormaktsporter</td>\n",
       "      <td>9.5</td>\n",
       "      <td>4.489771</td>\n",
       "      <td>557</td>\n",
       "      <td>Imperial Stout</td>\n",
       "      <td>Microbrewery</td>\n",
       "      <td>Örebro</td>\n",
       "      <td>NaN</td>\n",
       "      <td>Sweden</td>\n",
       "      <td>NaN</td>\n",
       "      <td>NaN</td>\n",
       "      <td>0</td>\n",
       "      <td>0</td>\n",
       "    </tr>\n",
       "    <tr>\n",
       "      <th>1</th>\n",
       "      <td>Westvleteren 12 (XII)</td>\n",
       "      <td>10.2</td>\n",
       "      <td>4.426578</td>\n",
       "      <td>3332</td>\n",
       "      <td>Abt/Quadrupel</td>\n",
       "      <td>Microbrewery</td>\n",
       "      <td>Westvleteren</td>\n",
       "      <td>NaN</td>\n",
       "      <td>Belgium</td>\n",
       "      <td>NaN</td>\n",
       "      <td>NaN</td>\n",
       "      <td>0</td>\n",
       "      <td>0</td>\n",
       "    </tr>\n",
       "    <tr>\n",
       "      <th>2</th>\n",
       "      <td>Schramm’s The Heart of Darkness</td>\n",
       "      <td>14.0</td>\n",
       "      <td>4.423655</td>\n",
       "      <td>77</td>\n",
       "      <td>Mead</td>\n",
       "      <td>Meadery</td>\n",
       "      <td>Ferndale</td>\n",
       "      <td>Michigan</td>\n",
       "      <td>United States</td>\n",
       "      <td>schrammsmead</td>\n",
       "      <td>https://facebook.com/SchrammsMeadery</td>\n",
       "      <td>1</td>\n",
       "      <td>1</td>\n",
       "    </tr>\n",
       "    <tr>\n",
       "      <th>3</th>\n",
       "      <td>B. Nektar Ken Schramm Signature Series - The H...</td>\n",
       "      <td>14.0</td>\n",
       "      <td>4.421873</td>\n",
       "      <td>50</td>\n",
       "      <td>Mead</td>\n",
       "      <td>Meadery</td>\n",
       "      <td>Ferndale</td>\n",
       "      <td>Michigan</td>\n",
       "      <td>United States</td>\n",
       "      <td>bnektar</td>\n",
       "      <td>https://facebook.com/b.nektar</td>\n",
       "      <td>1</td>\n",
       "      <td>1</td>\n",
       "    </tr>\n",
       "    <tr>\n",
       "      <th>4</th>\n",
       "      <td>Cigar City Pilot Series Dragonfruit Passion Fr...</td>\n",
       "      <td>0.0</td>\n",
       "      <td>4.420719</td>\n",
       "      <td>46</td>\n",
       "      <td>Berliner Weisse</td>\n",
       "      <td>Microbrewery</td>\n",
       "      <td>Tampa</td>\n",
       "      <td>Florida</td>\n",
       "      <td>United States</td>\n",
       "      <td>cigarcitybeer</td>\n",
       "      <td>https://facebook.com/cigarcitybeer</td>\n",
       "      <td>1</td>\n",
       "      <td>1</td>\n",
       "    </tr>\n",
       "  </tbody>\n",
       "</table>\n",
       "</div>"
      ],
      "text/plain": [
       "                                                Name   ABV  AverageRating  \\\n",
       "0                       Närke Kaggen Stormaktsporter   9.5       4.489771   \n",
       "1                              Westvleteren 12 (XII)  10.2       4.426578   \n",
       "2                    Schramm’s The Heart of Darkness  14.0       4.423655   \n",
       "3  B. Nektar Ken Schramm Signature Series - The H...  14.0       4.421873   \n",
       "4  Cigar City Pilot Series Dragonfruit Passion Fr...   0.0       4.420719   \n",
       "\n",
       "   RatingCount        BeerStyle   BreweryType          City     State  \\\n",
       "0          557   Imperial Stout  Microbrewery        Örebro       NaN   \n",
       "1         3332    Abt/Quadrupel  Microbrewery  Westvleteren       NaN   \n",
       "2           77             Mead       Meadery      Ferndale  Michigan   \n",
       "3           50             Mead       Meadery      Ferndale  Michigan   \n",
       "4           46  Berliner Weisse  Microbrewery         Tampa   Florida   \n",
       "\n",
       "         Country        Twitter                              Facebook  \\\n",
       "0         Sweden            NaN                                   NaN   \n",
       "1        Belgium            NaN                                   NaN   \n",
       "2  United States   schrammsmead  https://facebook.com/SchrammsMeadery   \n",
       "3  United States        bnektar         https://facebook.com/b.nektar   \n",
       "4  United States  cigarcitybeer    https://facebook.com/cigarcitybeer   \n",
       "\n",
       "   has_twitter  has_facebook  \n",
       "0            0             0  \n",
       "1            0             0  \n",
       "2            1             1  \n",
       "3            1             1  \n",
       "4            1             1  "
      ]
     },
     "execution_count": 56,
     "metadata": {},
     "output_type": "execute_result"
    }
   ],
   "source": [
    "df.head()"
   ]
  },
  {
   "cell_type": "markdown",
   "metadata": {},
   "source": [
    "Now that we have the binary columns we can drop the twitter and facebook columns. "
   ]
  },
  {
   "cell_type": "code",
   "execution_count": 57,
   "metadata": {
    "collapsed": true
   },
   "outputs": [],
   "source": [
    "df.drop(['Twitter','Facebook'],axis=1,inplace=True)"
   ]
  },
  {
   "cell_type": "code",
   "execution_count": 58,
   "metadata": {},
   "outputs": [
    {
     "data": {
      "text/html": [
       "<div>\n",
       "<style>\n",
       "    .dataframe thead tr:only-child th {\n",
       "        text-align: right;\n",
       "    }\n",
       "\n",
       "    .dataframe thead th {\n",
       "        text-align: left;\n",
       "    }\n",
       "\n",
       "    .dataframe tbody tr th {\n",
       "        vertical-align: top;\n",
       "    }\n",
       "</style>\n",
       "<table border=\"1\" class=\"dataframe\">\n",
       "  <thead>\n",
       "    <tr style=\"text-align: right;\">\n",
       "      <th></th>\n",
       "      <th>Name</th>\n",
       "      <th>ABV</th>\n",
       "      <th>AverageRating</th>\n",
       "      <th>RatingCount</th>\n",
       "      <th>BeerStyle</th>\n",
       "      <th>BreweryType</th>\n",
       "      <th>City</th>\n",
       "      <th>State</th>\n",
       "      <th>Country</th>\n",
       "      <th>has_twitter</th>\n",
       "      <th>has_facebook</th>\n",
       "    </tr>\n",
       "  </thead>\n",
       "  <tbody>\n",
       "    <tr>\n",
       "      <th>0</th>\n",
       "      <td>Närke Kaggen Stormaktsporter</td>\n",
       "      <td>9.5</td>\n",
       "      <td>4.489771</td>\n",
       "      <td>557</td>\n",
       "      <td>Imperial Stout</td>\n",
       "      <td>Microbrewery</td>\n",
       "      <td>Örebro</td>\n",
       "      <td>NaN</td>\n",
       "      <td>Sweden</td>\n",
       "      <td>0</td>\n",
       "      <td>0</td>\n",
       "    </tr>\n",
       "    <tr>\n",
       "      <th>1</th>\n",
       "      <td>Westvleteren 12 (XII)</td>\n",
       "      <td>10.2</td>\n",
       "      <td>4.426578</td>\n",
       "      <td>3332</td>\n",
       "      <td>Abt/Quadrupel</td>\n",
       "      <td>Microbrewery</td>\n",
       "      <td>Westvleteren</td>\n",
       "      <td>NaN</td>\n",
       "      <td>Belgium</td>\n",
       "      <td>0</td>\n",
       "      <td>0</td>\n",
       "    </tr>\n",
       "    <tr>\n",
       "      <th>2</th>\n",
       "      <td>Schramm’s The Heart of Darkness</td>\n",
       "      <td>14.0</td>\n",
       "      <td>4.423655</td>\n",
       "      <td>77</td>\n",
       "      <td>Mead</td>\n",
       "      <td>Meadery</td>\n",
       "      <td>Ferndale</td>\n",
       "      <td>Michigan</td>\n",
       "      <td>United States</td>\n",
       "      <td>1</td>\n",
       "      <td>1</td>\n",
       "    </tr>\n",
       "    <tr>\n",
       "      <th>3</th>\n",
       "      <td>B. Nektar Ken Schramm Signature Series - The H...</td>\n",
       "      <td>14.0</td>\n",
       "      <td>4.421873</td>\n",
       "      <td>50</td>\n",
       "      <td>Mead</td>\n",
       "      <td>Meadery</td>\n",
       "      <td>Ferndale</td>\n",
       "      <td>Michigan</td>\n",
       "      <td>United States</td>\n",
       "      <td>1</td>\n",
       "      <td>1</td>\n",
       "    </tr>\n",
       "    <tr>\n",
       "      <th>4</th>\n",
       "      <td>Cigar City Pilot Series Dragonfruit Passion Fr...</td>\n",
       "      <td>0.0</td>\n",
       "      <td>4.420719</td>\n",
       "      <td>46</td>\n",
       "      <td>Berliner Weisse</td>\n",
       "      <td>Microbrewery</td>\n",
       "      <td>Tampa</td>\n",
       "      <td>Florida</td>\n",
       "      <td>United States</td>\n",
       "      <td>1</td>\n",
       "      <td>1</td>\n",
       "    </tr>\n",
       "  </tbody>\n",
       "</table>\n",
       "</div>"
      ],
      "text/plain": [
       "                                                Name   ABV  AverageRating  \\\n",
       "0                       Närke Kaggen Stormaktsporter   9.5       4.489771   \n",
       "1                              Westvleteren 12 (XII)  10.2       4.426578   \n",
       "2                    Schramm’s The Heart of Darkness  14.0       4.423655   \n",
       "3  B. Nektar Ken Schramm Signature Series - The H...  14.0       4.421873   \n",
       "4  Cigar City Pilot Series Dragonfruit Passion Fr...   0.0       4.420719   \n",
       "\n",
       "   RatingCount        BeerStyle   BreweryType          City     State  \\\n",
       "0          557   Imperial Stout  Microbrewery        Örebro       NaN   \n",
       "1         3332    Abt/Quadrupel  Microbrewery  Westvleteren       NaN   \n",
       "2           77             Mead       Meadery      Ferndale  Michigan   \n",
       "3           50             Mead       Meadery      Ferndale  Michigan   \n",
       "4           46  Berliner Weisse  Microbrewery         Tampa   Florida   \n",
       "\n",
       "         Country  has_twitter  has_facebook  \n",
       "0         Sweden            0             0  \n",
       "1        Belgium            0             0  \n",
       "2  United States            1             1  \n",
       "3  United States            1             1  \n",
       "4  United States            1             1  "
      ]
     },
     "execution_count": 58,
     "metadata": {},
     "output_type": "execute_result"
    }
   ],
   "source": [
    "df.head()"
   ]
  },
  {
   "cell_type": "markdown",
   "metadata": {},
   "source": [
    "### Missing Values in the other columns\n",
    "\n",
    "We will look at the missing values in the City, State, Country, BreweryType and BeerStyle columns."
   ]
  },
  {
   "cell_type": "code",
   "execution_count": 59,
   "metadata": {},
   "outputs": [
    {
     "data": {
      "text/plain": [
       "0"
      ]
     },
     "execution_count": 59,
     "metadata": {},
     "output_type": "execute_result"
    }
   ],
   "source": [
    "df.BeerStyle.isnull().sum()"
   ]
  },
  {
   "cell_type": "code",
   "execution_count": 60,
   "metadata": {},
   "outputs": [
    {
     "data": {
      "text/plain": [
       "0"
      ]
     },
     "execution_count": 60,
     "metadata": {},
     "output_type": "execute_result"
    }
   ],
   "source": [
    "df.BreweryType.isnull().sum()"
   ]
  },
  {
   "cell_type": "code",
   "execution_count": 67,
   "metadata": {},
   "outputs": [
    {
     "data": {
      "text/plain": [
       "0"
      ]
     },
     "execution_count": 67,
     "metadata": {},
     "output_type": "execute_result"
    }
   ],
   "source": [
    "df.Country = df.Country.str.strip()\n",
    "df.Country.isnull().sum()"
   ]
  },
  {
   "cell_type": "code",
   "execution_count": 63,
   "metadata": {},
   "outputs": [
    {
     "data": {
      "text/plain": [
       "81306"
      ]
     },
     "execution_count": 63,
     "metadata": {},
     "output_type": "execute_result"
    }
   ],
   "source": [
    "df.State.isnull().sum()"
   ]
  },
  {
   "cell_type": "code",
   "execution_count": 64,
   "metadata": {},
   "outputs": [
    {
     "data": {
      "text/plain": [
       "560"
      ]
     },
     "execution_count": 64,
     "metadata": {},
     "output_type": "execute_result"
    }
   ],
   "source": [
    "df.City.isnull().sum()"
   ]
  },
  {
   "cell_type": "markdown",
   "metadata": {},
   "source": [
    "There are 81,306 missing values in the state column and 560 missing values from the city column. We are not interested in comparing the beers from different states and cities around the world. We will evaluate the varations across the countries. However, it will be good to compare beers across states and cities within the US. Let us check if there are states and cities missing for beers from the US"
   ]
  },
  {
   "cell_type": "code",
   "execution_count": 70,
   "metadata": {},
   "outputs": [
    {
     "data": {
      "text/plain": [
       "54"
      ]
     },
     "execution_count": 70,
     "metadata": {},
     "output_type": "execute_result"
    }
   ],
   "source": [
    "# number of missing states for the beers from the US \n",
    "df.State = df.State.str.strip()\n",
    "df[df.Country == 'United States'].State.isnull().sum()"
   ]
  },
  {
   "cell_type": "code",
   "execution_count": 71,
   "metadata": {},
   "outputs": [
    {
     "data": {
      "text/plain": [
       "8"
      ]
     },
     "execution_count": 71,
     "metadata": {},
     "output_type": "execute_result"
    }
   ],
   "source": [
    "# number of missing cities for the beers from US\n",
    "df.City = df.City.str.strip()\n",
    "df[df.Country == 'United States'].City.isnull().sum()"
   ]
  },
  {
   "cell_type": "code",
   "execution_count": 72,
   "metadata": {},
   "outputs": [
    {
     "data": {
      "text/plain": [
       "88228"
      ]
     },
     "execution_count": 72,
     "metadata": {},
     "output_type": "execute_result"
    }
   ],
   "source": [
    "# No. of beers from the US \n",
    "df[df.Country == 'United States'].Country.count()"
   ]
  },
  {
   "cell_type": "markdown",
   "metadata": {},
   "source": [
    "There are 54 missing states and 8 cities out of the 88,228 observations. This is not very siginifcant and will keep it in the dataset for now. We can fix as needed during the exploratory data analysis as needed.\n",
    "\n",
    "The dataframe can be saved as a .csv file now for further analysis."
   ]
  },
  {
   "cell_type": "code",
   "execution_count": 73,
   "metadata": {
    "collapsed": true
   },
   "outputs": [],
   "source": [
    "df.to_csv('Allbeers.csv',sep=',',encoding='utf-8')"
   ]
  },
  {
   "cell_type": "code",
   "execution_count": null,
   "metadata": {
    "collapsed": true
   },
   "outputs": [],
   "source": []
  }
 ],
 "metadata": {
  "kernelspec": {
   "display_name": "Python 3",
   "language": "python",
   "name": "python3"
  },
  "language_info": {
   "codemirror_mode": {
    "name": "ipython",
    "version": 3
   },
   "file_extension": ".py",
   "mimetype": "text/x-python",
   "name": "python",
   "nbconvert_exporter": "python",
   "pygments_lexer": "ipython3",
   "version": "3.6.3"
  }
 },
 "nbformat": 4,
 "nbformat_minor": 2
}

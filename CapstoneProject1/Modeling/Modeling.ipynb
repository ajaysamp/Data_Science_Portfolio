{
 "cells": [
  {
   "cell_type": "markdown",
   "metadata": {},
   "source": [
    "This notebook applies machine learning modeling techniques. The following have been analyzed:\n",
    "\n",
    "1. Clustering methods have been applied to predict country labels based on the other variables \n",
    "2. Classification techniques have been applied to predict if a beer will have a rating above or below 4"
   ]
  },
  {
   "cell_type": "markdown",
   "metadata": {},
   "source": [
    "## Import Python Packages"
   ]
  },
  {
   "cell_type": "code",
   "execution_count": 1,
   "metadata": {
    "collapsed": true
   },
   "outputs": [],
   "source": [
    "import pandas as pd\n",
    "import numpy as np\n",
    "import matplotlib.pyplot as plt\n",
    "from sklearn.cluster import KMeans\n",
    "from sklearn.preprocessing import StandardScaler\n",
    "from sklearn.pipeline import make_pipeline\n",
    "from sklearn.preprocessing import Normalizer\n",
    "from sklearn.neighbors import KNeighborsClassifier\n",
    "from sklearn.model_selection import train_test_split, GridSearchCV\n",
    "from sklearn.metrics import classification_report\n",
    "from sklearn.metrics import confusion_matrix\n",
    "from sklearn.linear_model import LogisticRegression\n",
    "from sklearn.metrics import roc_auc_score, roc_curve, accuracy_score\n",
    "from scipy.cluster.hierarchy import dendrogram, linkage, fcluster\n",
    "from sklearn.tree import DecisionTreeClassifier"
   ]
  },
  {
   "cell_type": "markdown",
   "metadata": {},
   "source": [
    "## Import Data"
   ]
  },
  {
   "cell_type": "code",
   "execution_count": 2,
   "metadata": {
    "collapsed": true
   },
   "outputs": [],
   "source": [
    "df = pd.read_csv('FinalData.csv')"
   ]
  },
  {
   "cell_type": "code",
   "execution_count": 3,
   "metadata": {},
   "outputs": [
    {
     "data": {
      "text/html": [
       "<div>\n",
       "<style>\n",
       "    .dataframe thead tr:only-child th {\n",
       "        text-align: right;\n",
       "    }\n",
       "\n",
       "    .dataframe thead th {\n",
       "        text-align: left;\n",
       "    }\n",
       "\n",
       "    .dataframe tbody tr th {\n",
       "        vertical-align: top;\n",
       "    }\n",
       "</style>\n",
       "<table border=\"1\" class=\"dataframe\">\n",
       "  <thead>\n",
       "    <tr style=\"text-align: right;\">\n",
       "      <th></th>\n",
       "      <th>Unnamed: 0</th>\n",
       "      <th>Name</th>\n",
       "      <th>ABV</th>\n",
       "      <th>AverageRating</th>\n",
       "      <th>RatingCount</th>\n",
       "      <th>BeerStyle</th>\n",
       "      <th>BreweryType</th>\n",
       "      <th>City</th>\n",
       "      <th>State</th>\n",
       "      <th>Country</th>\n",
       "      <th>has_twitter</th>\n",
       "      <th>has_facebook</th>\n",
       "      <th>SocialMedia</th>\n",
       "    </tr>\n",
       "  </thead>\n",
       "  <tbody>\n",
       "    <tr>\n",
       "      <th>0</th>\n",
       "      <td>0</td>\n",
       "      <td>Närke Kaggen Stormaktsporter</td>\n",
       "      <td>9.500000</td>\n",
       "      <td>4.489771</td>\n",
       "      <td>557.0</td>\n",
       "      <td>Imperial Stout</td>\n",
       "      <td>Microbrewery</td>\n",
       "      <td>Örebro</td>\n",
       "      <td>NaN</td>\n",
       "      <td>Sweden</td>\n",
       "      <td>0</td>\n",
       "      <td>0</td>\n",
       "      <td>0</td>\n",
       "    </tr>\n",
       "    <tr>\n",
       "      <th>1</th>\n",
       "      <td>1</td>\n",
       "      <td>Westvleteren 12 (XII)</td>\n",
       "      <td>10.200000</td>\n",
       "      <td>4.426578</td>\n",
       "      <td>3332.0</td>\n",
       "      <td>Abt/Quadrupel</td>\n",
       "      <td>Microbrewery</td>\n",
       "      <td>Westvleteren</td>\n",
       "      <td>NaN</td>\n",
       "      <td>Belgium</td>\n",
       "      <td>0</td>\n",
       "      <td>0</td>\n",
       "      <td>0</td>\n",
       "    </tr>\n",
       "    <tr>\n",
       "      <th>2</th>\n",
       "      <td>2</td>\n",
       "      <td>Schramm’s The Heart of Darkness</td>\n",
       "      <td>14.000000</td>\n",
       "      <td>4.423655</td>\n",
       "      <td>77.0</td>\n",
       "      <td>Mead</td>\n",
       "      <td>Meadery</td>\n",
       "      <td>Ferndale</td>\n",
       "      <td>Michigan</td>\n",
       "      <td>United States</td>\n",
       "      <td>1</td>\n",
       "      <td>1</td>\n",
       "      <td>1</td>\n",
       "    </tr>\n",
       "    <tr>\n",
       "      <th>3</th>\n",
       "      <td>3</td>\n",
       "      <td>B. Nektar Ken Schramm Signature Series - The H...</td>\n",
       "      <td>14.000000</td>\n",
       "      <td>4.421873</td>\n",
       "      <td>50.0</td>\n",
       "      <td>Mead</td>\n",
       "      <td>Meadery</td>\n",
       "      <td>Ferndale</td>\n",
       "      <td>Michigan</td>\n",
       "      <td>United States</td>\n",
       "      <td>1</td>\n",
       "      <td>1</td>\n",
       "      <td>1</td>\n",
       "    </tr>\n",
       "    <tr>\n",
       "      <th>4</th>\n",
       "      <td>4</td>\n",
       "      <td>Cigar City Pilot Series Dragonfruit Passion Fr...</td>\n",
       "      <td>3.979168</td>\n",
       "      <td>4.420719</td>\n",
       "      <td>46.0</td>\n",
       "      <td>Berliner Weisse</td>\n",
       "      <td>Microbrewery</td>\n",
       "      <td>Tampa</td>\n",
       "      <td>Florida</td>\n",
       "      <td>United States</td>\n",
       "      <td>1</td>\n",
       "      <td>1</td>\n",
       "      <td>1</td>\n",
       "    </tr>\n",
       "  </tbody>\n",
       "</table>\n",
       "</div>"
      ],
      "text/plain": [
       "   Unnamed: 0                                               Name        ABV  \\\n",
       "0           0                       Närke Kaggen Stormaktsporter   9.500000   \n",
       "1           1                              Westvleteren 12 (XII)  10.200000   \n",
       "2           2                    Schramm’s The Heart of Darkness  14.000000   \n",
       "3           3  B. Nektar Ken Schramm Signature Series - The H...  14.000000   \n",
       "4           4  Cigar City Pilot Series Dragonfruit Passion Fr...   3.979168   \n",
       "\n",
       "   AverageRating  RatingCount        BeerStyle   BreweryType          City  \\\n",
       "0       4.489771        557.0   Imperial Stout  Microbrewery        Örebro   \n",
       "1       4.426578       3332.0    Abt/Quadrupel  Microbrewery  Westvleteren   \n",
       "2       4.423655         77.0             Mead       Meadery      Ferndale   \n",
       "3       4.421873         50.0             Mead       Meadery      Ferndale   \n",
       "4       4.420719         46.0  Berliner Weisse  Microbrewery         Tampa   \n",
       "\n",
       "      State        Country  has_twitter  has_facebook  SocialMedia  \n",
       "0       NaN         Sweden            0             0            0  \n",
       "1       NaN        Belgium            0             0            0  \n",
       "2  Michigan  United States            1             1            1  \n",
       "3  Michigan  United States            1             1            1  \n",
       "4   Florida  United States            1             1            1  "
      ]
     },
     "execution_count": 3,
     "metadata": {},
     "output_type": "execute_result"
    }
   ],
   "source": [
    "df.head()"
   ]
  },
  {
   "cell_type": "code",
   "execution_count": 4,
   "metadata": {
    "collapsed": true
   },
   "outputs": [],
   "source": [
    "df.drop([\"Unnamed: 0\"], axis=1, inplace=True)"
   ]
  },
  {
   "cell_type": "code",
   "execution_count": 5,
   "metadata": {
    "collapsed": true
   },
   "outputs": [],
   "source": [
    "#Get beers from the top 15 countries\n",
    "total_beers = df.groupby('Country').Country.count()\n",
    "total_beers1 = dict(total_beers.sort_values(ascending=False).head(15))\n",
    "countries = list(total_beers1.keys())\n",
    "top_15 = pd.DataFrame()\n",
    "for c in countries:\n",
    "    top_15 = top_15.append(df[df.Country == c])\n"
   ]
  },
  {
   "cell_type": "code",
   "execution_count": 6,
   "metadata": {
    "collapsed": true
   },
   "outputs": [],
   "source": [
    "data = top_15"
   ]
  },
  {
   "cell_type": "code",
   "execution_count": 7,
   "metadata": {
    "collapsed": true
   },
   "outputs": [],
   "source": [
    "data = data.drop(['BeerStyle','BreweryType','City','State','Name','has_twitter','has_facebook'], axis=1)"
   ]
  },
  {
   "cell_type": "markdown",
   "metadata": {},
   "source": [
    "## K-Means Clustering"
   ]
  },
  {
   "cell_type": "code",
   "execution_count": 8,
   "metadata": {
    "collapsed": true
   },
   "outputs": [],
   "source": [
    "f1 = data.ABV.values\n",
    "f2 = data.AverageRating.values\n",
    "f3 = data.RatingCount.values\n",
    "f4 = data.SocialMedia.values\n",
    "X = np.array(list(zip(f1,f2,f3,f4)))"
   ]
  },
  {
   "cell_type": "code",
   "execution_count": 9,
   "metadata": {
    "collapsed": true
   },
   "outputs": [],
   "source": [
    "model = KMeans(n_clusters=15)"
   ]
  },
  {
   "cell_type": "code",
   "execution_count": 10,
   "metadata": {},
   "outputs": [
    {
     "data": {
      "text/plain": [
       "KMeans(algorithm='auto', copy_x=True, init='k-means++', max_iter=300,\n",
       "    n_clusters=15, n_init=10, n_jobs=1, precompute_distances='auto',\n",
       "    random_state=None, tol=0.0001, verbose=0)"
      ]
     },
     "execution_count": 10,
     "metadata": {},
     "output_type": "execute_result"
    }
   ],
   "source": [
    "model.fit(X)"
   ]
  },
  {
   "cell_type": "code",
   "execution_count": 11,
   "metadata": {
    "collapsed": true
   },
   "outputs": [],
   "source": [
    "labels = model.predict(X)"
   ]
  },
  {
   "cell_type": "code",
   "execution_count": 12,
   "metadata": {
    "collapsed": true
   },
   "outputs": [],
   "source": [
    "abv = X[:,0]\n",
    "avgrating = X[:,1]\n",
    "ratcount = X[:,2]"
   ]
  },
  {
   "cell_type": "code",
   "execution_count": 13,
   "metadata": {},
   "outputs": [
    {
     "data": {
      "image/png": "[encoded data removed]",
      "text/plain": [
       "<matplotlib.figure.Figure at 0x2a45956d748>"
      ]
     },
     "metadata": {},
     "output_type": "display_data"
    }
   ],
   "source": [
    "plt.figure(figsize=(10,4))\n",
    "plt.scatter(abv,ratcount,c=labels,alpha=0.5)\n",
    "plt.xlabel('Alcohol by Volume', size=15)\n",
    "plt.ylabel('Rating Count',size=15)\n",
    "plt.show()"
   ]
  },
  {
   "cell_type": "code",
   "execution_count": 14,
   "metadata": {},
   "outputs": [
    {
     "data": {
      "image/png": "[encoded data removed]",
      "text/plain": [
       "<matplotlib.figure.Figure at 0x2a4605e9668>"
      ]
     },
     "metadata": {},
     "output_type": "display_data"
    }
   ],
   "source": [
    "plt.figure(figsize=(10,4))\n",
    "plt.scatter(avgrating,ratcount,c=labels,alpha=0.5)\n",
    "plt.xlabel('Average Rating', size=15)\n",
    "plt.ylabel('Rating Count',size=15)\n",
    "plt.show()"
   ]
  },
  {
   "cell_type": "code",
   "execution_count": 15,
   "metadata": {},
   "outputs": [
    {
     "name": "stdout",
     "output_type": "stream",
     "text": [
      "34463073.7892\n"
     ]
    }
   ],
   "source": [
    "print (model.inertia_)"
   ]
  },
  {
   "cell_type": "markdown",
   "metadata": {},
   "source": [
    "The inertia is too high, which indicates that the labels are spread wide apart. We will do an inertia plot with different clusters."
   ]
  },
  {
   "cell_type": "code",
   "execution_count": 16,
   "metadata": {
    "collapsed": true
   },
   "outputs": [],
   "source": [
    "df_model = pd.DataFrame({'labels':labels,'country':data.Country})"
   ]
  },
  {
   "cell_type": "code",
   "execution_count": 17,
   "metadata": {
    "collapsed": true
   },
   "outputs": [],
   "source": [
    "ct_model = pd.crosstab(df_model['labels'],df_model['country'])"
   ]
  },
  {
   "cell_type": "code",
   "execution_count": 18,
   "metadata": {},
   "outputs": [
    {
     "data": {
      "text/html": [
       "<div>\n",
       "<style>\n",
       "    .dataframe thead tr:only-child th {\n",
       "        text-align: right;\n",
       "    }\n",
       "\n",
       "    .dataframe thead th {\n",
       "        text-align: left;\n",
       "    }\n",
       "\n",
       "    .dataframe tbody tr th {\n",
       "        vertical-align: top;\n",
       "    }\n",
       "</style>\n",
       "<table border=\"1\" class=\"dataframe\">\n",
       "  <thead>\n",
       "    <tr style=\"text-align: right;\">\n",
       "      <th>country</th>\n",
       "      <th>Belgium</th>\n",
       "      <th>Canada</th>\n",
       "      <th>Czech Republic</th>\n",
       "      <th>Denmark</th>\n",
       "      <th>England</th>\n",
       "      <th>Finland</th>\n",
       "      <th>France</th>\n",
       "      <th>Germany</th>\n",
       "      <th>Netherlands</th>\n",
       "      <th>Norway</th>\n",
       "      <th>Poland</th>\n",
       "      <th>Scotland</th>\n",
       "      <th>Spain</th>\n",
       "      <th>Sweden</th>\n",
       "      <th>United States</th>\n",
       "    </tr>\n",
       "    <tr>\n",
       "      <th>labels</th>\n",
       "      <th></th>\n",
       "      <th></th>\n",
       "      <th></th>\n",
       "      <th></th>\n",
       "      <th></th>\n",
       "      <th></th>\n",
       "      <th></th>\n",
       "      <th></th>\n",
       "      <th></th>\n",
       "      <th></th>\n",
       "      <th></th>\n",
       "      <th></th>\n",
       "      <th></th>\n",
       "      <th></th>\n",
       "      <th></th>\n",
       "    </tr>\n",
       "  </thead>\n",
       "  <tbody>\n",
       "    <tr>\n",
       "      <th>0</th>\n",
       "      <td>1954</td>\n",
       "      <td>9455</td>\n",
       "      <td>1965</td>\n",
       "      <td>3786</td>\n",
       "      <td>14296</td>\n",
       "      <td>1927</td>\n",
       "      <td>1991</td>\n",
       "      <td>7082</td>\n",
       "      <td>2988</td>\n",
       "      <td>2245</td>\n",
       "      <td>2646</td>\n",
       "      <td>1990</td>\n",
       "      <td>2002</td>\n",
       "      <td>3126</td>\n",
       "      <td>57643</td>\n",
       "    </tr>\n",
       "    <tr>\n",
       "      <th>1</th>\n",
       "      <td>24</td>\n",
       "      <td>4</td>\n",
       "      <td>0</td>\n",
       "      <td>1</td>\n",
       "      <td>5</td>\n",
       "      <td>0</td>\n",
       "      <td>1</td>\n",
       "      <td>12</td>\n",
       "      <td>3</td>\n",
       "      <td>1</td>\n",
       "      <td>0</td>\n",
       "      <td>4</td>\n",
       "      <td>0</td>\n",
       "      <td>0</td>\n",
       "      <td>88</td>\n",
       "    </tr>\n",
       "    <tr>\n",
       "      <th>2</th>\n",
       "      <td>105</td>\n",
       "      <td>22</td>\n",
       "      <td>4</td>\n",
       "      <td>33</td>\n",
       "      <td>46</td>\n",
       "      <td>0</td>\n",
       "      <td>6</td>\n",
       "      <td>41</td>\n",
       "      <td>20</td>\n",
       "      <td>12</td>\n",
       "      <td>10</td>\n",
       "      <td>20</td>\n",
       "      <td>3</td>\n",
       "      <td>5</td>\n",
       "      <td>476</td>\n",
       "    </tr>\n",
       "    <tr>\n",
       "      <th>3</th>\n",
       "      <td>454</td>\n",
       "      <td>391</td>\n",
       "      <td>124</td>\n",
       "      <td>705</td>\n",
       "      <td>710</td>\n",
       "      <td>81</td>\n",
       "      <td>77</td>\n",
       "      <td>482</td>\n",
       "      <td>337</td>\n",
       "      <td>148</td>\n",
       "      <td>290</td>\n",
       "      <td>165</td>\n",
       "      <td>82</td>\n",
       "      <td>289</td>\n",
       "      <td>3274</td>\n",
       "    </tr>\n",
       "    <tr>\n",
       "      <th>4</th>\n",
       "      <td>11</td>\n",
       "      <td>1</td>\n",
       "      <td>1</td>\n",
       "      <td>0</td>\n",
       "      <td>4</td>\n",
       "      <td>0</td>\n",
       "      <td>0</td>\n",
       "      <td>5</td>\n",
       "      <td>1</td>\n",
       "      <td>0</td>\n",
       "      <td>0</td>\n",
       "      <td>0</td>\n",
       "      <td>0</td>\n",
       "      <td>0</td>\n",
       "      <td>19</td>\n",
       "    </tr>\n",
       "    <tr>\n",
       "      <th>5</th>\n",
       "      <td>58</td>\n",
       "      <td>8</td>\n",
       "      <td>1</td>\n",
       "      <td>12</td>\n",
       "      <td>18</td>\n",
       "      <td>0</td>\n",
       "      <td>0</td>\n",
       "      <td>25</td>\n",
       "      <td>8</td>\n",
       "      <td>5</td>\n",
       "      <td>1</td>\n",
       "      <td>10</td>\n",
       "      <td>2</td>\n",
       "      <td>1</td>\n",
       "      <td>208</td>\n",
       "    </tr>\n",
       "    <tr>\n",
       "      <th>6</th>\n",
       "      <td>224</td>\n",
       "      <td>58</td>\n",
       "      <td>22</td>\n",
       "      <td>157</td>\n",
       "      <td>150</td>\n",
       "      <td>6</td>\n",
       "      <td>22</td>\n",
       "      <td>115</td>\n",
       "      <td>57</td>\n",
       "      <td>27</td>\n",
       "      <td>42</td>\n",
       "      <td>73</td>\n",
       "      <td>16</td>\n",
       "      <td>38</td>\n",
       "      <td>1208</td>\n",
       "    </tr>\n",
       "    <tr>\n",
       "      <th>7</th>\n",
       "      <td>12</td>\n",
       "      <td>3</td>\n",
       "      <td>1</td>\n",
       "      <td>1</td>\n",
       "      <td>7</td>\n",
       "      <td>0</td>\n",
       "      <td>0</td>\n",
       "      <td>7</td>\n",
       "      <td>1</td>\n",
       "      <td>0</td>\n",
       "      <td>0</td>\n",
       "      <td>1</td>\n",
       "      <td>0</td>\n",
       "      <td>0</td>\n",
       "      <td>64</td>\n",
       "    </tr>\n",
       "    <tr>\n",
       "      <th>8</th>\n",
       "      <td>787</td>\n",
       "      <td>1107</td>\n",
       "      <td>211</td>\n",
       "      <td>1541</td>\n",
       "      <td>1969</td>\n",
       "      <td>307</td>\n",
       "      <td>244</td>\n",
       "      <td>1229</td>\n",
       "      <td>773</td>\n",
       "      <td>400</td>\n",
       "      <td>652</td>\n",
       "      <td>332</td>\n",
       "      <td>204</td>\n",
       "      <td>723</td>\n",
       "      <td>6415</td>\n",
       "    </tr>\n",
       "    <tr>\n",
       "      <th>9</th>\n",
       "      <td>64</td>\n",
       "      <td>4</td>\n",
       "      <td>3</td>\n",
       "      <td>15</td>\n",
       "      <td>28</td>\n",
       "      <td>0</td>\n",
       "      <td>6</td>\n",
       "      <td>27</td>\n",
       "      <td>9</td>\n",
       "      <td>6</td>\n",
       "      <td>1</td>\n",
       "      <td>12</td>\n",
       "      <td>0</td>\n",
       "      <td>2</td>\n",
       "      <td>325</td>\n",
       "    </tr>\n",
       "    <tr>\n",
       "      <th>10</th>\n",
       "      <td>37</td>\n",
       "      <td>6</td>\n",
       "      <td>1</td>\n",
       "      <td>2</td>\n",
       "      <td>7</td>\n",
       "      <td>1</td>\n",
       "      <td>0</td>\n",
       "      <td>12</td>\n",
       "      <td>1</td>\n",
       "      <td>1</td>\n",
       "      <td>2</td>\n",
       "      <td>8</td>\n",
       "      <td>0</td>\n",
       "      <td>0</td>\n",
       "      <td>130</td>\n",
       "    </tr>\n",
       "    <tr>\n",
       "      <th>11</th>\n",
       "      <td>147</td>\n",
       "      <td>33</td>\n",
       "      <td>14</td>\n",
       "      <td>64</td>\n",
       "      <td>93</td>\n",
       "      <td>1</td>\n",
       "      <td>9</td>\n",
       "      <td>53</td>\n",
       "      <td>30</td>\n",
       "      <td>21</td>\n",
       "      <td>12</td>\n",
       "      <td>31</td>\n",
       "      <td>9</td>\n",
       "      <td>21</td>\n",
       "      <td>785</td>\n",
       "    </tr>\n",
       "    <tr>\n",
       "      <th>12</th>\n",
       "      <td>1276</td>\n",
       "      <td>2972</td>\n",
       "      <td>519</td>\n",
       "      <td>3025</td>\n",
       "      <td>5756</td>\n",
       "      <td>796</td>\n",
       "      <td>784</td>\n",
       "      <td>3834</td>\n",
       "      <td>1501</td>\n",
       "      <td>976</td>\n",
       "      <td>1329</td>\n",
       "      <td>745</td>\n",
       "      <td>622</td>\n",
       "      <td>1503</td>\n",
       "      <td>15734</td>\n",
       "    </tr>\n",
       "    <tr>\n",
       "      <th>13</th>\n",
       "      <td>333</td>\n",
       "      <td>161</td>\n",
       "      <td>62</td>\n",
       "      <td>302</td>\n",
       "      <td>313</td>\n",
       "      <td>17</td>\n",
       "      <td>43</td>\n",
       "      <td>205</td>\n",
       "      <td>150</td>\n",
       "      <td>64</td>\n",
       "      <td>105</td>\n",
       "      <td>130</td>\n",
       "      <td>30</td>\n",
       "      <td>111</td>\n",
       "      <td>1854</td>\n",
       "    </tr>\n",
       "    <tr>\n",
       "      <th>14</th>\n",
       "      <td>6</td>\n",
       "      <td>0</td>\n",
       "      <td>0</td>\n",
       "      <td>0</td>\n",
       "      <td>0</td>\n",
       "      <td>0</td>\n",
       "      <td>0</td>\n",
       "      <td>0</td>\n",
       "      <td>0</td>\n",
       "      <td>0</td>\n",
       "      <td>0</td>\n",
       "      <td>0</td>\n",
       "      <td>0</td>\n",
       "      <td>0</td>\n",
       "      <td>5</td>\n",
       "    </tr>\n",
       "  </tbody>\n",
       "</table>\n",
       "</div>"
      ],
      "text/plain": [
       "country  Belgium  Canada  Czech Republic  Denmark  England  Finland  France  \\\n",
       "labels                                                                        \n",
       "0           1954    9455            1965     3786    14296     1927    1991   \n",
       "1             24       4               0        1        5        0       1   \n",
       "2            105      22               4       33       46        0       6   \n",
       "3            454     391             124      705      710       81      77   \n",
       "4             11       1               1        0        4        0       0   \n",
       "5             58       8               1       12       18        0       0   \n",
       "6            224      58              22      157      150        6      22   \n",
       "7             12       3               1        1        7        0       0   \n",
       "8            787    1107             211     1541     1969      307     244   \n",
       "9             64       4               3       15       28        0       6   \n",
       "10            37       6               1        2        7        1       0   \n",
       "11           147      33              14       64       93        1       9   \n",
       "12          1276    2972             519     3025     5756      796     784   \n",
       "13           333     161              62      302      313       17      43   \n",
       "14             6       0               0        0        0        0       0   \n",
       "\n",
       "country  Germany  Netherlands  Norway  Poland  Scotland  Spain  Sweden  \\\n",
       "labels                                                                   \n",
       "0           7082         2988    2245    2646      1990   2002    3126   \n",
       "1             12            3       1       0         4      0       0   \n",
       "2             41           20      12      10        20      3       5   \n",
       "3            482          337     148     290       165     82     289   \n",
       "4              5            1       0       0         0      0       0   \n",
       "5             25            8       5       1        10      2       1   \n",
       "6            115           57      27      42        73     16      38   \n",
       "7              7            1       0       0         1      0       0   \n",
       "8           1229          773     400     652       332    204     723   \n",
       "9             27            9       6       1        12      0       2   \n",
       "10            12            1       1       2         8      0       0   \n",
       "11            53           30      21      12        31      9      21   \n",
       "12          3834         1501     976    1329       745    622    1503   \n",
       "13           205          150      64     105       130     30     111   \n",
       "14             0            0       0       0         0      0       0   \n",
       "\n",
       "country  United States  \n",
       "labels                  \n",
       "0                57643  \n",
       "1                   88  \n",
       "2                  476  \n",
       "3                 3274  \n",
       "4                   19  \n",
       "5                  208  \n",
       "6                 1208  \n",
       "7                   64  \n",
       "8                 6415  \n",
       "9                  325  \n",
       "10                 130  \n",
       "11                 785  \n",
       "12               15734  \n",
       "13                1854  \n",
       "14                   5  "
      ]
     },
     "execution_count": 18,
     "metadata": {},
     "output_type": "execute_result"
    }
   ],
   "source": [
    "ct_model"
   ]
  },
  {
   "cell_type": "code",
   "execution_count": 19,
   "metadata": {
    "collapsed": true
   },
   "outputs": [],
   "source": [
    "#run K-means with different number of clusters to get the inertia plot\n",
    "#ks = [15,25,35,45,55,65,75]\n",
    "#inertias =[]\n",
    "\n",
    "#for k in ks:\n",
    " #   model = KMeans(n_clusters=k)\n",
    " #   model.fit(X)\n",
    " #   inertias.append(model.inertia_)"
   ]
  },
  {
   "cell_type": "code",
   "execution_count": 20,
   "metadata": {
    "collapsed": true
   },
   "outputs": [],
   "source": [
    "#plt.plot(ks,inertias,'-o')\n",
    "#plt.xlabel('number of clusters, k', size=10)\n",
    "#plt.ylabel('inertia',size=10)\n",
    "#plt.title('K-means Inertia Plot', size =10)\n",
    "#plt.xticks(ks)\n",
    "#plt.show()"
   ]
  },
  {
   "cell_type": "markdown",
   "metadata": {},
   "source": [
    "The inertias are still very high even for 45 clusters. "
   ]
  },
  {
   "cell_type": "code",
   "execution_count": 21,
   "metadata": {
    "collapsed": true
   },
   "outputs": [],
   "source": [
    "model_45 = KMeans(n_clusters=45)"
   ]
  },
  {
   "cell_type": "code",
   "execution_count": 22,
   "metadata": {},
   "outputs": [
    {
     "data": {
      "text/plain": [
       "KMeans(algorithm='auto', copy_x=True, init='k-means++', max_iter=300,\n",
       "    n_clusters=45, n_init=10, n_jobs=1, precompute_distances='auto',\n",
       "    random_state=None, tol=0.0001, verbose=0)"
      ]
     },
     "execution_count": 22,
     "metadata": {},
     "output_type": "execute_result"
    }
   ],
   "source": [
    "model_45.fit(X)"
   ]
  },
  {
   "cell_type": "code",
   "execution_count": 23,
   "metadata": {
    "collapsed": true
   },
   "outputs": [],
   "source": [
    "labels_45 = model_45.predict(X)"
   ]
  },
  {
   "cell_type": "code",
   "execution_count": 24,
   "metadata": {
    "collapsed": true
   },
   "outputs": [],
   "source": [
    "df_model = pd.DataFrame({'labels':labels_45,'country':data.Country})"
   ]
  },
  {
   "cell_type": "code",
   "execution_count": 25,
   "metadata": {
    "collapsed": true
   },
   "outputs": [],
   "source": [
    "ct_model = pd.crosstab(df_model['labels'],df_model['country'])"
   ]
  },
  {
   "cell_type": "code",
   "execution_count": 26,
   "metadata": {},
   "outputs": [
    {
     "data": {
      "text/html": [
       "<div>\n",
       "<style>\n",
       "    .dataframe thead tr:only-child th {\n",
       "        text-align: right;\n",
       "    }\n",
       "\n",
       "    .dataframe thead th {\n",
       "        text-align: left;\n",
       "    }\n",
       "\n",
       "    .dataframe tbody tr th {\n",
       "        vertical-align: top;\n",
       "    }\n",
       "</style>\n",
       "<table border=\"1\" class=\"dataframe\">\n",
       "  <thead>\n",
       "    <tr style=\"text-align: right;\">\n",
       "      <th>country</th>\n",
       "      <th>Belgium</th>\n",
       "      <th>Canada</th>\n",
       "      <th>Czech Republic</th>\n",
       "      <th>Denmark</th>\n",
       "      <th>England</th>\n",
       "      <th>Finland</th>\n",
       "      <th>France</th>\n",
       "      <th>Germany</th>\n",
       "      <th>Netherlands</th>\n",
       "      <th>Norway</th>\n",
       "      <th>Poland</th>\n",
       "      <th>Scotland</th>\n",
       "      <th>Spain</th>\n",
       "      <th>Sweden</th>\n",
       "      <th>United States</th>\n",
       "    </tr>\n",
       "    <tr>\n",
       "      <th>labels</th>\n",
       "      <th></th>\n",
       "      <th></th>\n",
       "      <th></th>\n",
       "      <th></th>\n",
       "      <th></th>\n",
       "      <th></th>\n",
       "      <th></th>\n",
       "      <th></th>\n",
       "      <th></th>\n",
       "      <th></th>\n",
       "      <th></th>\n",
       "      <th></th>\n",
       "      <th></th>\n",
       "      <th></th>\n",
       "      <th></th>\n",
       "    </tr>\n",
       "  </thead>\n",
       "  <tbody>\n",
       "    <tr>\n",
       "      <th>0</th>\n",
       "      <td>735</td>\n",
       "      <td>2068</td>\n",
       "      <td>375</td>\n",
       "      <td>1524</td>\n",
       "      <td>3691</td>\n",
       "      <td>624</td>\n",
       "      <td>549</td>\n",
       "      <td>2400</td>\n",
       "      <td>931</td>\n",
       "      <td>652</td>\n",
       "      <td>729</td>\n",
       "      <td>464</td>\n",
       "      <td>427</td>\n",
       "      <td>882</td>\n",
       "      <td>11873</td>\n",
       "    </tr>\n",
       "    <tr>\n",
       "      <th>1</th>\n",
       "      <td>16</td>\n",
       "      <td>3</td>\n",
       "      <td>1</td>\n",
       "      <td>1</td>\n",
       "      <td>1</td>\n",
       "      <td>0</td>\n",
       "      <td>0</td>\n",
       "      <td>7</td>\n",
       "      <td>0</td>\n",
       "      <td>1</td>\n",
       "      <td>1</td>\n",
       "      <td>5</td>\n",
       "      <td>0</td>\n",
       "      <td>0</td>\n",
       "      <td>49</td>\n",
       "    </tr>\n",
       "    <tr>\n",
       "      <th>2</th>\n",
       "      <td>55</td>\n",
       "      <td>13</td>\n",
       "      <td>5</td>\n",
       "      <td>28</td>\n",
       "      <td>33</td>\n",
       "      <td>2</td>\n",
       "      <td>7</td>\n",
       "      <td>28</td>\n",
       "      <td>12</td>\n",
       "      <td>10</td>\n",
       "      <td>4</td>\n",
       "      <td>14</td>\n",
       "      <td>3</td>\n",
       "      <td>7</td>\n",
       "      <td>327</td>\n",
       "    </tr>\n",
       "    <tr>\n",
       "      <th>3</th>\n",
       "      <td>6</td>\n",
       "      <td>0</td>\n",
       "      <td>0</td>\n",
       "      <td>0</td>\n",
       "      <td>0</td>\n",
       "      <td>0</td>\n",
       "      <td>0</td>\n",
       "      <td>1</td>\n",
       "      <td>1</td>\n",
       "      <td>0</td>\n",
       "      <td>0</td>\n",
       "      <td>0</td>\n",
       "      <td>0</td>\n",
       "      <td>0</td>\n",
       "      <td>7</td>\n",
       "    </tr>\n",
       "    <tr>\n",
       "      <th>4</th>\n",
       "      <td>142</td>\n",
       "      <td>78</td>\n",
       "      <td>27</td>\n",
       "      <td>153</td>\n",
       "      <td>142</td>\n",
       "      <td>10</td>\n",
       "      <td>20</td>\n",
       "      <td>105</td>\n",
       "      <td>79</td>\n",
       "      <td>35</td>\n",
       "      <td>53</td>\n",
       "      <td>49</td>\n",
       "      <td>18</td>\n",
       "      <td>55</td>\n",
       "      <td>849</td>\n",
       "    </tr>\n",
       "    <tr>\n",
       "      <th>5</th>\n",
       "      <td>13</td>\n",
       "      <td>2</td>\n",
       "      <td>2</td>\n",
       "      <td>3</td>\n",
       "      <td>6</td>\n",
       "      <td>0</td>\n",
       "      <td>0</td>\n",
       "      <td>6</td>\n",
       "      <td>2</td>\n",
       "      <td>1</td>\n",
       "      <td>0</td>\n",
       "      <td>1</td>\n",
       "      <td>0</td>\n",
       "      <td>0</td>\n",
       "      <td>106</td>\n",
       "    </tr>\n",
       "    <tr>\n",
       "      <th>6</th>\n",
       "      <td>3</td>\n",
       "      <td>1</td>\n",
       "      <td>0</td>\n",
       "      <td>0</td>\n",
       "      <td>0</td>\n",
       "      <td>0</td>\n",
       "      <td>0</td>\n",
       "      <td>1</td>\n",
       "      <td>0</td>\n",
       "      <td>0</td>\n",
       "      <td>0</td>\n",
       "      <td>0</td>\n",
       "      <td>0</td>\n",
       "      <td>0</td>\n",
       "      <td>14</td>\n",
       "    </tr>\n",
       "    <tr>\n",
       "      <th>7</th>\n",
       "      <td>30</td>\n",
       "      <td>11</td>\n",
       "      <td>1</td>\n",
       "      <td>12</td>\n",
       "      <td>14</td>\n",
       "      <td>0</td>\n",
       "      <td>0</td>\n",
       "      <td>15</td>\n",
       "      <td>4</td>\n",
       "      <td>3</td>\n",
       "      <td>1</td>\n",
       "      <td>7</td>\n",
       "      <td>0</td>\n",
       "      <td>3</td>\n",
       "      <td>154</td>\n",
       "    </tr>\n",
       "    <tr>\n",
       "      <th>8</th>\n",
       "      <td>270</td>\n",
       "      <td>319</td>\n",
       "      <td>57</td>\n",
       "      <td>412</td>\n",
       "      <td>522</td>\n",
       "      <td>79</td>\n",
       "      <td>72</td>\n",
       "      <td>327</td>\n",
       "      <td>229</td>\n",
       "      <td>115</td>\n",
       "      <td>186</td>\n",
       "      <td>91</td>\n",
       "      <td>52</td>\n",
       "      <td>223</td>\n",
       "      <td>1910</td>\n",
       "    </tr>\n",
       "    <tr>\n",
       "      <th>9</th>\n",
       "      <td>5</td>\n",
       "      <td>0</td>\n",
       "      <td>0</td>\n",
       "      <td>0</td>\n",
       "      <td>1</td>\n",
       "      <td>0</td>\n",
       "      <td>0</td>\n",
       "      <td>3</td>\n",
       "      <td>1</td>\n",
       "      <td>0</td>\n",
       "      <td>0</td>\n",
       "      <td>0</td>\n",
       "      <td>0</td>\n",
       "      <td>0</td>\n",
       "      <td>21</td>\n",
       "    </tr>\n",
       "    <tr>\n",
       "      <th>10</th>\n",
       "      <td>18</td>\n",
       "      <td>2</td>\n",
       "      <td>0</td>\n",
       "      <td>7</td>\n",
       "      <td>9</td>\n",
       "      <td>0</td>\n",
       "      <td>0</td>\n",
       "      <td>8</td>\n",
       "      <td>2</td>\n",
       "      <td>3</td>\n",
       "      <td>0</td>\n",
       "      <td>5</td>\n",
       "      <td>1</td>\n",
       "      <td>1</td>\n",
       "      <td>71</td>\n",
       "    </tr>\n",
       "    <tr>\n",
       "      <th>11</th>\n",
       "      <td>71</td>\n",
       "      <td>29</td>\n",
       "      <td>8</td>\n",
       "      <td>68</td>\n",
       "      <td>49</td>\n",
       "      <td>2</td>\n",
       "      <td>9</td>\n",
       "      <td>48</td>\n",
       "      <td>29</td>\n",
       "      <td>13</td>\n",
       "      <td>17</td>\n",
       "      <td>33</td>\n",
       "      <td>10</td>\n",
       "      <td>23</td>\n",
       "      <td>472</td>\n",
       "    </tr>\n",
       "    <tr>\n",
       "      <th>12</th>\n",
       "      <td>4</td>\n",
       "      <td>0</td>\n",
       "      <td>0</td>\n",
       "      <td>0</td>\n",
       "      <td>0</td>\n",
       "      <td>0</td>\n",
       "      <td>0</td>\n",
       "      <td>0</td>\n",
       "      <td>0</td>\n",
       "      <td>0</td>\n",
       "      <td>0</td>\n",
       "      <td>0</td>\n",
       "      <td>0</td>\n",
       "      <td>0</td>\n",
       "      <td>3</td>\n",
       "    </tr>\n",
       "    <tr>\n",
       "      <th>13</th>\n",
       "      <td>196</td>\n",
       "      <td>149</td>\n",
       "      <td>61</td>\n",
       "      <td>271</td>\n",
       "      <td>276</td>\n",
       "      <td>34</td>\n",
       "      <td>36</td>\n",
       "      <td>199</td>\n",
       "      <td>135</td>\n",
       "      <td>57</td>\n",
       "      <td>113</td>\n",
       "      <td>60</td>\n",
       "      <td>35</td>\n",
       "      <td>115</td>\n",
       "      <td>1320</td>\n",
       "    </tr>\n",
       "    <tr>\n",
       "      <th>14</th>\n",
       "      <td>449</td>\n",
       "      <td>3768</td>\n",
       "      <td>889</td>\n",
       "      <td>847</td>\n",
       "      <td>5766</td>\n",
       "      <td>621</td>\n",
       "      <td>848</td>\n",
       "      <td>2638</td>\n",
       "      <td>850</td>\n",
       "      <td>847</td>\n",
       "      <td>1064</td>\n",
       "      <td>782</td>\n",
       "      <td>853</td>\n",
       "      <td>1068</td>\n",
       "      <td>22781</td>\n",
       "    </tr>\n",
       "    <tr>\n",
       "      <th>15</th>\n",
       "      <td>35</td>\n",
       "      <td>2</td>\n",
       "      <td>1</td>\n",
       "      <td>6</td>\n",
       "      <td>9</td>\n",
       "      <td>0</td>\n",
       "      <td>1</td>\n",
       "      <td>11</td>\n",
       "      <td>8</td>\n",
       "      <td>6</td>\n",
       "      <td>1</td>\n",
       "      <td>7</td>\n",
       "      <td>1</td>\n",
       "      <td>0</td>\n",
       "      <td>151</td>\n",
       "    </tr>\n",
       "    <tr>\n",
       "      <th>16</th>\n",
       "      <td>12</td>\n",
       "      <td>3</td>\n",
       "      <td>0</td>\n",
       "      <td>0</td>\n",
       "      <td>3</td>\n",
       "      <td>0</td>\n",
       "      <td>1</td>\n",
       "      <td>3</td>\n",
       "      <td>1</td>\n",
       "      <td>0</td>\n",
       "      <td>0</td>\n",
       "      <td>1</td>\n",
       "      <td>0</td>\n",
       "      <td>0</td>\n",
       "      <td>34</td>\n",
       "    </tr>\n",
       "    <tr>\n",
       "      <th>17</th>\n",
       "      <td>3</td>\n",
       "      <td>1</td>\n",
       "      <td>0</td>\n",
       "      <td>0</td>\n",
       "      <td>2</td>\n",
       "      <td>0</td>\n",
       "      <td>0</td>\n",
       "      <td>3</td>\n",
       "      <td>0</td>\n",
       "      <td>0</td>\n",
       "      <td>0</td>\n",
       "      <td>0</td>\n",
       "      <td>0</td>\n",
       "      <td>0</td>\n",
       "      <td>8</td>\n",
       "    </tr>\n",
       "    <tr>\n",
       "      <th>18</th>\n",
       "      <td>326</td>\n",
       "      <td>599</td>\n",
       "      <td>115</td>\n",
       "      <td>857</td>\n",
       "      <td>1217</td>\n",
       "      <td>156</td>\n",
       "      <td>168</td>\n",
       "      <td>801</td>\n",
       "      <td>396</td>\n",
       "      <td>217</td>\n",
       "      <td>327</td>\n",
       "      <td>168</td>\n",
       "      <td>110</td>\n",
       "      <td>360</td>\n",
       "      <td>3369</td>\n",
       "    </tr>\n",
       "    <tr>\n",
       "      <th>19</th>\n",
       "      <td>41</td>\n",
       "      <td>5</td>\n",
       "      <td>4</td>\n",
       "      <td>16</td>\n",
       "      <td>17</td>\n",
       "      <td>1</td>\n",
       "      <td>1</td>\n",
       "      <td>7</td>\n",
       "      <td>9</td>\n",
       "      <td>4</td>\n",
       "      <td>4</td>\n",
       "      <td>8</td>\n",
       "      <td>2</td>\n",
       "      <td>4</td>\n",
       "      <td>213</td>\n",
       "    </tr>\n",
       "    <tr>\n",
       "      <th>20</th>\n",
       "      <td>19</td>\n",
       "      <td>0</td>\n",
       "      <td>0</td>\n",
       "      <td>3</td>\n",
       "      <td>3</td>\n",
       "      <td>0</td>\n",
       "      <td>0</td>\n",
       "      <td>12</td>\n",
       "      <td>4</td>\n",
       "      <td>1</td>\n",
       "      <td>1</td>\n",
       "      <td>3</td>\n",
       "      <td>0</td>\n",
       "      <td>0</td>\n",
       "      <td>67</td>\n",
       "    </tr>\n",
       "    <tr>\n",
       "      <th>21</th>\n",
       "      <td>149</td>\n",
       "      <td>104</td>\n",
       "      <td>37</td>\n",
       "      <td>249</td>\n",
       "      <td>228</td>\n",
       "      <td>15</td>\n",
       "      <td>18</td>\n",
       "      <td>142</td>\n",
       "      <td>114</td>\n",
       "      <td>45</td>\n",
       "      <td>90</td>\n",
       "      <td>58</td>\n",
       "      <td>24</td>\n",
       "      <td>81</td>\n",
       "      <td>1110</td>\n",
       "    </tr>\n",
       "    <tr>\n",
       "      <th>22</th>\n",
       "      <td>116</td>\n",
       "      <td>56</td>\n",
       "      <td>21</td>\n",
       "      <td>108</td>\n",
       "      <td>108</td>\n",
       "      <td>6</td>\n",
       "      <td>17</td>\n",
       "      <td>69</td>\n",
       "      <td>40</td>\n",
       "      <td>16</td>\n",
       "      <td>34</td>\n",
       "      <td>58</td>\n",
       "      <td>13</td>\n",
       "      <td>42</td>\n",
       "      <td>666</td>\n",
       "    </tr>\n",
       "    <tr>\n",
       "      <th>23</th>\n",
       "      <td>28</td>\n",
       "      <td>2</td>\n",
       "      <td>0</td>\n",
       "      <td>6</td>\n",
       "      <td>16</td>\n",
       "      <td>0</td>\n",
       "      <td>1</td>\n",
       "      <td>14</td>\n",
       "      <td>4</td>\n",
       "      <td>4</td>\n",
       "      <td>1</td>\n",
       "      <td>3</td>\n",
       "      <td>0</td>\n",
       "      <td>1</td>\n",
       "      <td>109</td>\n",
       "    </tr>\n",
       "    <tr>\n",
       "      <th>24</th>\n",
       "      <td>6</td>\n",
       "      <td>1</td>\n",
       "      <td>0</td>\n",
       "      <td>1</td>\n",
       "      <td>1</td>\n",
       "      <td>0</td>\n",
       "      <td>0</td>\n",
       "      <td>6</td>\n",
       "      <td>1</td>\n",
       "      <td>1</td>\n",
       "      <td>0</td>\n",
       "      <td>3</td>\n",
       "      <td>0</td>\n",
       "      <td>0</td>\n",
       "      <td>31</td>\n",
       "    </tr>\n",
       "    <tr>\n",
       "      <th>25</th>\n",
       "      <td>74</td>\n",
       "      <td>11</td>\n",
       "      <td>8</td>\n",
       "      <td>48</td>\n",
       "      <td>62</td>\n",
       "      <td>1</td>\n",
       "      <td>5</td>\n",
       "      <td>33</td>\n",
       "      <td>12</td>\n",
       "      <td>8</td>\n",
       "      <td>15</td>\n",
       "      <td>22</td>\n",
       "      <td>3</td>\n",
       "      <td>7</td>\n",
       "      <td>394</td>\n",
       "    </tr>\n",
       "    <tr>\n",
       "      <th>26</th>\n",
       "      <td>11</td>\n",
       "      <td>0</td>\n",
       "      <td>0</td>\n",
       "      <td>0</td>\n",
       "      <td>6</td>\n",
       "      <td>1</td>\n",
       "      <td>0</td>\n",
       "      <td>6</td>\n",
       "      <td>1</td>\n",
       "      <td>0</td>\n",
       "      <td>1</td>\n",
       "      <td>1</td>\n",
       "      <td>0</td>\n",
       "      <td>0</td>\n",
       "      <td>49</td>\n",
       "    </tr>\n",
       "    <tr>\n",
       "      <th>27</th>\n",
       "      <td>3</td>\n",
       "      <td>0</td>\n",
       "      <td>0</td>\n",
       "      <td>1</td>\n",
       "      <td>2</td>\n",
       "      <td>0</td>\n",
       "      <td>0</td>\n",
       "      <td>1</td>\n",
       "      <td>0</td>\n",
       "      <td>0</td>\n",
       "      <td>0</td>\n",
       "      <td>0</td>\n",
       "      <td>0</td>\n",
       "      <td>0</td>\n",
       "      <td>14</td>\n",
       "    </tr>\n",
       "    <tr>\n",
       "      <th>28</th>\n",
       "      <td>2</td>\n",
       "      <td>0</td>\n",
       "      <td>1</td>\n",
       "      <td>0</td>\n",
       "      <td>2</td>\n",
       "      <td>0</td>\n",
       "      <td>0</td>\n",
       "      <td>1</td>\n",
       "      <td>0</td>\n",
       "      <td>0</td>\n",
       "      <td>0</td>\n",
       "      <td>0</td>\n",
       "      <td>0</td>\n",
       "      <td>0</td>\n",
       "      <td>4</td>\n",
       "    </tr>\n",
       "    <tr>\n",
       "      <th>29</th>\n",
       "      <td>356</td>\n",
       "      <td>1069</td>\n",
       "      <td>79</td>\n",
       "      <td>395</td>\n",
       "      <td>439</td>\n",
       "      <td>111</td>\n",
       "      <td>173</td>\n",
       "      <td>316</td>\n",
       "      <td>492</td>\n",
       "      <td>139</td>\n",
       "      <td>144</td>\n",
       "      <td>102</td>\n",
       "      <td>185</td>\n",
       "      <td>273</td>\n",
       "      <td>10712</td>\n",
       "    </tr>\n",
       "    <tr>\n",
       "      <th>30</th>\n",
       "      <td>2</td>\n",
       "      <td>1</td>\n",
       "      <td>0</td>\n",
       "      <td>0</td>\n",
       "      <td>2</td>\n",
       "      <td>0</td>\n",
       "      <td>0</td>\n",
       "      <td>2</td>\n",
       "      <td>1</td>\n",
       "      <td>0</td>\n",
       "      <td>0</td>\n",
       "      <td>0</td>\n",
       "      <td>0</td>\n",
       "      <td>0</td>\n",
       "      <td>15</td>\n",
       "    </tr>\n",
       "    <tr>\n",
       "      <th>31</th>\n",
       "      <td>15</td>\n",
       "      <td>3</td>\n",
       "      <td>0</td>\n",
       "      <td>1</td>\n",
       "      <td>2</td>\n",
       "      <td>0</td>\n",
       "      <td>0</td>\n",
       "      <td>1</td>\n",
       "      <td>0</td>\n",
       "      <td>0</td>\n",
       "      <td>0</td>\n",
       "      <td>2</td>\n",
       "      <td>0</td>\n",
       "      <td>0</td>\n",
       "      <td>41</td>\n",
       "    </tr>\n",
       "    <tr>\n",
       "      <th>32</th>\n",
       "      <td>287</td>\n",
       "      <td>458</td>\n",
       "      <td>96</td>\n",
       "      <td>669</td>\n",
       "      <td>833</td>\n",
       "      <td>137</td>\n",
       "      <td>102</td>\n",
       "      <td>564</td>\n",
       "      <td>332</td>\n",
       "      <td>160</td>\n",
       "      <td>294</td>\n",
       "      <td>155</td>\n",
       "      <td>99</td>\n",
       "      <td>293</td>\n",
       "      <td>2671</td>\n",
       "    </tr>\n",
       "    <tr>\n",
       "      <th>33</th>\n",
       "      <td>35</td>\n",
       "      <td>10</td>\n",
       "      <td>5</td>\n",
       "      <td>19</td>\n",
       "      <td>38</td>\n",
       "      <td>0</td>\n",
       "      <td>5</td>\n",
       "      <td>21</td>\n",
       "      <td>8</td>\n",
       "      <td>6</td>\n",
       "      <td>2</td>\n",
       "      <td>9</td>\n",
       "      <td>2</td>\n",
       "      <td>8</td>\n",
       "      <td>209</td>\n",
       "    </tr>\n",
       "    <tr>\n",
       "      <th>34</th>\n",
       "      <td>413</td>\n",
       "      <td>831</td>\n",
       "      <td>134</td>\n",
       "      <td>929</td>\n",
       "      <td>1648</td>\n",
       "      <td>210</td>\n",
       "      <td>203</td>\n",
       "      <td>1105</td>\n",
       "      <td>469</td>\n",
       "      <td>278</td>\n",
       "      <td>417</td>\n",
       "      <td>227</td>\n",
       "      <td>165</td>\n",
       "      <td>462</td>\n",
       "      <td>4224</td>\n",
       "    </tr>\n",
       "    <tr>\n",
       "      <th>35</th>\n",
       "      <td>23</td>\n",
       "      <td>0</td>\n",
       "      <td>1</td>\n",
       "      <td>5</td>\n",
       "      <td>6</td>\n",
       "      <td>0</td>\n",
       "      <td>4</td>\n",
       "      <td>9</td>\n",
       "      <td>4</td>\n",
       "      <td>1</td>\n",
       "      <td>0</td>\n",
       "      <td>8</td>\n",
       "      <td>0</td>\n",
       "      <td>0</td>\n",
       "      <td>103</td>\n",
       "    </tr>\n",
       "    <tr>\n",
       "      <th>36</th>\n",
       "      <td>36</td>\n",
       "      <td>9</td>\n",
       "      <td>2</td>\n",
       "      <td>15</td>\n",
       "      <td>22</td>\n",
       "      <td>0</td>\n",
       "      <td>5</td>\n",
       "      <td>10</td>\n",
       "      <td>7</td>\n",
       "      <td>3</td>\n",
       "      <td>8</td>\n",
       "      <td>5</td>\n",
       "      <td>2</td>\n",
       "      <td>2</td>\n",
       "      <td>161</td>\n",
       "    </tr>\n",
       "    <tr>\n",
       "      <th>37</th>\n",
       "      <td>202</td>\n",
       "      <td>247</td>\n",
       "      <td>48</td>\n",
       "      <td>333</td>\n",
       "      <td>404</td>\n",
       "      <td>62</td>\n",
       "      <td>38</td>\n",
       "      <td>244</td>\n",
       "      <td>160</td>\n",
       "      <td>89</td>\n",
       "      <td>150</td>\n",
       "      <td>79</td>\n",
       "      <td>36</td>\n",
       "      <td>172</td>\n",
       "      <td>1485</td>\n",
       "    </tr>\n",
       "    <tr>\n",
       "      <th>38</th>\n",
       "      <td>21</td>\n",
       "      <td>6</td>\n",
       "      <td>1</td>\n",
       "      <td>3</td>\n",
       "      <td>5</td>\n",
       "      <td>0</td>\n",
       "      <td>1</td>\n",
       "      <td>6</td>\n",
       "      <td>2</td>\n",
       "      <td>1</td>\n",
       "      <td>0</td>\n",
       "      <td>3</td>\n",
       "      <td>1</td>\n",
       "      <td>1</td>\n",
       "      <td>79</td>\n",
       "    </tr>\n",
       "    <tr>\n",
       "      <th>39</th>\n",
       "      <td>115</td>\n",
       "      <td>40</td>\n",
       "      <td>18</td>\n",
       "      <td>71</td>\n",
       "      <td>85</td>\n",
       "      <td>2</td>\n",
       "      <td>8</td>\n",
       "      <td>48</td>\n",
       "      <td>42</td>\n",
       "      <td>16</td>\n",
       "      <td>29</td>\n",
       "      <td>31</td>\n",
       "      <td>5</td>\n",
       "      <td>20</td>\n",
       "      <td>484</td>\n",
       "    </tr>\n",
       "    <tr>\n",
       "      <th>40</th>\n",
       "      <td>58</td>\n",
       "      <td>14</td>\n",
       "      <td>2</td>\n",
       "      <td>19</td>\n",
       "      <td>26</td>\n",
       "      <td>0</td>\n",
       "      <td>3</td>\n",
       "      <td>18</td>\n",
       "      <td>9</td>\n",
       "      <td>4</td>\n",
       "      <td>5</td>\n",
       "      <td>10</td>\n",
       "      <td>3</td>\n",
       "      <td>8</td>\n",
       "      <td>260</td>\n",
       "    </tr>\n",
       "    <tr>\n",
       "      <th>41</th>\n",
       "      <td>2</td>\n",
       "      <td>0</td>\n",
       "      <td>0</td>\n",
       "      <td>0</td>\n",
       "      <td>0</td>\n",
       "      <td>0</td>\n",
       "      <td>0</td>\n",
       "      <td>0</td>\n",
       "      <td>0</td>\n",
       "      <td>0</td>\n",
       "      <td>0</td>\n",
       "      <td>0</td>\n",
       "      <td>0</td>\n",
       "      <td>0</td>\n",
       "      <td>2</td>\n",
       "    </tr>\n",
       "    <tr>\n",
       "      <th>42</th>\n",
       "      <td>692</td>\n",
       "      <td>3268</td>\n",
       "      <td>743</td>\n",
       "      <td>1601</td>\n",
       "      <td>5743</td>\n",
       "      <td>796</td>\n",
       "      <td>632</td>\n",
       "      <td>2650</td>\n",
       "      <td>1047</td>\n",
       "      <td>832</td>\n",
       "      <td>968</td>\n",
       "      <td>812</td>\n",
       "      <td>681</td>\n",
       "      <td>1234</td>\n",
       "      <td>16334</td>\n",
       "    </tr>\n",
       "    <tr>\n",
       "      <th>43</th>\n",
       "      <td>393</td>\n",
       "      <td>1041</td>\n",
       "      <td>185</td>\n",
       "      <td>963</td>\n",
       "      <td>1960</td>\n",
       "      <td>266</td>\n",
       "      <td>256</td>\n",
       "      <td>1237</td>\n",
       "      <td>441</td>\n",
       "      <td>338</td>\n",
       "      <td>431</td>\n",
       "      <td>234</td>\n",
       "      <td>239</td>\n",
       "      <td>474</td>\n",
       "      <td>5250</td>\n",
       "    </tr>\n",
       "    <tr>\n",
       "      <th>44</th>\n",
       "      <td>4</td>\n",
       "      <td>1</td>\n",
       "      <td>1</td>\n",
       "      <td>0</td>\n",
       "      <td>3</td>\n",
       "      <td>0</td>\n",
       "      <td>0</td>\n",
       "      <td>3</td>\n",
       "      <td>0</td>\n",
       "      <td>0</td>\n",
       "      <td>0</td>\n",
       "      <td>1</td>\n",
       "      <td>0</td>\n",
       "      <td>0</td>\n",
       "      <td>22</td>\n",
       "    </tr>\n",
       "  </tbody>\n",
       "</table>\n",
       "</div>"
      ],
      "text/plain": [
       "country  Belgium  Canada  Czech Republic  Denmark  England  Finland  France  \\\n",
       "labels                                                                        \n",
       "0            735    2068             375     1524     3691      624     549   \n",
       "1             16       3               1        1        1        0       0   \n",
       "2             55      13               5       28       33        2       7   \n",
       "3              6       0               0        0        0        0       0   \n",
       "4            142      78              27      153      142       10      20   \n",
       "5             13       2               2        3        6        0       0   \n",
       "6              3       1               0        0        0        0       0   \n",
       "7             30      11               1       12       14        0       0   \n",
       "8            270     319              57      412      522       79      72   \n",
       "9              5       0               0        0        1        0       0   \n",
       "10            18       2               0        7        9        0       0   \n",
       "11            71      29               8       68       49        2       9   \n",
       "12             4       0               0        0        0        0       0   \n",
       "13           196     149              61      271      276       34      36   \n",
       "14           449    3768             889      847     5766      621     848   \n",
       "15            35       2               1        6        9        0       1   \n",
       "16            12       3               0        0        3        0       1   \n",
       "17             3       1               0        0        2        0       0   \n",
       "18           326     599             115      857     1217      156     168   \n",
       "19            41       5               4       16       17        1       1   \n",
       "20            19       0               0        3        3        0       0   \n",
       "21           149     104              37      249      228       15      18   \n",
       "22           116      56              21      108      108        6      17   \n",
       "23            28       2               0        6       16        0       1   \n",
       "24             6       1               0        1        1        0       0   \n",
       "25            74      11               8       48       62        1       5   \n",
       "26            11       0               0        0        6        1       0   \n",
       "27             3       0               0        1        2        0       0   \n",
       "28             2       0               1        0        2        0       0   \n",
       "29           356    1069              79      395      439      111     173   \n",
       "30             2       1               0        0        2        0       0   \n",
       "31            15       3               0        1        2        0       0   \n",
       "32           287     458              96      669      833      137     102   \n",
       "33            35      10               5       19       38        0       5   \n",
       "34           413     831             134      929     1648      210     203   \n",
       "35            23       0               1        5        6        0       4   \n",
       "36            36       9               2       15       22        0       5   \n",
       "37           202     247              48      333      404       62      38   \n",
       "38            21       6               1        3        5        0       1   \n",
       "39           115      40              18       71       85        2       8   \n",
       "40            58      14               2       19       26        0       3   \n",
       "41             2       0               0        0        0        0       0   \n",
       "42           692    3268             743     1601     5743      796     632   \n",
       "43           393    1041             185      963     1960      266     256   \n",
       "44             4       1               1        0        3        0       0   \n",
       "\n",
       "country  Germany  Netherlands  Norway  Poland  Scotland  Spain  Sweden  \\\n",
       "labels                                                                   \n",
       "0           2400          931     652     729       464    427     882   \n",
       "1              7            0       1       1         5      0       0   \n",
       "2             28           12      10       4        14      3       7   \n",
       "3              1            1       0       0         0      0       0   \n",
       "4            105           79      35      53        49     18      55   \n",
       "5              6            2       1       0         1      0       0   \n",
       "6              1            0       0       0         0      0       0   \n",
       "7             15            4       3       1         7      0       3   \n",
       "8            327          229     115     186        91     52     223   \n",
       "9              3            1       0       0         0      0       0   \n",
       "10             8            2       3       0         5      1       1   \n",
       "11            48           29      13      17        33     10      23   \n",
       "12             0            0       0       0         0      0       0   \n",
       "13           199          135      57     113        60     35     115   \n",
       "14          2638          850     847    1064       782    853    1068   \n",
       "15            11            8       6       1         7      1       0   \n",
       "16             3            1       0       0         1      0       0   \n",
       "17             3            0       0       0         0      0       0   \n",
       "18           801          396     217     327       168    110     360   \n",
       "19             7            9       4       4         8      2       4   \n",
       "20            12            4       1       1         3      0       0   \n",
       "21           142          114      45      90        58     24      81   \n",
       "22            69           40      16      34        58     13      42   \n",
       "23            14            4       4       1         3      0       1   \n",
       "24             6            1       1       0         3      0       0   \n",
       "25            33           12       8      15        22      3       7   \n",
       "26             6            1       0       1         1      0       0   \n",
       "27             1            0       0       0         0      0       0   \n",
       "28             1            0       0       0         0      0       0   \n",
       "29           316          492     139     144       102    185     273   \n",
       "30             2            1       0       0         0      0       0   \n",
       "31             1            0       0       0         2      0       0   \n",
       "32           564          332     160     294       155     99     293   \n",
       "33            21            8       6       2         9      2       8   \n",
       "34          1105          469     278     417       227    165     462   \n",
       "35             9            4       1       0         8      0       0   \n",
       "36            10            7       3       8         5      2       2   \n",
       "37           244          160      89     150        79     36     172   \n",
       "38             6            2       1       0         3      1       1   \n",
       "39            48           42      16      29        31      5      20   \n",
       "40            18            9       4       5        10      3       8   \n",
       "41             0            0       0       0         0      0       0   \n",
       "42          2650         1047     832     968       812    681    1234   \n",
       "43          1237          441     338     431       234    239     474   \n",
       "44             3            0       0       0         1      0       0   \n",
       "\n",
       "country  United States  \n",
       "labels                  \n",
       "0                11873  \n",
       "1                   49  \n",
       "2                  327  \n",
       "3                    7  \n",
       "4                  849  \n",
       "5                  106  \n",
       "6                   14  \n",
       "7                  154  \n",
       "8                 1910  \n",
       "9                   21  \n",
       "10                  71  \n",
       "11                 472  \n",
       "12                   3  \n",
       "13                1320  \n",
       "14               22781  \n",
       "15                 151  \n",
       "16                  34  \n",
       "17                   8  \n",
       "18                3369  \n",
       "19                 213  \n",
       "20                  67  \n",
       "21                1110  \n",
       "22                 666  \n",
       "23                 109  \n",
       "24                  31  \n",
       "25                 394  \n",
       "26                  49  \n",
       "27                  14  \n",
       "28                   4  \n",
       "29               10712  \n",
       "30                  15  \n",
       "31                  41  \n",
       "32                2671  \n",
       "33                 209  \n",
       "34                4224  \n",
       "35                 103  \n",
       "36                 161  \n",
       "37                1485  \n",
       "38                  79  \n",
       "39                 484  \n",
       "40                 260  \n",
       "41                   2  \n",
       "42               16334  \n",
       "43                5250  \n",
       "44                  22  "
      ]
     },
     "execution_count": 26,
     "metadata": {},
     "output_type": "execute_result"
    }
   ],
   "source": [
    "ct_model"
   ]
  },
  {
   "cell_type": "markdown",
   "metadata": {},
   "source": [
    "## Hierachical Clustering - All Beers\n",
    "\n",
    "We will apply hierachical clustering for the top 1000 beers since this clustering method is good only for a small data set."
   ]
  },
  {
   "cell_type": "code",
   "execution_count": 27,
   "metadata": {
    "collapsed": true
   },
   "outputs": [],
   "source": [
    "#get the top 1000 beers from the data frame\n",
    "top1000 = df[0:1000]"
   ]
  },
  {
   "cell_type": "code",
   "execution_count": 28,
   "metadata": {
    "collapsed": true
   },
   "outputs": [],
   "source": [
    "# drop the unwanted columns\n",
    "top1000 = top1000.drop(['Name','City','State','has_twitter','has_facebook'],axis=1)"
   ]
  },
  {
   "cell_type": "code",
   "execution_count": 29,
   "metadata": {
    "collapsed": true
   },
   "outputs": [],
   "source": [
    "#get dummies for the BeerStyle and BreweryType categorical variables \n",
    "colreq = ['BeerStyle','BreweryType']\n",
    "for col in colreq:\n",
    "    dummies = pd.get_dummies(top1000[col],prefix=col)\n",
    "    top1000 = top1000.join(dummies)"
   ]
  },
  {
   "cell_type": "code",
   "execution_count": 30,
   "metadata": {
    "collapsed": true
   },
   "outputs": [],
   "source": [
    "#drop the unwanted columns once more\n",
    "top1000 = top1000.drop(['BeerStyle','BreweryType'],axis=1)"
   ]
  },
  {
   "cell_type": "code",
   "execution_count": 31,
   "metadata": {
    "collapsed": true
   },
   "outputs": [],
   "source": [
    "#get the arrays for clustering \n",
    "X1000 = top1000.drop('Country',axis=1).values\n",
    "y1000 = top1000.Country.values"
   ]
  },
  {
   "cell_type": "code",
   "execution_count": 32,
   "metadata": {
    "collapsed": true
   },
   "outputs": [],
   "source": [
    "mergings = linkage(X1000,method='complete')"
   ]
  },
  {
   "cell_type": "code",
   "execution_count": 33,
   "metadata": {},
   "outputs": [
    {
     "data": {
      "image/png": "[encoded data removed]",
      "text/plain": [
       "<matplotlib.figure.Figure at 0x2a45a869160>"
      ]
     },
     "metadata": {},
     "output_type": "display_data"
    }
   ],
   "source": [
    "plt.figure(figsize=(20,8))\n",
    "dendrogram(mergings,\n",
    "           labels=y1000,\n",
    "           leaf_rotation=90,\n",
    "           leaf_font_size=2,)\n",
    "plt.title('Dendogram', size=15)\n",
    "plt.show()"
   ]
  },
  {
   "cell_type": "code",
   "execution_count": 34,
   "metadata": {
    "collapsed": true
   },
   "outputs": [],
   "source": [
    "labels1000 = fcluster(mergings,500,criterion='distance')"
   ]
  },
  {
   "cell_type": "code",
   "execution_count": 35,
   "metadata": {
    "collapsed": true
   },
   "outputs": [],
   "source": [
    "df1000 = pd.DataFrame({'labels': labels1000, 'country': y1000})"
   ]
  },
  {
   "cell_type": "code",
   "execution_count": 36,
   "metadata": {
    "collapsed": true
   },
   "outputs": [],
   "source": [
    "ct = pd.crosstab(df1000['labels'],df1000['country'])"
   ]
  },
  {
   "cell_type": "code",
   "execution_count": 37,
   "metadata": {},
   "outputs": [
    {
     "data": {
      "text/html": [
       "<div>\n",
       "<style>\n",
       "    .dataframe thead tr:only-child th {\n",
       "        text-align: right;\n",
       "    }\n",
       "\n",
       "    .dataframe thead th {\n",
       "        text-align: left;\n",
       "    }\n",
       "\n",
       "    .dataframe tbody tr th {\n",
       "        vertical-align: top;\n",
       "    }\n",
       "</style>\n",
       "<table border=\"1\" class=\"dataframe\">\n",
       "  <thead>\n",
       "    <tr style=\"text-align: right;\">\n",
       "      <th>country</th>\n",
       "      <th>Australia</th>\n",
       "      <th>Belgium</th>\n",
       "      <th>Canada</th>\n",
       "      <th>Denmark</th>\n",
       "      <th>England</th>\n",
       "      <th>Estonia</th>\n",
       "      <th>Germany</th>\n",
       "      <th>Ireland</th>\n",
       "      <th>Italy</th>\n",
       "      <th>Netherlands</th>\n",
       "      <th>New Zealand</th>\n",
       "      <th>Norway</th>\n",
       "      <th>Poland</th>\n",
       "      <th>Romania</th>\n",
       "      <th>Scotland</th>\n",
       "      <th>Spain</th>\n",
       "      <th>Sweden</th>\n",
       "      <th>United States</th>\n",
       "    </tr>\n",
       "    <tr>\n",
       "      <th>labels</th>\n",
       "      <th></th>\n",
       "      <th></th>\n",
       "      <th></th>\n",
       "      <th></th>\n",
       "      <th></th>\n",
       "      <th></th>\n",
       "      <th></th>\n",
       "      <th></th>\n",
       "      <th></th>\n",
       "      <th></th>\n",
       "      <th></th>\n",
       "      <th></th>\n",
       "      <th></th>\n",
       "      <th></th>\n",
       "      <th></th>\n",
       "      <th></th>\n",
       "      <th></th>\n",
       "      <th></th>\n",
       "    </tr>\n",
       "  </thead>\n",
       "  <tbody>\n",
       "    <tr>\n",
       "      <th>1</th>\n",
       "      <td>0</td>\n",
       "      <td>2</td>\n",
       "      <td>1</td>\n",
       "      <td>0</td>\n",
       "      <td>0</td>\n",
       "      <td>0</td>\n",
       "      <td>0</td>\n",
       "      <td>0</td>\n",
       "      <td>0</td>\n",
       "      <td>0</td>\n",
       "      <td>0</td>\n",
       "      <td>0</td>\n",
       "      <td>0</td>\n",
       "      <td>0</td>\n",
       "      <td>0</td>\n",
       "      <td>0</td>\n",
       "      <td>0</td>\n",
       "      <td>9</td>\n",
       "    </tr>\n",
       "    <tr>\n",
       "      <th>2</th>\n",
       "      <td>0</td>\n",
       "      <td>5</td>\n",
       "      <td>1</td>\n",
       "      <td>1</td>\n",
       "      <td>0</td>\n",
       "      <td>0</td>\n",
       "      <td>0</td>\n",
       "      <td>0</td>\n",
       "      <td>0</td>\n",
       "      <td>0</td>\n",
       "      <td>0</td>\n",
       "      <td>1</td>\n",
       "      <td>0</td>\n",
       "      <td>0</td>\n",
       "      <td>0</td>\n",
       "      <td>0</td>\n",
       "      <td>0</td>\n",
       "      <td>21</td>\n",
       "    </tr>\n",
       "    <tr>\n",
       "      <th>3</th>\n",
       "      <td>0</td>\n",
       "      <td>14</td>\n",
       "      <td>4</td>\n",
       "      <td>6</td>\n",
       "      <td>3</td>\n",
       "      <td>0</td>\n",
       "      <td>0</td>\n",
       "      <td>0</td>\n",
       "      <td>0</td>\n",
       "      <td>5</td>\n",
       "      <td>0</td>\n",
       "      <td>4</td>\n",
       "      <td>2</td>\n",
       "      <td>0</td>\n",
       "      <td>2</td>\n",
       "      <td>0</td>\n",
       "      <td>4</td>\n",
       "      <td>69</td>\n",
       "    </tr>\n",
       "    <tr>\n",
       "      <th>4</th>\n",
       "      <td>2</td>\n",
       "      <td>53</td>\n",
       "      <td>21</td>\n",
       "      <td>28</td>\n",
       "      <td>19</td>\n",
       "      <td>2</td>\n",
       "      <td>1</td>\n",
       "      <td>1</td>\n",
       "      <td>5</td>\n",
       "      <td>24</td>\n",
       "      <td>0</td>\n",
       "      <td>8</td>\n",
       "      <td>6</td>\n",
       "      <td>1</td>\n",
       "      <td>8</td>\n",
       "      <td>4</td>\n",
       "      <td>19</td>\n",
       "      <td>544</td>\n",
       "    </tr>\n",
       "    <tr>\n",
       "      <th>5</th>\n",
       "      <td>0</td>\n",
       "      <td>5</td>\n",
       "      <td>0</td>\n",
       "      <td>0</td>\n",
       "      <td>0</td>\n",
       "      <td>0</td>\n",
       "      <td>0</td>\n",
       "      <td>0</td>\n",
       "      <td>0</td>\n",
       "      <td>1</td>\n",
       "      <td>0</td>\n",
       "      <td>0</td>\n",
       "      <td>0</td>\n",
       "      <td>0</td>\n",
       "      <td>0</td>\n",
       "      <td>0</td>\n",
       "      <td>0</td>\n",
       "      <td>14</td>\n",
       "    </tr>\n",
       "    <tr>\n",
       "      <th>6</th>\n",
       "      <td>0</td>\n",
       "      <td>11</td>\n",
       "      <td>0</td>\n",
       "      <td>4</td>\n",
       "      <td>0</td>\n",
       "      <td>0</td>\n",
       "      <td>0</td>\n",
       "      <td>0</td>\n",
       "      <td>0</td>\n",
       "      <td>0</td>\n",
       "      <td>1</td>\n",
       "      <td>0</td>\n",
       "      <td>0</td>\n",
       "      <td>0</td>\n",
       "      <td>0</td>\n",
       "      <td>0</td>\n",
       "      <td>0</td>\n",
       "      <td>37</td>\n",
       "    </tr>\n",
       "    <tr>\n",
       "      <th>7</th>\n",
       "      <td>0</td>\n",
       "      <td>2</td>\n",
       "      <td>0</td>\n",
       "      <td>0</td>\n",
       "      <td>0</td>\n",
       "      <td>0</td>\n",
       "      <td>0</td>\n",
       "      <td>0</td>\n",
       "      <td>0</td>\n",
       "      <td>0</td>\n",
       "      <td>0</td>\n",
       "      <td>0</td>\n",
       "      <td>0</td>\n",
       "      <td>0</td>\n",
       "      <td>0</td>\n",
       "      <td>0</td>\n",
       "      <td>0</td>\n",
       "      <td>1</td>\n",
       "    </tr>\n",
       "    <tr>\n",
       "      <th>8</th>\n",
       "      <td>0</td>\n",
       "      <td>1</td>\n",
       "      <td>0</td>\n",
       "      <td>0</td>\n",
       "      <td>0</td>\n",
       "      <td>0</td>\n",
       "      <td>0</td>\n",
       "      <td>0</td>\n",
       "      <td>0</td>\n",
       "      <td>0</td>\n",
       "      <td>0</td>\n",
       "      <td>0</td>\n",
       "      <td>0</td>\n",
       "      <td>0</td>\n",
       "      <td>0</td>\n",
       "      <td>0</td>\n",
       "      <td>0</td>\n",
       "      <td>1</td>\n",
       "    </tr>\n",
       "    <tr>\n",
       "      <th>9</th>\n",
       "      <td>0</td>\n",
       "      <td>2</td>\n",
       "      <td>0</td>\n",
       "      <td>0</td>\n",
       "      <td>0</td>\n",
       "      <td>0</td>\n",
       "      <td>2</td>\n",
       "      <td>0</td>\n",
       "      <td>0</td>\n",
       "      <td>0</td>\n",
       "      <td>0</td>\n",
       "      <td>0</td>\n",
       "      <td>0</td>\n",
       "      <td>0</td>\n",
       "      <td>0</td>\n",
       "      <td>0</td>\n",
       "      <td>0</td>\n",
       "      <td>4</td>\n",
       "    </tr>\n",
       "    <tr>\n",
       "      <th>10</th>\n",
       "      <td>0</td>\n",
       "      <td>0</td>\n",
       "      <td>0</td>\n",
       "      <td>1</td>\n",
       "      <td>0</td>\n",
       "      <td>0</td>\n",
       "      <td>0</td>\n",
       "      <td>0</td>\n",
       "      <td>0</td>\n",
       "      <td>0</td>\n",
       "      <td>0</td>\n",
       "      <td>0</td>\n",
       "      <td>0</td>\n",
       "      <td>0</td>\n",
       "      <td>0</td>\n",
       "      <td>0</td>\n",
       "      <td>0</td>\n",
       "      <td>7</td>\n",
       "    </tr>\n",
       "    <tr>\n",
       "      <th>11</th>\n",
       "      <td>0</td>\n",
       "      <td>0</td>\n",
       "      <td>0</td>\n",
       "      <td>0</td>\n",
       "      <td>0</td>\n",
       "      <td>0</td>\n",
       "      <td>0</td>\n",
       "      <td>0</td>\n",
       "      <td>0</td>\n",
       "      <td>0</td>\n",
       "      <td>0</td>\n",
       "      <td>0</td>\n",
       "      <td>0</td>\n",
       "      <td>0</td>\n",
       "      <td>0</td>\n",
       "      <td>0</td>\n",
       "      <td>0</td>\n",
       "      <td>6</td>\n",
       "    </tr>\n",
       "  </tbody>\n",
       "</table>\n",
       "</div>"
      ],
      "text/plain": [
       "country  Australia  Belgium  Canada  Denmark  England  Estonia  Germany  \\\n",
       "labels                                                                    \n",
       "1                0        2       1        0        0        0        0   \n",
       "2                0        5       1        1        0        0        0   \n",
       "3                0       14       4        6        3        0        0   \n",
       "4                2       53      21       28       19        2        1   \n",
       "5                0        5       0        0        0        0        0   \n",
       "6                0       11       0        4        0        0        0   \n",
       "7                0        2       0        0        0        0        0   \n",
       "8                0        1       0        0        0        0        0   \n",
       "9                0        2       0        0        0        0        2   \n",
       "10               0        0       0        1        0        0        0   \n",
       "11               0        0       0        0        0        0        0   \n",
       "\n",
       "country  Ireland  Italy  Netherlands  New Zealand  Norway  Poland  Romania  \\\n",
       "labels                                                                       \n",
       "1              0      0            0            0       0       0        0   \n",
       "2              0      0            0            0       1       0        0   \n",
       "3              0      0            5            0       4       2        0   \n",
       "4              1      5           24            0       8       6        1   \n",
       "5              0      0            1            0       0       0        0   \n",
       "6              0      0            0            1       0       0        0   \n",
       "7              0      0            0            0       0       0        0   \n",
       "8              0      0            0            0       0       0        0   \n",
       "9              0      0            0            0       0       0        0   \n",
       "10             0      0            0            0       0       0        0   \n",
       "11             0      0            0            0       0       0        0   \n",
       "\n",
       "country  Scotland  Spain  Sweden  United States  \n",
       "labels                                           \n",
       "1               0      0       0              9  \n",
       "2               0      0       0             21  \n",
       "3               2      0       4             69  \n",
       "4               8      4      19            544  \n",
       "5               0      0       0             14  \n",
       "6               0      0       0             37  \n",
       "7               0      0       0              1  \n",
       "8               0      0       0              1  \n",
       "9               0      0       0              4  \n",
       "10              0      0       0              7  \n",
       "11              0      0       0              6  "
      ]
     },
     "execution_count": 37,
     "metadata": {},
     "output_type": "execute_result"
    }
   ],
   "source": [
    "ct"
   ]
  },
  {
   "cell_type": "markdown",
   "metadata": {},
   "source": [
    "Both the Kmeans and hierachical clustering perform poorly on predicting the country labels. We will treat the problem as a classification problem in the subsequent sections. "
   ]
  },
  {
   "cell_type": "markdown",
   "metadata": {},
   "source": [
    "## Decision Trees - All Beers"
   ]
  },
  {
   "cell_type": "code",
   "execution_count": 38,
   "metadata": {
    "collapsed": true
   },
   "outputs": [],
   "source": [
    "data = df"
   ]
  },
  {
   "cell_type": "code",
   "execution_count": 39,
   "metadata": {
    "collapsed": true
   },
   "outputs": [],
   "source": [
    "#drop unwanted columns\n",
    "data = data.drop(['Name','City','State','has_twitter','has_facebook'],axis=1)"
   ]
  },
  {
   "cell_type": "code",
   "execution_count": 40,
   "metadata": {
    "collapsed": true
   },
   "outputs": [],
   "source": [
    "#create dummy variables for BeerStyle and BreweryType\n",
    "cols_req = ['BeerStyle','BreweryType']\n",
    "for col in cols_req:\n",
    "    dummy = pd.get_dummies(data[col],prefix=col)\n",
    "    data=data.join(dummy)"
   ]
  },
  {
   "cell_type": "code",
   "execution_count": 41,
   "metadata": {
    "collapsed": true
   },
   "outputs": [],
   "source": [
    "#drop the beerstyle and brewerytype columns\n",
    "data = data.drop(['BeerStyle','BreweryType'],axis=1)"
   ]
  },
  {
   "cell_type": "code",
   "execution_count": 42,
   "metadata": {
    "collapsed": true
   },
   "outputs": [],
   "source": [
    "#get the X and y arrays for model\n",
    "X = data.drop('Country',axis=1).values\n",
    "y = data.Country.values"
   ]
  },
  {
   "cell_type": "code",
   "execution_count": 43,
   "metadata": {
    "collapsed": true
   },
   "outputs": [],
   "source": [
    "#split data into test train and test\n",
    "X_train, X_test, y_train, y_test = train_test_split(X, y, test_size=0.3, random_state=42)"
   ]
  },
  {
   "cell_type": "code",
   "execution_count": 44,
   "metadata": {},
   "outputs": [
    {
     "data": {
      "text/plain": [
       "DecisionTreeClassifier(class_weight=None, criterion='gini', max_depth=None,\n",
       "            max_features=None, max_leaf_nodes=None,\n",
       "            min_impurity_decrease=0.0, min_impurity_split=None,\n",
       "            min_samples_leaf=1, min_samples_split=2,\n",
       "            min_weight_fraction_leaf=0.0, presort=False, random_state=100,\n",
       "            splitter='best')"
      ]
     },
     "execution_count": 44,
     "metadata": {},
     "output_type": "execute_result"
    }
   ],
   "source": [
    "#instantiate a decision tree classifier and fit the model\n",
    "clf = DecisionTreeClassifier(random_state=100)\n",
    "clf.fit(X_train,y_train)"
   ]
  },
  {
   "cell_type": "code",
   "execution_count": 45,
   "metadata": {
    "collapsed": true
   },
   "outputs": [],
   "source": [
    "y_pred = clf.predict(X_test)"
   ]
  },
  {
   "cell_type": "code",
   "execution_count": 46,
   "metadata": {},
   "outputs": [
    {
     "name": "stdout",
     "output_type": "stream",
     "text": [
      "Accuracy is  56.8757575758 %\n"
     ]
    }
   ],
   "source": [
    "print (\"Accuracy is \", accuracy_score(y_test,y_pred)*100,'%')"
   ]
  },
  {
   "cell_type": "code",
   "execution_count": 47,
   "metadata": {
    "collapsed": true
   },
   "outputs": [],
   "source": [
    "#we will run the decision tree with the target variable (1 for average rating greater than 4 else 0)\n",
    "data['Target'] = np.where(data.AverageRating < 4,0,1)"
   ]
  },
  {
   "cell_type": "code",
   "execution_count": 48,
   "metadata": {},
   "outputs": [
    {
     "data": {
      "text/plain": [
       "DecisionTreeClassifier(class_weight=None, criterion='gini', max_depth=None,\n",
       "            max_features=None, max_leaf_nodes=None,\n",
       "            min_impurity_decrease=0.0, min_impurity_split=None,\n",
       "            min_samples_leaf=1, min_samples_split=2,\n",
       "            min_weight_fraction_leaf=0.0, presort=False, random_state=100,\n",
       "            splitter='best')"
      ]
     },
     "execution_count": 48,
     "metadata": {},
     "output_type": "execute_result"
    }
   ],
   "source": [
    "X = X = data.drop('Country',axis=1).values\n",
    "y = data.Country.values\n",
    "clf1 = DecisionTreeClassifier(criterion='gini',random_state=100)\n",
    "X_train, X_test, y_train, y_test = train_test_split(X, y, test_size=0.3, random_state=42)\n",
    "clf1.fit(X_train,y_train)"
   ]
  },
  {
   "cell_type": "code",
   "execution_count": 49,
   "metadata": {
    "collapsed": true
   },
   "outputs": [],
   "source": [
    "y_pred = clf1.predict(X_test)"
   ]
  },
  {
   "cell_type": "code",
   "execution_count": 50,
   "metadata": {},
   "outputs": [
    {
     "name": "stdout",
     "output_type": "stream",
     "text": [
      "Accuracy is  56.8727272727 %\n"
     ]
    }
   ],
   "source": [
    "print (\"Accuracy is \", accuracy_score(y_test,y_pred)*100,'%')"
   ]
  },
  {
   "cell_type": "markdown",
   "metadata": {},
   "source": [
    "We will apply the decision tree only beers from the top 10 conuntries (by count)."
   ]
  },
  {
   "cell_type": "code",
   "execution_count": 51,
   "metadata": {
    "collapsed": true
   },
   "outputs": [],
   "source": [
    "#get a dataframe with the beers from the top countries\n",
    "countries_dat = dict(total_beers.sort_values(ascending=False).head(15))\n",
    "countries = list(countries_dat.keys())\n",
    "data_country = pd.DataFrame()\n",
    "for c in countries:\n",
    "    data_country = data_country.append(df[df.Country == c])"
   ]
  },
  {
   "cell_type": "code",
   "execution_count": 52,
   "metadata": {
    "collapsed": true
   },
   "outputs": [],
   "source": [
    "#drop unwanted columns\n",
    "data_country = data_country.drop(['Name','City','State','has_twitter','has_facebook'],axis=1)"
   ]
  },
  {
   "cell_type": "code",
   "execution_count": 53,
   "metadata": {
    "collapsed": true
   },
   "outputs": [],
   "source": [
    "#get dummies\n",
    "cols_req = ['BeerStyle','BreweryType']\n",
    "for col in cols_req:\n",
    "    dummy = pd.get_dummies(data_country[col],prefix=col)\n",
    "    data_country=data_country.join(dummy)"
   ]
  },
  {
   "cell_type": "code",
   "execution_count": 54,
   "metadata": {
    "collapsed": true
   },
   "outputs": [],
   "source": [
    "data_country = data_country.drop(['BeerStyle','BreweryType'],axis=1)"
   ]
  },
  {
   "cell_type": "code",
   "execution_count": 55,
   "metadata": {
    "collapsed": true
   },
   "outputs": [],
   "source": [
    "X = data_country.drop('Country',axis=1).values\n",
    "y = data_country.Country.values"
   ]
  },
  {
   "cell_type": "code",
   "execution_count": 56,
   "metadata": {},
   "outputs": [
    {
     "data": {
      "text/plain": [
       "DecisionTreeClassifier(class_weight=None, criterion='gini', max_depth=None,\n",
       "            max_features=None, max_leaf_nodes=None,\n",
       "            min_impurity_decrease=0.0, min_impurity_split=None,\n",
       "            min_samples_leaf=1, min_samples_split=2,\n",
       "            min_weight_fraction_leaf=0.0, presort=False, random_state=100,\n",
       "            splitter='best')"
      ]
     },
     "execution_count": 56,
     "metadata": {},
     "output_type": "execute_result"
    }
   ],
   "source": [
    "clf2 = DecisionTreeClassifier(random_state=100)\n",
    "X_train, X_test, y_train, y_test = train_test_split(X, y, test_size=0.3, random_state=42)\n",
    "clf2.fit(X_train,y_train)"
   ]
  },
  {
   "cell_type": "code",
   "execution_count": 57,
   "metadata": {
    "collapsed": true
   },
   "outputs": [],
   "source": [
    "y_pred = clf2.predict(X_test)"
   ]
  },
  {
   "cell_type": "code",
   "execution_count": 58,
   "metadata": {},
   "outputs": [
    {
     "name": "stdout",
     "output_type": "stream",
     "text": [
      "Accuracy is  63.2211454361 %\n"
     ]
    }
   ],
   "source": [
    "print (\"Accuracy is \", accuracy_score(y_test,y_pred)*100,'%')"
   ]
  },
  {
   "cell_type": "markdown",
   "metadata": {},
   "source": [
    "The accuracy increases slightly for the beers from the top 10 countries. "
   ]
  },
  {
   "cell_type": "markdown",
   "metadata": {
    "collapsed": true
   },
   "source": [
    "## KNN Classfier - US Beers\n",
    "\n",
    "We will apply the KNN method on beers only from the United States. We will also create a new target variable - 0 for average rating less than 0 and 1 for average rating greater than 4."
   ]
  },
  {
   "cell_type": "code",
   "execution_count": 59,
   "metadata": {
    "collapsed": true
   },
   "outputs": [],
   "source": [
    "df_us = df[df.Country == 'United States']"
   ]
  },
  {
   "cell_type": "code",
   "execution_count": 60,
   "metadata": {},
   "outputs": [
    {
     "data": {
      "text/html": [
       "<div>\n",
       "<style>\n",
       "    .dataframe thead tr:only-child th {\n",
       "        text-align: right;\n",
       "    }\n",
       "\n",
       "    .dataframe thead th {\n",
       "        text-align: left;\n",
       "    }\n",
       "\n",
       "    .dataframe tbody tr th {\n",
       "        vertical-align: top;\n",
       "    }\n",
       "</style>\n",
       "<table border=\"1\" class=\"dataframe\">\n",
       "  <thead>\n",
       "    <tr style=\"text-align: right;\">\n",
       "      <th></th>\n",
       "      <th>Name</th>\n",
       "      <th>ABV</th>\n",
       "      <th>AverageRating</th>\n",
       "      <th>RatingCount</th>\n",
       "      <th>BeerStyle</th>\n",
       "      <th>BreweryType</th>\n",
       "      <th>City</th>\n",
       "      <th>State</th>\n",
       "      <th>Country</th>\n",
       "      <th>has_twitter</th>\n",
       "      <th>has_facebook</th>\n",
       "      <th>SocialMedia</th>\n",
       "    </tr>\n",
       "  </thead>\n",
       "  <tbody>\n",
       "    <tr>\n",
       "      <th>2</th>\n",
       "      <td>Schramm’s The Heart of Darkness</td>\n",
       "      <td>14.000000</td>\n",
       "      <td>4.423655</td>\n",
       "      <td>77.0</td>\n",
       "      <td>Mead</td>\n",
       "      <td>Meadery</td>\n",
       "      <td>Ferndale</td>\n",
       "      <td>Michigan</td>\n",
       "      <td>United States</td>\n",
       "      <td>1</td>\n",
       "      <td>1</td>\n",
       "      <td>1</td>\n",
       "    </tr>\n",
       "    <tr>\n",
       "      <th>3</th>\n",
       "      <td>B. Nektar Ken Schramm Signature Series - The H...</td>\n",
       "      <td>14.000000</td>\n",
       "      <td>4.421873</td>\n",
       "      <td>50.0</td>\n",
       "      <td>Mead</td>\n",
       "      <td>Meadery</td>\n",
       "      <td>Ferndale</td>\n",
       "      <td>Michigan</td>\n",
       "      <td>United States</td>\n",
       "      <td>1</td>\n",
       "      <td>1</td>\n",
       "      <td>1</td>\n",
       "    </tr>\n",
       "    <tr>\n",
       "      <th>4</th>\n",
       "      <td>Cigar City Pilot Series Dragonfruit Passion Fr...</td>\n",
       "      <td>3.979168</td>\n",
       "      <td>4.420719</td>\n",
       "      <td>46.0</td>\n",
       "      <td>Berliner Weisse</td>\n",
       "      <td>Microbrewery</td>\n",
       "      <td>Tampa</td>\n",
       "      <td>Florida</td>\n",
       "      <td>United States</td>\n",
       "      <td>1</td>\n",
       "      <td>1</td>\n",
       "      <td>1</td>\n",
       "    </tr>\n",
       "    <tr>\n",
       "      <th>6</th>\n",
       "      <td>Goose Island Bourbon County Stout - Rare 2010</td>\n",
       "      <td>13.000000</td>\n",
       "      <td>4.410718</td>\n",
       "      <td>417.0</td>\n",
       "      <td>Imperial Stout</td>\n",
       "      <td>Commercial Brewery</td>\n",
       "      <td>Chicago</td>\n",
       "      <td>Illinois</td>\n",
       "      <td>United States</td>\n",
       "      <td>1</td>\n",
       "      <td>1</td>\n",
       "      <td>1</td>\n",
       "    </tr>\n",
       "    <tr>\n",
       "      <th>7</th>\n",
       "      <td>Toppling Goliath Mornin’ Delight</td>\n",
       "      <td>12.000000</td>\n",
       "      <td>4.405847</td>\n",
       "      <td>186.0</td>\n",
       "      <td>Imperial Stout</td>\n",
       "      <td>Microbrewery</td>\n",
       "      <td>Decorah</td>\n",
       "      <td>Iowa</td>\n",
       "      <td>United States</td>\n",
       "      <td>1</td>\n",
       "      <td>1</td>\n",
       "      <td>1</td>\n",
       "    </tr>\n",
       "  </tbody>\n",
       "</table>\n",
       "</div>"
      ],
      "text/plain": [
       "                                                Name        ABV  \\\n",
       "2                    Schramm’s The Heart of Darkness  14.000000   \n",
       "3  B. Nektar Ken Schramm Signature Series - The H...  14.000000   \n",
       "4  Cigar City Pilot Series Dragonfruit Passion Fr...   3.979168   \n",
       "6      Goose Island Bourbon County Stout - Rare 2010  13.000000   \n",
       "7                   Toppling Goliath Mornin’ Delight  12.000000   \n",
       "\n",
       "   AverageRating  RatingCount        BeerStyle         BreweryType      City  \\\n",
       "2       4.423655         77.0             Mead             Meadery  Ferndale   \n",
       "3       4.421873         50.0             Mead             Meadery  Ferndale   \n",
       "4       4.420719         46.0  Berliner Weisse        Microbrewery     Tampa   \n",
       "6       4.410718        417.0   Imperial Stout  Commercial Brewery   Chicago   \n",
       "7       4.405847        186.0   Imperial Stout        Microbrewery   Decorah   \n",
       "\n",
       "      State        Country  has_twitter  has_facebook  SocialMedia  \n",
       "2  Michigan  United States            1             1            1  \n",
       "3  Michigan  United States            1             1            1  \n",
       "4   Florida  United States            1             1            1  \n",
       "6  Illinois  United States            1             1            1  \n",
       "7      Iowa  United States            1             1            1  "
      ]
     },
     "execution_count": 60,
     "metadata": {},
     "output_type": "execute_result"
    }
   ],
   "source": [
    "df_us.head()"
   ]
  },
  {
   "cell_type": "code",
   "execution_count": 61,
   "metadata": {
    "collapsed": true
   },
   "outputs": [],
   "source": [
    "df_us = df_us.drop(['Name','City','State','has_twitter','has_facebook','BreweryType','Country'],axis=1)"
   ]
  },
  {
   "cell_type": "code",
   "execution_count": 62,
   "metadata": {
    "collapsed": true
   },
   "outputs": [],
   "source": [
    "df_us['Target'] = np.where(df_us.AverageRating < 4,0,1)"
   ]
  },
  {
   "cell_type": "code",
   "execution_count": 63,
   "metadata": {},
   "outputs": [
    {
     "data": {
      "text/html": [
       "<div>\n",
       "<style>\n",
       "    .dataframe thead tr:only-child th {\n",
       "        text-align: right;\n",
       "    }\n",
       "\n",
       "    .dataframe thead th {\n",
       "        text-align: left;\n",
       "    }\n",
       "\n",
       "    .dataframe tbody tr th {\n",
       "        vertical-align: top;\n",
       "    }\n",
       "</style>\n",
       "<table border=\"1\" class=\"dataframe\">\n",
       "  <thead>\n",
       "    <tr style=\"text-align: right;\">\n",
       "      <th></th>\n",
       "      <th>ABV</th>\n",
       "      <th>AverageRating</th>\n",
       "      <th>RatingCount</th>\n",
       "      <th>BeerStyle</th>\n",
       "      <th>SocialMedia</th>\n",
       "      <th>Target</th>\n",
       "    </tr>\n",
       "  </thead>\n",
       "  <tbody>\n",
       "    <tr>\n",
       "      <th>2</th>\n",
       "      <td>14.000000</td>\n",
       "      <td>4.423655</td>\n",
       "      <td>77.0</td>\n",
       "      <td>Mead</td>\n",
       "      <td>1</td>\n",
       "      <td>1</td>\n",
       "    </tr>\n",
       "    <tr>\n",
       "      <th>3</th>\n",
       "      <td>14.000000</td>\n",
       "      <td>4.421873</td>\n",
       "      <td>50.0</td>\n",
       "      <td>Mead</td>\n",
       "      <td>1</td>\n",
       "      <td>1</td>\n",
       "    </tr>\n",
       "    <tr>\n",
       "      <th>4</th>\n",
       "      <td>3.979168</td>\n",
       "      <td>4.420719</td>\n",
       "      <td>46.0</td>\n",
       "      <td>Berliner Weisse</td>\n",
       "      <td>1</td>\n",
       "      <td>1</td>\n",
       "    </tr>\n",
       "    <tr>\n",
       "      <th>6</th>\n",
       "      <td>13.000000</td>\n",
       "      <td>4.410718</td>\n",
       "      <td>417.0</td>\n",
       "      <td>Imperial Stout</td>\n",
       "      <td>1</td>\n",
       "      <td>1</td>\n",
       "    </tr>\n",
       "    <tr>\n",
       "      <th>7</th>\n",
       "      <td>12.000000</td>\n",
       "      <td>4.405847</td>\n",
       "      <td>186.0</td>\n",
       "      <td>Imperial Stout</td>\n",
       "      <td>1</td>\n",
       "      <td>1</td>\n",
       "    </tr>\n",
       "  </tbody>\n",
       "</table>\n",
       "</div>"
      ],
      "text/plain": [
       "         ABV  AverageRating  RatingCount        BeerStyle  SocialMedia  Target\n",
       "2  14.000000       4.423655         77.0             Mead            1       1\n",
       "3  14.000000       4.421873         50.0             Mead            1       1\n",
       "4   3.979168       4.420719         46.0  Berliner Weisse            1       1\n",
       "6  13.000000       4.410718        417.0   Imperial Stout            1       1\n",
       "7  12.000000       4.405847        186.0   Imperial Stout            1       1"
      ]
     },
     "execution_count": 63,
     "metadata": {},
     "output_type": "execute_result"
    }
   ],
   "source": [
    "df_us.head()"
   ]
  },
  {
   "cell_type": "code",
   "execution_count": 64,
   "metadata": {
    "collapsed": true
   },
   "outputs": [],
   "source": [
    "#we can now drop the average rating column\n",
    "df_us = df_us.drop(['AverageRating'],axis=1)"
   ]
  },
  {
   "cell_type": "code",
   "execution_count": 65,
   "metadata": {
    "collapsed": true
   },
   "outputs": [],
   "source": [
    "#we will create dummy variables for the beer_styles column \n",
    "style_dummies = pd.get_dummies(df_us.BeerStyle,prefix='style')"
   ]
  },
  {
   "cell_type": "code",
   "execution_count": 66,
   "metadata": {
    "collapsed": true
   },
   "outputs": [],
   "source": [
    "df_us = df_us.join(style_dummies)"
   ]
  },
  {
   "cell_type": "code",
   "execution_count": 67,
   "metadata": {},
   "outputs": [
    {
     "data": {
      "text/html": [
       "<div>\n",
       "<style>\n",
       "    .dataframe thead tr:only-child th {\n",
       "        text-align: right;\n",
       "    }\n",
       "\n",
       "    .dataframe thead th {\n",
       "        text-align: left;\n",
       "    }\n",
       "\n",
       "    .dataframe tbody tr th {\n",
       "        vertical-align: top;\n",
       "    }\n",
       "</style>\n",
       "<table border=\"1\" class=\"dataframe\">\n",
       "  <thead>\n",
       "    <tr style=\"text-align: right;\">\n",
       "      <th></th>\n",
       "      <th>ABV</th>\n",
       "      <th>RatingCount</th>\n",
       "      <th>BeerStyle</th>\n",
       "      <th>SocialMedia</th>\n",
       "      <th>Target</th>\n",
       "      <th>style_Abbey Dubbel</th>\n",
       "      <th>style_Abbey Tripel</th>\n",
       "      <th>style_Abt/Quadrupel</th>\n",
       "      <th>style_Altbier</th>\n",
       "      <th>style_Amber Ale</th>\n",
       "      <th>...</th>\n",
       "      <th>style_Sour/Wild Ale</th>\n",
       "      <th>style_Specialty Grain</th>\n",
       "      <th>style_Spice/Herb/Vegetable</th>\n",
       "      <th>style_Stout</th>\n",
       "      <th>style_Sweet Stout</th>\n",
       "      <th>style_Traditional Ale</th>\n",
       "      <th>style_Weizen Bock</th>\n",
       "      <th>style_Wheat Ale</th>\n",
       "      <th>style_Witbier</th>\n",
       "      <th>style_Zwickel/Keller/Landbier</th>\n",
       "    </tr>\n",
       "  </thead>\n",
       "  <tbody>\n",
       "    <tr>\n",
       "      <th>2</th>\n",
       "      <td>14.000000</td>\n",
       "      <td>77.0</td>\n",
       "      <td>Mead</td>\n",
       "      <td>1</td>\n",
       "      <td>1</td>\n",
       "      <td>0</td>\n",
       "      <td>0</td>\n",
       "      <td>0</td>\n",
       "      <td>0</td>\n",
       "      <td>0</td>\n",
       "      <td>...</td>\n",
       "      <td>0</td>\n",
       "      <td>0</td>\n",
       "      <td>0</td>\n",
       "      <td>0</td>\n",
       "      <td>0</td>\n",
       "      <td>0</td>\n",
       "      <td>0</td>\n",
       "      <td>0</td>\n",
       "      <td>0</td>\n",
       "      <td>0</td>\n",
       "    </tr>\n",
       "    <tr>\n",
       "      <th>3</th>\n",
       "      <td>14.000000</td>\n",
       "      <td>50.0</td>\n",
       "      <td>Mead</td>\n",
       "      <td>1</td>\n",
       "      <td>1</td>\n",
       "      <td>0</td>\n",
       "      <td>0</td>\n",
       "      <td>0</td>\n",
       "      <td>0</td>\n",
       "      <td>0</td>\n",
       "      <td>...</td>\n",
       "      <td>0</td>\n",
       "      <td>0</td>\n",
       "      <td>0</td>\n",
       "      <td>0</td>\n",
       "      <td>0</td>\n",
       "      <td>0</td>\n",
       "      <td>0</td>\n",
       "      <td>0</td>\n",
       "      <td>0</td>\n",
       "      <td>0</td>\n",
       "    </tr>\n",
       "    <tr>\n",
       "      <th>4</th>\n",
       "      <td>3.979168</td>\n",
       "      <td>46.0</td>\n",
       "      <td>Berliner Weisse</td>\n",
       "      <td>1</td>\n",
       "      <td>1</td>\n",
       "      <td>0</td>\n",
       "      <td>0</td>\n",
       "      <td>0</td>\n",
       "      <td>0</td>\n",
       "      <td>0</td>\n",
       "      <td>...</td>\n",
       "      <td>0</td>\n",
       "      <td>0</td>\n",
       "      <td>0</td>\n",
       "      <td>0</td>\n",
       "      <td>0</td>\n",
       "      <td>0</td>\n",
       "      <td>0</td>\n",
       "      <td>0</td>\n",
       "      <td>0</td>\n",
       "      <td>0</td>\n",
       "    </tr>\n",
       "    <tr>\n",
       "      <th>6</th>\n",
       "      <td>13.000000</td>\n",
       "      <td>417.0</td>\n",
       "      <td>Imperial Stout</td>\n",
       "      <td>1</td>\n",
       "      <td>1</td>\n",
       "      <td>0</td>\n",
       "      <td>0</td>\n",
       "      <td>0</td>\n",
       "      <td>0</td>\n",
       "      <td>0</td>\n",
       "      <td>...</td>\n",
       "      <td>0</td>\n",
       "      <td>0</td>\n",
       "      <td>0</td>\n",
       "      <td>0</td>\n",
       "      <td>0</td>\n",
       "      <td>0</td>\n",
       "      <td>0</td>\n",
       "      <td>0</td>\n",
       "      <td>0</td>\n",
       "      <td>0</td>\n",
       "    </tr>\n",
       "    <tr>\n",
       "      <th>7</th>\n",
       "      <td>12.000000</td>\n",
       "      <td>186.0</td>\n",
       "      <td>Imperial Stout</td>\n",
       "      <td>1</td>\n",
       "      <td>1</td>\n",
       "      <td>0</td>\n",
       "      <td>0</td>\n",
       "      <td>0</td>\n",
       "      <td>0</td>\n",
       "      <td>0</td>\n",
       "      <td>...</td>\n",
       "      <td>0</td>\n",
       "      <td>0</td>\n",
       "      <td>0</td>\n",
       "      <td>0</td>\n",
       "      <td>0</td>\n",
       "      <td>0</td>\n",
       "      <td>0</td>\n",
       "      <td>0</td>\n",
       "      <td>0</td>\n",
       "      <td>0</td>\n",
       "    </tr>\n",
       "  </tbody>\n",
       "</table>\n",
       "<p>5 rows × 95 columns</p>\n",
       "</div>"
      ],
      "text/plain": [
       "         ABV  RatingCount        BeerStyle  SocialMedia  Target  \\\n",
       "2  14.000000         77.0             Mead            1       1   \n",
       "3  14.000000         50.0             Mead            1       1   \n",
       "4   3.979168         46.0  Berliner Weisse            1       1   \n",
       "6  13.000000        417.0   Imperial Stout            1       1   \n",
       "7  12.000000        186.0   Imperial Stout            1       1   \n",
       "\n",
       "   style_Abbey Dubbel  style_Abbey Tripel  style_Abt/Quadrupel  style_Altbier  \\\n",
       "2                   0                   0                    0              0   \n",
       "3                   0                   0                    0              0   \n",
       "4                   0                   0                    0              0   \n",
       "6                   0                   0                    0              0   \n",
       "7                   0                   0                    0              0   \n",
       "\n",
       "   style_Amber Ale              ...                style_Sour/Wild Ale  \\\n",
       "2                0              ...                                  0   \n",
       "3                0              ...                                  0   \n",
       "4                0              ...                                  0   \n",
       "6                0              ...                                  0   \n",
       "7                0              ...                                  0   \n",
       "\n",
       "   style_Specialty Grain  style_Spice/Herb/Vegetable  style_Stout  \\\n",
       "2                      0                           0            0   \n",
       "3                      0                           0            0   \n",
       "4                      0                           0            0   \n",
       "6                      0                           0            0   \n",
       "7                      0                           0            0   \n",
       "\n",
       "   style_Sweet Stout  style_Traditional Ale  style_Weizen Bock  \\\n",
       "2                  0                      0                  0   \n",
       "3                  0                      0                  0   \n",
       "4                  0                      0                  0   \n",
       "6                  0                      0                  0   \n",
       "7                  0                      0                  0   \n",
       "\n",
       "   style_Wheat Ale  style_Witbier  style_Zwickel/Keller/Landbier  \n",
       "2                0              0                              0  \n",
       "3                0              0                              0  \n",
       "4                0              0                              0  \n",
       "6                0              0                              0  \n",
       "7                0              0                              0  \n",
       "\n",
       "[5 rows x 95 columns]"
      ]
     },
     "execution_count": 67,
     "metadata": {},
     "output_type": "execute_result"
    }
   ],
   "source": [
    "df_us.head()"
   ]
  },
  {
   "cell_type": "code",
   "execution_count": 68,
   "metadata": {
    "collapsed": true
   },
   "outputs": [],
   "source": [
    "X = df_us.drop(['Target','BeerStyle'],axis=1).values"
   ]
  },
  {
   "cell_type": "code",
   "execution_count": 69,
   "metadata": {
    "collapsed": true
   },
   "outputs": [],
   "source": [
    "y = df_us.Target.values"
   ]
  },
  {
   "cell_type": "code",
   "execution_count": 70,
   "metadata": {
    "collapsed": true
   },
   "outputs": [],
   "source": [
    "#split the dataset into training and test sets \n",
    "X_train, X_test, y_train, y_test = train_test_split(X, y, test_size = 0.3, random_state=42, stratify=y)"
   ]
  },
  {
   "cell_type": "code",
   "execution_count": 71,
   "metadata": {
    "collapsed": true
   },
   "outputs": [],
   "source": [
    "knn = KNeighborsClassifier(n_neighbors = 6)"
   ]
  },
  {
   "cell_type": "code",
   "execution_count": 72,
   "metadata": {},
   "outputs": [
    {
     "data": {
      "text/plain": [
       "KNeighborsClassifier(algorithm='auto', leaf_size=30, metric='minkowski',\n",
       "           metric_params=None, n_jobs=1, n_neighbors=6, p=2,\n",
       "           weights='uniform')"
      ]
     },
     "execution_count": 72,
     "metadata": {},
     "output_type": "execute_result"
    }
   ],
   "source": [
    "knn.fit(X_train,y_train)"
   ]
  },
  {
   "cell_type": "code",
   "execution_count": 73,
   "metadata": {},
   "outputs": [
    {
     "name": "stdout",
     "output_type": "stream",
     "text": [
      "0.993124031886\n"
     ]
    }
   ],
   "source": [
    "print (knn.score(X_test,y_test))"
   ]
  },
  {
   "cell_type": "code",
   "execution_count": 74,
   "metadata": {
    "collapsed": true
   },
   "outputs": [],
   "source": [
    "y_pred = knn.predict(X_test)"
   ]
  },
  {
   "cell_type": "code",
   "execution_count": 75,
   "metadata": {},
   "outputs": [
    {
     "name": "stdout",
     "output_type": "stream",
     "text": [
      "[[26287     6]\n",
      " [  176     0]]\n"
     ]
    }
   ],
   "source": [
    "print(confusion_matrix(y_test, y_pred))"
   ]
  },
  {
   "cell_type": "code",
   "execution_count": 76,
   "metadata": {},
   "outputs": [
    {
     "name": "stdout",
     "output_type": "stream",
     "text": [
      "             precision    recall  f1-score   support\n",
      "\n",
      "          0       0.99      1.00      1.00     26293\n",
      "          1       0.00      0.00      0.00       176\n",
      "\n",
      "avg / total       0.99      0.99      0.99     26469\n",
      "\n"
     ]
    }
   ],
   "source": [
    "print(classification_report(y_test, y_pred))"
   ]
  },
  {
   "cell_type": "markdown",
   "metadata": {},
   "source": [
    "## Logisitic Regression - US Beers\n",
    "\n",
    "We will apply logisitc regression to see how it compares to the KNN model when predicting if a beer rating is below or above 4. "
   ]
  },
  {
   "cell_type": "code",
   "execution_count": 77,
   "metadata": {
    "collapsed": true
   },
   "outputs": [],
   "source": [
    "X = df_us.drop(['Target','BeerStyle'],axis=1).values\n",
    "y = df_us.Target.values"
   ]
  },
  {
   "cell_type": "code",
   "execution_count": 78,
   "metadata": {
    "collapsed": true
   },
   "outputs": [],
   "source": [
    "X_train, X_test, y_train, y_test = train_test_split(X, y, test_size = 0.3, random_state=42)"
   ]
  },
  {
   "cell_type": "code",
   "execution_count": 79,
   "metadata": {
    "collapsed": true
   },
   "outputs": [],
   "source": [
    "logreg = LogisticRegression()"
   ]
  },
  {
   "cell_type": "code",
   "execution_count": 80,
   "metadata": {},
   "outputs": [
    {
     "data": {
      "text/plain": [
       "LogisticRegression(C=1.0, class_weight=None, dual=False, fit_intercept=True,\n",
       "          intercept_scaling=1, max_iter=100, multi_class='ovr', n_jobs=1,\n",
       "          penalty='l2', random_state=None, solver='liblinear', tol=0.0001,\n",
       "          verbose=0, warm_start=False)"
      ]
     },
     "execution_count": 80,
     "metadata": {},
     "output_type": "execute_result"
    }
   ],
   "source": [
    "logreg.fit(X_train,y_train)"
   ]
  },
  {
   "cell_type": "code",
   "execution_count": 81,
   "metadata": {
    "collapsed": true
   },
   "outputs": [],
   "source": [
    "y_pred = logreg.predict(X_test)"
   ]
  },
  {
   "cell_type": "code",
   "execution_count": 82,
   "metadata": {},
   "outputs": [
    {
     "name": "stdout",
     "output_type": "stream",
     "text": [
      "             precision    recall  f1-score   support\n",
      "\n",
      "          0       0.99      1.00      1.00     26289\n",
      "          1       0.47      0.04      0.08       180\n",
      "\n",
      "avg / total       0.99      0.99      0.99     26469\n",
      "\n"
     ]
    }
   ],
   "source": [
    "print(classification_report(y_test, y_pred))"
   ]
  },
  {
   "cell_type": "code",
   "execution_count": 83,
   "metadata": {
    "collapsed": true
   },
   "outputs": [],
   "source": [
    "y_pred_prob = logreg.predict_proba(X_test)[:,1]"
   ]
  },
  {
   "cell_type": "code",
   "execution_count": 84,
   "metadata": {
    "collapsed": true
   },
   "outputs": [],
   "source": [
    "fpr, tpr, thresholds = roc_curve(y_test, y_pred_prob)"
   ]
  },
  {
   "cell_type": "code",
   "execution_count": 85,
   "metadata": {},
   "outputs": [
    {
     "data": {
      "image/png": "[encoded data removed]",
      "text/plain": [
       "<matplotlib.figure.Figure at 0x2a45f280d68>"
      ]
     },
     "metadata": {},
     "output_type": "display_data"
    }
   ],
   "source": [
    "plt.plot([0, 1], [0, 1], 'k--')\n",
    "plt.plot(fpr, tpr)\n",
    "plt.xlabel('False Positive Rate')\n",
    "plt.ylabel('True Positive Rate')\n",
    "plt.title('ROC Curve')\n",
    "plt.show()"
   ]
  },
  {
   "cell_type": "code",
   "execution_count": 86,
   "metadata": {},
   "outputs": [
    {
     "name": "stdout",
     "output_type": "stream",
     "text": [
      "AUC: 0.9065894691907472\n"
     ]
    }
   ],
   "source": [
    "print(\"AUC: {}\".format(roc_auc_score(y_test, y_pred_prob)))"
   ]
  },
  {
   "cell_type": "markdown",
   "metadata": {},
   "source": [
    "The logistic regression model is good in prediciting if a beer will have a rating above or below 4 and is comparable to the KNN neighbors model. We will apply the logistic regression to the entire dataset."
   ]
  },
  {
   "cell_type": "markdown",
   "metadata": {},
   "source": [
    "## Logisitic Regression - All Beers"
   ]
  },
  {
   "cell_type": "code",
   "execution_count": 87,
   "metadata": {
    "collapsed": true
   },
   "outputs": [],
   "source": [
    "data = df"
   ]
  },
  {
   "cell_type": "code",
   "execution_count": 88,
   "metadata": {},
   "outputs": [
    {
     "data": {
      "text/html": [
       "<div>\n",
       "<style>\n",
       "    .dataframe thead tr:only-child th {\n",
       "        text-align: right;\n",
       "    }\n",
       "\n",
       "    .dataframe thead th {\n",
       "        text-align: left;\n",
       "    }\n",
       "\n",
       "    .dataframe tbody tr th {\n",
       "        vertical-align: top;\n",
       "    }\n",
       "</style>\n",
       "<table border=\"1\" class=\"dataframe\">\n",
       "  <thead>\n",
       "    <tr style=\"text-align: right;\">\n",
       "      <th></th>\n",
       "      <th>Name</th>\n",
       "      <th>ABV</th>\n",
       "      <th>AverageRating</th>\n",
       "      <th>RatingCount</th>\n",
       "      <th>BeerStyle</th>\n",
       "      <th>BreweryType</th>\n",
       "      <th>City</th>\n",
       "      <th>State</th>\n",
       "      <th>Country</th>\n",
       "      <th>has_twitter</th>\n",
       "      <th>has_facebook</th>\n",
       "      <th>SocialMedia</th>\n",
       "    </tr>\n",
       "  </thead>\n",
       "  <tbody>\n",
       "    <tr>\n",
       "      <th>0</th>\n",
       "      <td>Närke Kaggen Stormaktsporter</td>\n",
       "      <td>9.500000</td>\n",
       "      <td>4.489771</td>\n",
       "      <td>557.0</td>\n",
       "      <td>Imperial Stout</td>\n",
       "      <td>Microbrewery</td>\n",
       "      <td>Örebro</td>\n",
       "      <td>NaN</td>\n",
       "      <td>Sweden</td>\n",
       "      <td>0</td>\n",
       "      <td>0</td>\n",
       "      <td>0</td>\n",
       "    </tr>\n",
       "    <tr>\n",
       "      <th>1</th>\n",
       "      <td>Westvleteren 12 (XII)</td>\n",
       "      <td>10.200000</td>\n",
       "      <td>4.426578</td>\n",
       "      <td>3332.0</td>\n",
       "      <td>Abt/Quadrupel</td>\n",
       "      <td>Microbrewery</td>\n",
       "      <td>Westvleteren</td>\n",
       "      <td>NaN</td>\n",
       "      <td>Belgium</td>\n",
       "      <td>0</td>\n",
       "      <td>0</td>\n",
       "      <td>0</td>\n",
       "    </tr>\n",
       "    <tr>\n",
       "      <th>2</th>\n",
       "      <td>Schramm’s The Heart of Darkness</td>\n",
       "      <td>14.000000</td>\n",
       "      <td>4.423655</td>\n",
       "      <td>77.0</td>\n",
       "      <td>Mead</td>\n",
       "      <td>Meadery</td>\n",
       "      <td>Ferndale</td>\n",
       "      <td>Michigan</td>\n",
       "      <td>United States</td>\n",
       "      <td>1</td>\n",
       "      <td>1</td>\n",
       "      <td>1</td>\n",
       "    </tr>\n",
       "    <tr>\n",
       "      <th>3</th>\n",
       "      <td>B. Nektar Ken Schramm Signature Series - The H...</td>\n",
       "      <td>14.000000</td>\n",
       "      <td>4.421873</td>\n",
       "      <td>50.0</td>\n",
       "      <td>Mead</td>\n",
       "      <td>Meadery</td>\n",
       "      <td>Ferndale</td>\n",
       "      <td>Michigan</td>\n",
       "      <td>United States</td>\n",
       "      <td>1</td>\n",
       "      <td>1</td>\n",
       "      <td>1</td>\n",
       "    </tr>\n",
       "    <tr>\n",
       "      <th>4</th>\n",
       "      <td>Cigar City Pilot Series Dragonfruit Passion Fr...</td>\n",
       "      <td>3.979168</td>\n",
       "      <td>4.420719</td>\n",
       "      <td>46.0</td>\n",
       "      <td>Berliner Weisse</td>\n",
       "      <td>Microbrewery</td>\n",
       "      <td>Tampa</td>\n",
       "      <td>Florida</td>\n",
       "      <td>United States</td>\n",
       "      <td>1</td>\n",
       "      <td>1</td>\n",
       "      <td>1</td>\n",
       "    </tr>\n",
       "  </tbody>\n",
       "</table>\n",
       "</div>"
      ],
      "text/plain": [
       "                                                Name        ABV  \\\n",
       "0                       Närke Kaggen Stormaktsporter   9.500000   \n",
       "1                              Westvleteren 12 (XII)  10.200000   \n",
       "2                    Schramm’s The Heart of Darkness  14.000000   \n",
       "3  B. Nektar Ken Schramm Signature Series - The H...  14.000000   \n",
       "4  Cigar City Pilot Series Dragonfruit Passion Fr...   3.979168   \n",
       "\n",
       "   AverageRating  RatingCount        BeerStyle   BreweryType          City  \\\n",
       "0       4.489771        557.0   Imperial Stout  Microbrewery        Örebro   \n",
       "1       4.426578       3332.0    Abt/Quadrupel  Microbrewery  Westvleteren   \n",
       "2       4.423655         77.0             Mead       Meadery      Ferndale   \n",
       "3       4.421873         50.0             Mead       Meadery      Ferndale   \n",
       "4       4.420719         46.0  Berliner Weisse  Microbrewery         Tampa   \n",
       "\n",
       "      State        Country  has_twitter  has_facebook  SocialMedia  \n",
       "0       NaN         Sweden            0             0            0  \n",
       "1       NaN        Belgium            0             0            0  \n",
       "2  Michigan  United States            1             1            1  \n",
       "3  Michigan  United States            1             1            1  \n",
       "4   Florida  United States            1             1            1  "
      ]
     },
     "execution_count": 88,
     "metadata": {},
     "output_type": "execute_result"
    }
   ],
   "source": [
    "data.head()"
   ]
  },
  {
   "cell_type": "code",
   "execution_count": 89,
   "metadata": {
    "collapsed": true
   },
   "outputs": [],
   "source": [
    "data = data.drop(['Name','City','State','has_twitter','has_facebook'],axis=1)"
   ]
  },
  {
   "cell_type": "code",
   "execution_count": 90,
   "metadata": {},
   "outputs": [
    {
     "data": {
      "text/html": [
       "<div>\n",
       "<style>\n",
       "    .dataframe thead tr:only-child th {\n",
       "        text-align: right;\n",
       "    }\n",
       "\n",
       "    .dataframe thead th {\n",
       "        text-align: left;\n",
       "    }\n",
       "\n",
       "    .dataframe tbody tr th {\n",
       "        vertical-align: top;\n",
       "    }\n",
       "</style>\n",
       "<table border=\"1\" class=\"dataframe\">\n",
       "  <thead>\n",
       "    <tr style=\"text-align: right;\">\n",
       "      <th></th>\n",
       "      <th>ABV</th>\n",
       "      <th>AverageRating</th>\n",
       "      <th>RatingCount</th>\n",
       "      <th>BeerStyle</th>\n",
       "      <th>BreweryType</th>\n",
       "      <th>Country</th>\n",
       "      <th>SocialMedia</th>\n",
       "    </tr>\n",
       "  </thead>\n",
       "  <tbody>\n",
       "    <tr>\n",
       "      <th>0</th>\n",
       "      <td>9.500000</td>\n",
       "      <td>4.489771</td>\n",
       "      <td>557.0</td>\n",
       "      <td>Imperial Stout</td>\n",
       "      <td>Microbrewery</td>\n",
       "      <td>Sweden</td>\n",
       "      <td>0</td>\n",
       "    </tr>\n",
       "    <tr>\n",
       "      <th>1</th>\n",
       "      <td>10.200000</td>\n",
       "      <td>4.426578</td>\n",
       "      <td>3332.0</td>\n",
       "      <td>Abt/Quadrupel</td>\n",
       "      <td>Microbrewery</td>\n",
       "      <td>Belgium</td>\n",
       "      <td>0</td>\n",
       "    </tr>\n",
       "    <tr>\n",
       "      <th>2</th>\n",
       "      <td>14.000000</td>\n",
       "      <td>4.423655</td>\n",
       "      <td>77.0</td>\n",
       "      <td>Mead</td>\n",
       "      <td>Meadery</td>\n",
       "      <td>United States</td>\n",
       "      <td>1</td>\n",
       "    </tr>\n",
       "    <tr>\n",
       "      <th>3</th>\n",
       "      <td>14.000000</td>\n",
       "      <td>4.421873</td>\n",
       "      <td>50.0</td>\n",
       "      <td>Mead</td>\n",
       "      <td>Meadery</td>\n",
       "      <td>United States</td>\n",
       "      <td>1</td>\n",
       "    </tr>\n",
       "    <tr>\n",
       "      <th>4</th>\n",
       "      <td>3.979168</td>\n",
       "      <td>4.420719</td>\n",
       "      <td>46.0</td>\n",
       "      <td>Berliner Weisse</td>\n",
       "      <td>Microbrewery</td>\n",
       "      <td>United States</td>\n",
       "      <td>1</td>\n",
       "    </tr>\n",
       "  </tbody>\n",
       "</table>\n",
       "</div>"
      ],
      "text/plain": [
       "         ABV  AverageRating  RatingCount        BeerStyle   BreweryType  \\\n",
       "0   9.500000       4.489771        557.0   Imperial Stout  Microbrewery   \n",
       "1  10.200000       4.426578       3332.0    Abt/Quadrupel  Microbrewery   \n",
       "2  14.000000       4.423655         77.0             Mead       Meadery   \n",
       "3  14.000000       4.421873         50.0             Mead       Meadery   \n",
       "4   3.979168       4.420719         46.0  Berliner Weisse  Microbrewery   \n",
       "\n",
       "         Country  SocialMedia  \n",
       "0         Sweden            0  \n",
       "1        Belgium            0  \n",
       "2  United States            1  \n",
       "3  United States            1  \n",
       "4  United States            1  "
      ]
     },
     "execution_count": 90,
     "metadata": {},
     "output_type": "execute_result"
    }
   ],
   "source": [
    "data.head()"
   ]
  },
  {
   "cell_type": "code",
   "execution_count": 91,
   "metadata": {
    "collapsed": true
   },
   "outputs": [],
   "source": [
    "#create target variable\n",
    "data['Target'] = np.where(data.AverageRating < 4,0,1)"
   ]
  },
  {
   "cell_type": "code",
   "execution_count": 92,
   "metadata": {
    "collapsed": true
   },
   "outputs": [],
   "source": [
    "#drop the average rating\n",
    "data = data.drop(['AverageRating'],axis=1)"
   ]
  },
  {
   "cell_type": "code",
   "execution_count": 93,
   "metadata": {},
   "outputs": [
    {
     "data": {
      "text/html": [
       "<div>\n",
       "<style>\n",
       "    .dataframe thead tr:only-child th {\n",
       "        text-align: right;\n",
       "    }\n",
       "\n",
       "    .dataframe thead th {\n",
       "        text-align: left;\n",
       "    }\n",
       "\n",
       "    .dataframe tbody tr th {\n",
       "        vertical-align: top;\n",
       "    }\n",
       "</style>\n",
       "<table border=\"1\" class=\"dataframe\">\n",
       "  <thead>\n",
       "    <tr style=\"text-align: right;\">\n",
       "      <th></th>\n",
       "      <th>ABV</th>\n",
       "      <th>RatingCount</th>\n",
       "      <th>BeerStyle</th>\n",
       "      <th>BreweryType</th>\n",
       "      <th>Country</th>\n",
       "      <th>SocialMedia</th>\n",
       "      <th>Target</th>\n",
       "    </tr>\n",
       "  </thead>\n",
       "  <tbody>\n",
       "    <tr>\n",
       "      <th>0</th>\n",
       "      <td>9.500000</td>\n",
       "      <td>557.0</td>\n",
       "      <td>Imperial Stout</td>\n",
       "      <td>Microbrewery</td>\n",
       "      <td>Sweden</td>\n",
       "      <td>0</td>\n",
       "      <td>1</td>\n",
       "    </tr>\n",
       "    <tr>\n",
       "      <th>1</th>\n",
       "      <td>10.200000</td>\n",
       "      <td>3332.0</td>\n",
       "      <td>Abt/Quadrupel</td>\n",
       "      <td>Microbrewery</td>\n",
       "      <td>Belgium</td>\n",
       "      <td>0</td>\n",
       "      <td>1</td>\n",
       "    </tr>\n",
       "    <tr>\n",
       "      <th>2</th>\n",
       "      <td>14.000000</td>\n",
       "      <td>77.0</td>\n",
       "      <td>Mead</td>\n",
       "      <td>Meadery</td>\n",
       "      <td>United States</td>\n",
       "      <td>1</td>\n",
       "      <td>1</td>\n",
       "    </tr>\n",
       "    <tr>\n",
       "      <th>3</th>\n",
       "      <td>14.000000</td>\n",
       "      <td>50.0</td>\n",
       "      <td>Mead</td>\n",
       "      <td>Meadery</td>\n",
       "      <td>United States</td>\n",
       "      <td>1</td>\n",
       "      <td>1</td>\n",
       "    </tr>\n",
       "    <tr>\n",
       "      <th>4</th>\n",
       "      <td>3.979168</td>\n",
       "      <td>46.0</td>\n",
       "      <td>Berliner Weisse</td>\n",
       "      <td>Microbrewery</td>\n",
       "      <td>United States</td>\n",
       "      <td>1</td>\n",
       "      <td>1</td>\n",
       "    </tr>\n",
       "  </tbody>\n",
       "</table>\n",
       "</div>"
      ],
      "text/plain": [
       "         ABV  RatingCount        BeerStyle   BreweryType        Country  \\\n",
       "0   9.500000        557.0   Imperial Stout  Microbrewery         Sweden   \n",
       "1  10.200000       3332.0    Abt/Quadrupel  Microbrewery        Belgium   \n",
       "2  14.000000         77.0             Mead       Meadery  United States   \n",
       "3  14.000000         50.0             Mead       Meadery  United States   \n",
       "4   3.979168         46.0  Berliner Weisse  Microbrewery  United States   \n",
       "\n",
       "   SocialMedia  Target  \n",
       "0            0       1  \n",
       "1            0       1  \n",
       "2            1       1  \n",
       "3            1       1  \n",
       "4            1       1  "
      ]
     },
     "execution_count": 93,
     "metadata": {},
     "output_type": "execute_result"
    }
   ],
   "source": [
    "data.head()"
   ]
  },
  {
   "cell_type": "code",
   "execution_count": 94,
   "metadata": {
    "collapsed": true
   },
   "outputs": [],
   "source": [
    "#create dummy variables for the BeerStyle, BreweryType and Country Columns\n",
    "cols = ['BeerStyle','BreweryType','Country']\n",
    "for col in cols:\n",
    "    dummies = pd.get_dummies(data[col],prefix=col)\n",
    "    data = data.join(dummies)"
   ]
  },
  {
   "cell_type": "code",
   "execution_count": 95,
   "metadata": {
    "collapsed": true
   },
   "outputs": [],
   "source": [
    "#create X and Y arrays for model \n",
    "X = data.drop(['BeerStyle','BreweryType','Country','Target'],axis=1).values\n",
    "y = data.Target.values"
   ]
  },
  {
   "cell_type": "code",
   "execution_count": 96,
   "metadata": {
    "collapsed": true
   },
   "outputs": [],
   "source": [
    "#create a train and test split\n",
    "X_train, X_test, y_train, y_test = train_test_split(X, y, test_size = 0.3, random_state=42)"
   ]
  },
  {
   "cell_type": "code",
   "execution_count": 97,
   "metadata": {
    "collapsed": true
   },
   "outputs": [],
   "source": [
    "logreg = LogisticRegression()"
   ]
  },
  {
   "cell_type": "code",
   "execution_count": 98,
   "metadata": {},
   "outputs": [
    {
     "data": {
      "text/plain": [
       "LogisticRegression(C=1.0, class_weight=None, dual=False, fit_intercept=True,\n",
       "          intercept_scaling=1, max_iter=100, multi_class='ovr', n_jobs=1,\n",
       "          penalty='l2', random_state=None, solver='liblinear', tol=0.0001,\n",
       "          verbose=0, warm_start=False)"
      ]
     },
     "execution_count": 98,
     "metadata": {},
     "output_type": "execute_result"
    }
   ],
   "source": [
    "logreg.fit(X_train,y_train)"
   ]
  },
  {
   "cell_type": "code",
   "execution_count": 99,
   "metadata": {
    "collapsed": true
   },
   "outputs": [],
   "source": [
    "y_pred = logreg.predict(X_test)"
   ]
  },
  {
   "cell_type": "code",
   "execution_count": 100,
   "metadata": {},
   "outputs": [
    {
     "name": "stdout",
     "output_type": "stream",
     "text": [
      "             precision    recall  f1-score   support\n",
      "\n",
      "          0       1.00      1.00      1.00     65744\n",
      "          1       0.44      0.03      0.06       256\n",
      "\n",
      "avg / total       0.99      1.00      0.99     66000\n",
      "\n"
     ]
    }
   ],
   "source": [
    "print(classification_report(y_test, y_pred))"
   ]
  },
  {
   "cell_type": "code",
   "execution_count": 101,
   "metadata": {
    "collapsed": true
   },
   "outputs": [],
   "source": [
    "y_pred_prob = logreg.predict_proba(X_test)[:,1]"
   ]
  },
  {
   "cell_type": "code",
   "execution_count": 102,
   "metadata": {
    "collapsed": true
   },
   "outputs": [],
   "source": [
    "fpr, tpr, thresholds = roc_curve(y_test, y_pred_prob)"
   ]
  },
  {
   "cell_type": "code",
   "execution_count": 103,
   "metadata": {},
   "outputs": [
    {
     "data": {
      "image/png": "[encoded data removed]",
      "text/plain": [
       "<matplotlib.figure.Figure at 0x2a45f22b6d8>"
      ]
     },
     "metadata": {},
     "output_type": "display_data"
    }
   ],
   "source": [
    "plt.plot([0, 1], [0, 1], 'k--')\n",
    "plt.plot(fpr, tpr)\n",
    "plt.xlabel('False Positive Rate')\n",
    "plt.ylabel('True Positive Rate')\n",
    "plt.title('ROC Curve')\n",
    "plt.show()"
   ]
  },
  {
   "cell_type": "code",
   "execution_count": 104,
   "metadata": {},
   "outputs": [
    {
     "name": "stdout",
     "output_type": "stream",
     "text": [
      "AUC: 0.9551187655907762\n"
     ]
    }
   ],
   "source": [
    "print(\"AUC: {}\".format(roc_auc_score(y_test, y_pred_prob)))"
   ]
  },
  {
   "cell_type": "markdown",
   "metadata": {},
   "source": [
    "The model performs well in predicting whether the beer will have a rating above or below 4. "
   ]
  },
  {
   "cell_type": "markdown",
   "metadata": {},
   "source": [
    "## NLP \n",
    "\n",
    "We will apply some NLP techniques on the beer description column of the original data set to see if we can derive some useful insights."
   ]
  },
  {
   "cell_type": "code",
   "execution_count": 105,
   "metadata": {
    "collapsed": true
   },
   "outputs": [],
   "source": [
    "#import the original dataset\n",
    "import pandas as pd\n",
    "df_nlp_test = pd.read_csv('Ratebeer.csv')"
   ]
  },
  {
   "cell_type": "code",
   "execution_count": 106,
   "metadata": {},
   "outputs": [
    {
     "data": {
      "text/html": [
       "<div>\n",
       "<style>\n",
       "    .dataframe thead tr:only-child th {\n",
       "        text-align: right;\n",
       "    }\n",
       "\n",
       "    .dataframe thead th {\n",
       "        text-align: left;\n",
       "    }\n",
       "\n",
       "    .dataframe tbody tr th {\n",
       "        vertical-align: top;\n",
       "    }\n",
       "</style>\n",
       "<table border=\"1\" class=\"dataframe\">\n",
       "  <thead>\n",
       "    <tr style=\"text-align: right;\">\n",
       "      <th></th>\n",
       "      <th>Unnamed: 0</th>\n",
       "      <th>beer_id</th>\n",
       "      <th>beer_name</th>\n",
       "      <th>beer_description</th>\n",
       "      <th>beer_abv</th>\n",
       "      <th>beer_styleScore</th>\n",
       "      <th>beer_overallScore</th>\n",
       "      <th>beer_averageRating</th>\n",
       "      <th>beer_ratingCount</th>\n",
       "      <th>beer_styleName</th>\n",
       "      <th>brewery_name</th>\n",
       "      <th>brewery_type</th>\n",
       "      <th>brewery_street</th>\n",
       "      <th>brewery_city</th>\n",
       "      <th>brewery_state</th>\n",
       "      <th>brewery_country</th>\n",
       "      <th>brewery_continent</th>\n",
       "      <th>brewery_twitter</th>\n",
       "      <th>brewery_facebook</th>\n",
       "    </tr>\n",
       "  </thead>\n",
       "  <tbody>\n",
       "    <tr>\n",
       "      <th>0</th>\n",
       "      <td>1</td>\n",
       "      <td>58057</td>\n",
       "      <td>Närke Kaggen Stormaktsporter</td>\n",
       "      <td>Imperial Stout brewed with heather honey and a...</td>\n",
       "      <td>9.5</td>\n",
       "      <td>100.0</td>\n",
       "      <td>100.0</td>\n",
       "      <td>4.489771</td>\n",
       "      <td>557</td>\n",
       "      <td>Imperial Stout</td>\n",
       "      <td>Närke Kulturbryggeri</td>\n",
       "      <td>Microbrewery</td>\n",
       "      <td>Beväringsgatan 2</td>\n",
       "      <td>Örebro</td>\n",
       "      <td>NaN</td>\n",
       "      <td>Sweden</td>\n",
       "      <td>NaN</td>\n",
       "      <td>NaN</td>\n",
       "      <td>NaN</td>\n",
       "    </tr>\n",
       "    <tr>\n",
       "      <th>1</th>\n",
       "      <td>2</td>\n",
       "      <td>4934</td>\n",
       "      <td>Westvleteren 12 (XII)</td>\n",
       "      <td>Westvleteren has the smallest output of the Tr...</td>\n",
       "      <td>10.2</td>\n",
       "      <td>100.0</td>\n",
       "      <td>100.0</td>\n",
       "      <td>4.426578</td>\n",
       "      <td>3332</td>\n",
       "      <td>Abt/Quadrupel</td>\n",
       "      <td>Westvleteren Abdij St. Sixtus</td>\n",
       "      <td>Microbrewery</td>\n",
       "      <td>Donkerstraat 12</td>\n",
       "      <td>Westvleteren</td>\n",
       "      <td>NaN</td>\n",
       "      <td>Belgium</td>\n",
       "      <td>NaN</td>\n",
       "      <td>NaN</td>\n",
       "      <td>NaN</td>\n",
       "    </tr>\n",
       "    <tr>\n",
       "      <th>2</th>\n",
       "      <td>3</td>\n",
       "      <td>231441</td>\n",
       "      <td>Schramm’s The Heart of Darkness</td>\n",
       "      <td>The Heart of Darkness is our capstone mead. It...</td>\n",
       "      <td>14.0</td>\n",
       "      <td>100.0</td>\n",
       "      <td>100.0</td>\n",
       "      <td>4.423655</td>\n",
       "      <td>77</td>\n",
       "      <td>Mead</td>\n",
       "      <td>Schramm’s Mead</td>\n",
       "      <td>Meadery</td>\n",
       "      <td>327 West 9 Mile Road</td>\n",
       "      <td>Ferndale</td>\n",
       "      <td>Michigan</td>\n",
       "      <td>United States</td>\n",
       "      <td>North America</td>\n",
       "      <td>schrammsmead</td>\n",
       "      <td>https://facebook.com/SchrammsMeadery</td>\n",
       "    </tr>\n",
       "    <tr>\n",
       "      <th>3</th>\n",
       "      <td>4</td>\n",
       "      <td>106749</td>\n",
       "      <td>B. Nektar Ken Schramm Signature Series - The H...</td>\n",
       "      <td>Meadmaker Ken Schramm crafted the Heart of Dar...</td>\n",
       "      <td>14.0</td>\n",
       "      <td>100.0</td>\n",
       "      <td>100.0</td>\n",
       "      <td>4.421873</td>\n",
       "      <td>50</td>\n",
       "      <td>Mead</td>\n",
       "      <td>B. Nektar Meadery</td>\n",
       "      <td>Meadery</td>\n",
       "      <td>1511 Jarvis</td>\n",
       "      <td>Ferndale</td>\n",
       "      <td>Michigan</td>\n",
       "      <td>United States</td>\n",
       "      <td>North America</td>\n",
       "      <td>bnektar</td>\n",
       "      <td>https://facebook.com/b.nektar</td>\n",
       "    </tr>\n",
       "    <tr>\n",
       "      <th>4</th>\n",
       "      <td>5</td>\n",
       "      <td>140581</td>\n",
       "      <td>Cigar City Pilot Series Dragonfruit Passion Fr...</td>\n",
       "      <td>Editor’s Note: This is an archived entry for t...</td>\n",
       "      <td>0.0</td>\n",
       "      <td>100.0</td>\n",
       "      <td>100.0</td>\n",
       "      <td>4.420719</td>\n",
       "      <td>46</td>\n",
       "      <td>Berliner Weisse</td>\n",
       "      <td>Cigar City Brewing</td>\n",
       "      <td>Microbrewery</td>\n",
       "      <td>3924 W Spruce Street</td>\n",
       "      <td>Tampa</td>\n",
       "      <td>Florida</td>\n",
       "      <td>United States</td>\n",
       "      <td>North America</td>\n",
       "      <td>cigarcitybeer</td>\n",
       "      <td>https://facebook.com/cigarcitybeer</td>\n",
       "    </tr>\n",
       "  </tbody>\n",
       "</table>\n",
       "</div>"
      ],
      "text/plain": [
       "   Unnamed: 0  beer_id                                          beer_name  \\\n",
       "0           1    58057                       Närke Kaggen Stormaktsporter   \n",
       "1           2     4934                              Westvleteren 12 (XII)   \n",
       "2           3   231441                    Schramm’s The Heart of Darkness   \n",
       "3           4   106749  B. Nektar Ken Schramm Signature Series - The H...   \n",
       "4           5   140581  Cigar City Pilot Series Dragonfruit Passion Fr...   \n",
       "\n",
       "                                    beer_description  beer_abv  \\\n",
       "0  Imperial Stout brewed with heather honey and a...       9.5   \n",
       "1  Westvleteren has the smallest output of the Tr...      10.2   \n",
       "2  The Heart of Darkness is our capstone mead. It...      14.0   \n",
       "3  Meadmaker Ken Schramm crafted the Heart of Dar...      14.0   \n",
       "4  Editor’s Note: This is an archived entry for t...       0.0   \n",
       "\n",
       "   beer_styleScore  beer_overallScore  beer_averageRating  beer_ratingCount  \\\n",
       "0            100.0              100.0            4.489771               557   \n",
       "1            100.0              100.0            4.426578              3332   \n",
       "2            100.0              100.0            4.423655                77   \n",
       "3            100.0              100.0            4.421873                50   \n",
       "4            100.0              100.0            4.420719                46   \n",
       "\n",
       "    beer_styleName                   brewery_name  brewery_type  \\\n",
       "0   Imperial Stout           Närke Kulturbryggeri  Microbrewery   \n",
       "1    Abt/Quadrupel  Westvleteren Abdij St. Sixtus  Microbrewery   \n",
       "2             Mead                 Schramm’s Mead       Meadery   \n",
       "3             Mead              B. Nektar Meadery       Meadery   \n",
       "4  Berliner Weisse             Cigar City Brewing  Microbrewery   \n",
       "\n",
       "         brewery_street  brewery_city brewery_state brewery_country  \\\n",
       "0      Beväringsgatan 2        Örebro           NaN          Sweden   \n",
       "1       Donkerstraat 12  Westvleteren           NaN         Belgium   \n",
       "2  327 West 9 Mile Road      Ferndale      Michigan   United States   \n",
       "3           1511 Jarvis      Ferndale      Michigan   United States   \n",
       "4  3924 W Spruce Street         Tampa       Florida   United States   \n",
       "\n",
       "  brewery_continent brewery_twitter                      brewery_facebook  \n",
       "0               NaN             NaN                                   NaN  \n",
       "1               NaN             NaN                                   NaN  \n",
       "2     North America    schrammsmead  https://facebook.com/SchrammsMeadery  \n",
       "3     North America         bnektar         https://facebook.com/b.nektar  \n",
       "4     North America   cigarcitybeer    https://facebook.com/cigarcitybeer  "
      ]
     },
     "execution_count": 106,
     "metadata": {},
     "output_type": "execute_result"
    }
   ],
   "source": [
    "df_nlp_test.head()"
   ]
  },
  {
   "cell_type": "markdown",
   "metadata": {},
   "source": [
    "Since this is the original dataset we have missing values and other issues that we dealt with during the cleaning process. So we will extract only the beer_description column and combine that with the dataset that we have been using for the modeling."
   ]
  },
  {
   "cell_type": "code",
   "execution_count": 107,
   "metadata": {
    "collapsed": true
   },
   "outputs": [],
   "source": [
    "#extract beer_description as a dataframe\n",
    "df_beerdesc = pd.DataFrame(df_nlp_test.beer_description)"
   ]
  },
  {
   "cell_type": "code",
   "execution_count": 108,
   "metadata": {},
   "outputs": [
    {
     "data": {
      "text/html": [
       "<div>\n",
       "<style>\n",
       "    .dataframe thead tr:only-child th {\n",
       "        text-align: right;\n",
       "    }\n",
       "\n",
       "    .dataframe thead th {\n",
       "        text-align: left;\n",
       "    }\n",
       "\n",
       "    .dataframe tbody tr th {\n",
       "        vertical-align: top;\n",
       "    }\n",
       "</style>\n",
       "<table border=\"1\" class=\"dataframe\">\n",
       "  <thead>\n",
       "    <tr style=\"text-align: right;\">\n",
       "      <th></th>\n",
       "      <th>beer_description</th>\n",
       "    </tr>\n",
       "  </thead>\n",
       "  <tbody>\n",
       "    <tr>\n",
       "      <th>0</th>\n",
       "      <td>Imperial Stout brewed with heather honey and a...</td>\n",
       "    </tr>\n",
       "    <tr>\n",
       "      <th>1</th>\n",
       "      <td>Westvleteren has the smallest output of the Tr...</td>\n",
       "    </tr>\n",
       "    <tr>\n",
       "      <th>2</th>\n",
       "      <td>The Heart of Darkness is our capstone mead. It...</td>\n",
       "    </tr>\n",
       "    <tr>\n",
       "      <th>3</th>\n",
       "      <td>Meadmaker Ken Schramm crafted the Heart of Dar...</td>\n",
       "    </tr>\n",
       "    <tr>\n",
       "      <th>4</th>\n",
       "      <td>Editor’s Note: This is an archived entry for t...</td>\n",
       "    </tr>\n",
       "  </tbody>\n",
       "</table>\n",
       "</div>"
      ],
      "text/plain": [
       "                                    beer_description\n",
       "0  Imperial Stout brewed with heather honey and a...\n",
       "1  Westvleteren has the smallest output of the Tr...\n",
       "2  The Heart of Darkness is our capstone mead. It...\n",
       "3  Meadmaker Ken Schramm crafted the Heart of Dar...\n",
       "4  Editor’s Note: This is an archived entry for t..."
      ]
     },
     "execution_count": 108,
     "metadata": {},
     "output_type": "execute_result"
    }
   ],
   "source": [
    "df_beerdesc.head()"
   ]
  },
  {
   "cell_type": "code",
   "execution_count": 109,
   "metadata": {},
   "outputs": [
    {
     "data": {
      "text/html": [
       "<div>\n",
       "<style>\n",
       "    .dataframe thead tr:only-child th {\n",
       "        text-align: right;\n",
       "    }\n",
       "\n",
       "    .dataframe thead th {\n",
       "        text-align: left;\n",
       "    }\n",
       "\n",
       "    .dataframe tbody tr th {\n",
       "        vertical-align: top;\n",
       "    }\n",
       "</style>\n",
       "<table border=\"1\" class=\"dataframe\">\n",
       "  <thead>\n",
       "    <tr style=\"text-align: right;\">\n",
       "      <th></th>\n",
       "      <th>Name</th>\n",
       "      <th>ABV</th>\n",
       "      <th>AverageRating</th>\n",
       "      <th>RatingCount</th>\n",
       "      <th>BeerStyle</th>\n",
       "      <th>BreweryType</th>\n",
       "      <th>City</th>\n",
       "      <th>State</th>\n",
       "      <th>Country</th>\n",
       "      <th>has_twitter</th>\n",
       "      <th>has_facebook</th>\n",
       "      <th>SocialMedia</th>\n",
       "    </tr>\n",
       "  </thead>\n",
       "  <tbody>\n",
       "    <tr>\n",
       "      <th>0</th>\n",
       "      <td>Närke Kaggen Stormaktsporter</td>\n",
       "      <td>9.500000</td>\n",
       "      <td>4.489771</td>\n",
       "      <td>557.0</td>\n",
       "      <td>Imperial Stout</td>\n",
       "      <td>Microbrewery</td>\n",
       "      <td>Örebro</td>\n",
       "      <td>NaN</td>\n",
       "      <td>Sweden</td>\n",
       "      <td>0</td>\n",
       "      <td>0</td>\n",
       "      <td>0</td>\n",
       "    </tr>\n",
       "    <tr>\n",
       "      <th>1</th>\n",
       "      <td>Westvleteren 12 (XII)</td>\n",
       "      <td>10.200000</td>\n",
       "      <td>4.426578</td>\n",
       "      <td>3332.0</td>\n",
       "      <td>Abt/Quadrupel</td>\n",
       "      <td>Microbrewery</td>\n",
       "      <td>Westvleteren</td>\n",
       "      <td>NaN</td>\n",
       "      <td>Belgium</td>\n",
       "      <td>0</td>\n",
       "      <td>0</td>\n",
       "      <td>0</td>\n",
       "    </tr>\n",
       "    <tr>\n",
       "      <th>2</th>\n",
       "      <td>Schramm’s The Heart of Darkness</td>\n",
       "      <td>14.000000</td>\n",
       "      <td>4.423655</td>\n",
       "      <td>77.0</td>\n",
       "      <td>Mead</td>\n",
       "      <td>Meadery</td>\n",
       "      <td>Ferndale</td>\n",
       "      <td>Michigan</td>\n",
       "      <td>United States</td>\n",
       "      <td>1</td>\n",
       "      <td>1</td>\n",
       "      <td>1</td>\n",
       "    </tr>\n",
       "    <tr>\n",
       "      <th>3</th>\n",
       "      <td>B. Nektar Ken Schramm Signature Series - The H...</td>\n",
       "      <td>14.000000</td>\n",
       "      <td>4.421873</td>\n",
       "      <td>50.0</td>\n",
       "      <td>Mead</td>\n",
       "      <td>Meadery</td>\n",
       "      <td>Ferndale</td>\n",
       "      <td>Michigan</td>\n",
       "      <td>United States</td>\n",
       "      <td>1</td>\n",
       "      <td>1</td>\n",
       "      <td>1</td>\n",
       "    </tr>\n",
       "    <tr>\n",
       "      <th>4</th>\n",
       "      <td>Cigar City Pilot Series Dragonfruit Passion Fr...</td>\n",
       "      <td>3.979168</td>\n",
       "      <td>4.420719</td>\n",
       "      <td>46.0</td>\n",
       "      <td>Berliner Weisse</td>\n",
       "      <td>Microbrewery</td>\n",
       "      <td>Tampa</td>\n",
       "      <td>Florida</td>\n",
       "      <td>United States</td>\n",
       "      <td>1</td>\n",
       "      <td>1</td>\n",
       "      <td>1</td>\n",
       "    </tr>\n",
       "  </tbody>\n",
       "</table>\n",
       "</div>"
      ],
      "text/plain": [
       "                                                Name        ABV  \\\n",
       "0                       Närke Kaggen Stormaktsporter   9.500000   \n",
       "1                              Westvleteren 12 (XII)  10.200000   \n",
       "2                    Schramm’s The Heart of Darkness  14.000000   \n",
       "3  B. Nektar Ken Schramm Signature Series - The H...  14.000000   \n",
       "4  Cigar City Pilot Series Dragonfruit Passion Fr...   3.979168   \n",
       "\n",
       "   AverageRating  RatingCount        BeerStyle   BreweryType          City  \\\n",
       "0       4.489771        557.0   Imperial Stout  Microbrewery        Örebro   \n",
       "1       4.426578       3332.0    Abt/Quadrupel  Microbrewery  Westvleteren   \n",
       "2       4.423655         77.0             Mead       Meadery      Ferndale   \n",
       "3       4.421873         50.0             Mead       Meadery      Ferndale   \n",
       "4       4.420719         46.0  Berliner Weisse  Microbrewery         Tampa   \n",
       "\n",
       "      State        Country  has_twitter  has_facebook  SocialMedia  \n",
       "0       NaN         Sweden            0             0            0  \n",
       "1       NaN        Belgium            0             0            0  \n",
       "2  Michigan  United States            1             1            1  \n",
       "3  Michigan  United States            1             1            1  \n",
       "4   Florida  United States            1             1            1  "
      ]
     },
     "execution_count": 109,
     "metadata": {},
     "output_type": "execute_result"
    }
   ],
   "source": [
    "df.head()"
   ]
  },
  {
   "cell_type": "code",
   "execution_count": 110,
   "metadata": {
    "collapsed": true
   },
   "outputs": [],
   "source": [
    "#add the beerdescription column to main data set and create a new dataframe\n",
    "df_nlp = df.join(df_beerdesc)"
   ]
  },
  {
   "cell_type": "code",
   "execution_count": 111,
   "metadata": {},
   "outputs": [
    {
     "data": {
      "text/html": [
       "<div>\n",
       "<style>\n",
       "    .dataframe thead tr:only-child th {\n",
       "        text-align: right;\n",
       "    }\n",
       "\n",
       "    .dataframe thead th {\n",
       "        text-align: left;\n",
       "    }\n",
       "\n",
       "    .dataframe tbody tr th {\n",
       "        vertical-align: top;\n",
       "    }\n",
       "</style>\n",
       "<table border=\"1\" class=\"dataframe\">\n",
       "  <thead>\n",
       "    <tr style=\"text-align: right;\">\n",
       "      <th></th>\n",
       "      <th>Name</th>\n",
       "      <th>ABV</th>\n",
       "      <th>AverageRating</th>\n",
       "      <th>RatingCount</th>\n",
       "      <th>BeerStyle</th>\n",
       "      <th>BreweryType</th>\n",
       "      <th>City</th>\n",
       "      <th>State</th>\n",
       "      <th>Country</th>\n",
       "      <th>has_twitter</th>\n",
       "      <th>has_facebook</th>\n",
       "      <th>SocialMedia</th>\n",
       "      <th>beer_description</th>\n",
       "    </tr>\n",
       "  </thead>\n",
       "  <tbody>\n",
       "    <tr>\n",
       "      <th>0</th>\n",
       "      <td>Närke Kaggen Stormaktsporter</td>\n",
       "      <td>9.500000</td>\n",
       "      <td>4.489771</td>\n",
       "      <td>557.0</td>\n",
       "      <td>Imperial Stout</td>\n",
       "      <td>Microbrewery</td>\n",
       "      <td>Örebro</td>\n",
       "      <td>NaN</td>\n",
       "      <td>Sweden</td>\n",
       "      <td>0</td>\n",
       "      <td>0</td>\n",
       "      <td>0</td>\n",
       "      <td>Imperial Stout brewed with heather honey and a...</td>\n",
       "    </tr>\n",
       "    <tr>\n",
       "      <th>1</th>\n",
       "      <td>Westvleteren 12 (XII)</td>\n",
       "      <td>10.200000</td>\n",
       "      <td>4.426578</td>\n",
       "      <td>3332.0</td>\n",
       "      <td>Abt/Quadrupel</td>\n",
       "      <td>Microbrewery</td>\n",
       "      <td>Westvleteren</td>\n",
       "      <td>NaN</td>\n",
       "      <td>Belgium</td>\n",
       "      <td>0</td>\n",
       "      <td>0</td>\n",
       "      <td>0</td>\n",
       "      <td>Westvleteren has the smallest output of the Tr...</td>\n",
       "    </tr>\n",
       "    <tr>\n",
       "      <th>2</th>\n",
       "      <td>Schramm’s The Heart of Darkness</td>\n",
       "      <td>14.000000</td>\n",
       "      <td>4.423655</td>\n",
       "      <td>77.0</td>\n",
       "      <td>Mead</td>\n",
       "      <td>Meadery</td>\n",
       "      <td>Ferndale</td>\n",
       "      <td>Michigan</td>\n",
       "      <td>United States</td>\n",
       "      <td>1</td>\n",
       "      <td>1</td>\n",
       "      <td>1</td>\n",
       "      <td>The Heart of Darkness is our capstone mead. It...</td>\n",
       "    </tr>\n",
       "    <tr>\n",
       "      <th>3</th>\n",
       "      <td>B. Nektar Ken Schramm Signature Series - The H...</td>\n",
       "      <td>14.000000</td>\n",
       "      <td>4.421873</td>\n",
       "      <td>50.0</td>\n",
       "      <td>Mead</td>\n",
       "      <td>Meadery</td>\n",
       "      <td>Ferndale</td>\n",
       "      <td>Michigan</td>\n",
       "      <td>United States</td>\n",
       "      <td>1</td>\n",
       "      <td>1</td>\n",
       "      <td>1</td>\n",
       "      <td>Meadmaker Ken Schramm crafted the Heart of Dar...</td>\n",
       "    </tr>\n",
       "    <tr>\n",
       "      <th>4</th>\n",
       "      <td>Cigar City Pilot Series Dragonfruit Passion Fr...</td>\n",
       "      <td>3.979168</td>\n",
       "      <td>4.420719</td>\n",
       "      <td>46.0</td>\n",
       "      <td>Berliner Weisse</td>\n",
       "      <td>Microbrewery</td>\n",
       "      <td>Tampa</td>\n",
       "      <td>Florida</td>\n",
       "      <td>United States</td>\n",
       "      <td>1</td>\n",
       "      <td>1</td>\n",
       "      <td>1</td>\n",
       "      <td>Editor’s Note: This is an archived entry for t...</td>\n",
       "    </tr>\n",
       "  </tbody>\n",
       "</table>\n",
       "</div>"
      ],
      "text/plain": [
       "                                                Name        ABV  \\\n",
       "0                       Närke Kaggen Stormaktsporter   9.500000   \n",
       "1                              Westvleteren 12 (XII)  10.200000   \n",
       "2                    Schramm’s The Heart of Darkness  14.000000   \n",
       "3  B. Nektar Ken Schramm Signature Series - The H...  14.000000   \n",
       "4  Cigar City Pilot Series Dragonfruit Passion Fr...   3.979168   \n",
       "\n",
       "   AverageRating  RatingCount        BeerStyle   BreweryType          City  \\\n",
       "0       4.489771        557.0   Imperial Stout  Microbrewery        Örebro   \n",
       "1       4.426578       3332.0    Abt/Quadrupel  Microbrewery  Westvleteren   \n",
       "2       4.423655         77.0             Mead       Meadery      Ferndale   \n",
       "3       4.421873         50.0             Mead       Meadery      Ferndale   \n",
       "4       4.420719         46.0  Berliner Weisse  Microbrewery         Tampa   \n",
       "\n",
       "      State        Country  has_twitter  has_facebook  SocialMedia  \\\n",
       "0       NaN         Sweden            0             0            0   \n",
       "1       NaN        Belgium            0             0            0   \n",
       "2  Michigan  United States            1             1            1   \n",
       "3  Michigan  United States            1             1            1   \n",
       "4   Florida  United States            1             1            1   \n",
       "\n",
       "                                    beer_description  \n",
       "0  Imperial Stout brewed with heather honey and a...  \n",
       "1  Westvleteren has the smallest output of the Tr...  \n",
       "2  The Heart of Darkness is our capstone mead. It...  \n",
       "3  Meadmaker Ken Schramm crafted the Heart of Dar...  \n",
       "4  Editor’s Note: This is an archived entry for t...  "
      ]
     },
     "execution_count": 111,
     "metadata": {},
     "output_type": "execute_result"
    }
   ],
   "source": [
    "df_nlp.head()"
   ]
  },
  {
   "cell_type": "markdown",
   "metadata": {},
   "source": [
    "We will count the number of rows with missing values. There is no easy way to impute the missing values for the description column. We will drop the missing values for further analysis."
   ]
  },
  {
   "cell_type": "code",
   "execution_count": 112,
   "metadata": {},
   "outputs": [
    {
     "data": {
      "text/plain": [
       "61640"
      ]
     },
     "execution_count": 112,
     "metadata": {},
     "output_type": "execute_result"
    }
   ],
   "source": [
    "df_nlp.beer_description.isnull().sum()"
   ]
  },
  {
   "cell_type": "markdown",
   "metadata": {},
   "source": [
    "There are 61,640 missing values. This is not too bad. We will drop these rows. "
   ]
  },
  {
   "cell_type": "code",
   "execution_count": 113,
   "metadata": {
    "collapsed": true
   },
   "outputs": [],
   "source": [
    "df_nlp = df_nlp[pd.notnull(df_nlp.beer_description)]"
   ]
  },
  {
   "cell_type": "code",
   "execution_count": 114,
   "metadata": {},
   "outputs": [
    {
     "data": {
      "text/plain": [
       "158360"
      ]
     },
     "execution_count": 114,
     "metadata": {},
     "output_type": "execute_result"
    }
   ],
   "source": [
    "len(df_nlp)"
   ]
  },
  {
   "cell_type": "markdown",
   "metadata": {},
   "source": [
    "We now have a dataframe with only the available values in the beer_description column. As a first step we will create a bag of words."
   ]
  },
  {
   "cell_type": "code",
   "execution_count": 115,
   "metadata": {
    "collapsed": true
   },
   "outputs": [],
   "source": [
    "#rename the beer description column\n",
    "df_nlp = df_nlp.rename(columns=({ 'beer_description' : 'Description'}))"
   ]
  },
  {
   "cell_type": "code",
   "execution_count": 125,
   "metadata": {
    "collapsed": true
   },
   "outputs": [],
   "source": [
    "from collections import Counter\n",
    "from nltk.tokenize import sent_tokenize\n",
    "from nltk.tokenize import word_tokenize"
   ]
  },
  {
   "cell_type": "code",
   "execution_count": 126,
   "metadata": {
    "collapsed": true
   },
   "outputs": [],
   "source": [
    "#get all the sentences in the description column\n",
    "text= []\n",
    "for d in df_nlp.Description:\n",
    "    text.append(sent_tokenize(d))"
   ]
  },
  {
   "cell_type": "code",
   "execution_count": 143,
   "metadata": {},
   "outputs": [],
   "source": [
    "#create a list of words from the sentences \n",
    "words=[]\n",
    "for i in range(len(text)):\n",
    "    for j in range(len(text[i])):\n",
    "        words.append(word_tokenize(text[i][j]))"
   ]
  },
  {
   "cell_type": "code",
   "execution_count": 149,
   "metadata": {},
   "outputs": [],
   "source": [
    "#flatten the words list as a collection of tokens\n",
    "tokens = []\n",
    "for lst in words:\n",
    "    for sublist in lst:\n",
    "        tokens.append(sublist)"
   ]
  },
  {
   "cell_type": "code",
   "execution_count": 150,
   "metadata": {},
   "outputs": [],
   "source": [
    "#convert tokens to lowercase\n",
    "lower_tokens = [t.lower() for t in tokens]"
   ]
  },
  {
   "cell_type": "code",
   "execution_count": 151,
   "metadata": {
    "collapsed": true
   },
   "outputs": [],
   "source": [
    "#create bag of words\n",
    "bow_simple = Counter(lower_tokens)"
   ]
  },
  {
   "cell_type": "code",
   "execution_count": 152,
   "metadata": {},
   "outputs": [
    {
     "name": "stdout",
     "output_type": "stream",
     "text": [
      "[('.', 380727), (',', 351049), ('>', 286373), ('<', 286329), ('the', 195923), ('and', 193527), ('a', 189598), ('of', 137017), ('with', 121063), ('is', 82164)]\n"
     ]
    }
   ],
   "source": [
    "print(bow_simple.most_common(10))"
   ]
  },
  {
   "cell_type": "markdown",
   "metadata": {},
   "source": [
    "We need to remove the stop words and keep only the words in the list. We will apply a couple of list comprehensions to achieve this. "
   ]
  },
  {
   "cell_type": "code",
   "execution_count": 153,
   "metadata": {
    "collapsed": true
   },
   "outputs": [],
   "source": [
    "#get only words, no punctuations, symbols etc\n",
    "alphas_only = [t for t in lower_tokens if t.isalpha()]"
   ]
  },
  {
   "cell_type": "code",
   "execution_count": 156,
   "metadata": {},
   "outputs": [],
   "source": [
    "#remove all stop words\n",
    "from nltk.corpus import stopwords\n",
    "english_stops = set(stopwords.words('english'))\n",
    "no_stops = [t for t in alphas_only if t not in english_stops]"
   ]
  },
  {
   "cell_type": "markdown",
   "metadata": {},
   "source": [
    "We will apply a lemmatizer as part of the pre-processing to get the correct words"
   ]
  },
  {
   "cell_type": "code",
   "execution_count": 157,
   "metadata": {
    "collapsed": true
   },
   "outputs": [],
   "source": [
    "#import lemmatizer from NLTK\n",
    "from nltk.stem import WordNetLemmatizer\n",
    "word_lemmatizer = WordNetLemmatizer()\n",
    "final_words = [word_lemmatizer.lemmatize(t) for t in no_stops]"
   ]
  },
  {
   "cell_type": "markdown",
   "metadata": {},
   "source": [
    "Now we will create a bag of words "
   ]
  },
  {
   "cell_type": "code",
   "execution_count": 158,
   "metadata": {
    "collapsed": true
   },
   "outputs": [],
   "source": [
    "bow = Counter(final_words)"
   ]
  },
  {
   "cell_type": "code",
   "execution_count": 160,
   "metadata": {},
   "outputs": [
    {
     "name": "stdout",
     "output_type": "stream",
     "text": [
      "The most common tokens:\n",
      "[('beer', 72126), ('hop', 67782), ('ale', 55013), ('malt', 47751), ('brewed', 34942), ('de', 24122), ('aroma', 22526), ('flavor', 22356), ('pale', 20919), ('ipa', 19163), ('en', 18777), ('barrel', 15802), ('note', 14749), ('finish', 14707), ('yeast', 14618), ('dark', 14156), ('og', 14132), ('cask', 13854), ('style', 13739), ('stout', 13513)]\n"
     ]
    }
   ],
   "source": [
    "print ('The most common tokens:')\n",
    "print(bow.most_common(20))"
   ]
  },
  {
   "cell_type": "markdown",
   "metadata": {},
   "source": [
    "Of course beer is the most common word in the set. We have some words like 'de' and 'og' in the list too. Since we have beers from all around the world, the description contains stop words from other languages as well. These will have to be removed as well. \n",
    "\n",
    "Some of the other most common words are 'aroma','dark','barrel','finish' and 'yeast'. These are words that are commonly used to describe beers and is expected to have an effect on the rating. "
   ]
  },
  {
   "cell_type": "markdown",
   "metadata": {},
   "source": [
    "We will apply NLP and logistic regression to predict the labels for the beers from the top 10 countries (by count). As a first step we will create a dataframe only with the necessary columns (numeric and beer description, target as country) and the countries in the country column."
   ]
  },
  {
   "cell_type": "code",
   "execution_count": 162,
   "metadata": {
    "collapsed": true
   },
   "outputs": [],
   "source": [
    "data = df_nlp.drop(['Name','BeerStyle','BreweryType','City','State','has_twitter','has_facebook'],axis=1)"
   ]
  },
  {
   "cell_type": "code",
   "execution_count": 163,
   "metadata": {},
   "outputs": [
    {
     "data": {
      "text/html": [
       "<div>\n",
       "<style>\n",
       "    .dataframe thead tr:only-child th {\n",
       "        text-align: right;\n",
       "    }\n",
       "\n",
       "    .dataframe thead th {\n",
       "        text-align: left;\n",
       "    }\n",
       "\n",
       "    .dataframe tbody tr th {\n",
       "        vertical-align: top;\n",
       "    }\n",
       "</style>\n",
       "<table border=\"1\" class=\"dataframe\">\n",
       "  <thead>\n",
       "    <tr style=\"text-align: right;\">\n",
       "      <th></th>\n",
       "      <th>ABV</th>\n",
       "      <th>AverageRating</th>\n",
       "      <th>RatingCount</th>\n",
       "      <th>Country</th>\n",
       "      <th>SocialMedia</th>\n",
       "      <th>Description</th>\n",
       "    </tr>\n",
       "  </thead>\n",
       "  <tbody>\n",
       "    <tr>\n",
       "      <th>0</th>\n",
       "      <td>9.500000</td>\n",
       "      <td>4.489771</td>\n",
       "      <td>557.0</td>\n",
       "      <td>Sweden</td>\n",
       "      <td>0</td>\n",
       "      <td>Imperial Stout brewed with heather honey and a...</td>\n",
       "    </tr>\n",
       "    <tr>\n",
       "      <th>1</th>\n",
       "      <td>10.200000</td>\n",
       "      <td>4.426578</td>\n",
       "      <td>3332.0</td>\n",
       "      <td>Belgium</td>\n",
       "      <td>0</td>\n",
       "      <td>Westvleteren has the smallest output of the Tr...</td>\n",
       "    </tr>\n",
       "    <tr>\n",
       "      <th>2</th>\n",
       "      <td>14.000000</td>\n",
       "      <td>4.423655</td>\n",
       "      <td>77.0</td>\n",
       "      <td>United States</td>\n",
       "      <td>1</td>\n",
       "      <td>The Heart of Darkness is our capstone mead. It...</td>\n",
       "    </tr>\n",
       "    <tr>\n",
       "      <th>3</th>\n",
       "      <td>14.000000</td>\n",
       "      <td>4.421873</td>\n",
       "      <td>50.0</td>\n",
       "      <td>United States</td>\n",
       "      <td>1</td>\n",
       "      <td>Meadmaker Ken Schramm crafted the Heart of Dar...</td>\n",
       "    </tr>\n",
       "    <tr>\n",
       "      <th>4</th>\n",
       "      <td>3.979168</td>\n",
       "      <td>4.420719</td>\n",
       "      <td>46.0</td>\n",
       "      <td>United States</td>\n",
       "      <td>1</td>\n",
       "      <td>Editor’s Note: This is an archived entry for t...</td>\n",
       "    </tr>\n",
       "  </tbody>\n",
       "</table>\n",
       "</div>"
      ],
      "text/plain": [
       "         ABV  AverageRating  RatingCount        Country  SocialMedia  \\\n",
       "0   9.500000       4.489771        557.0         Sweden            0   \n",
       "1  10.200000       4.426578       3332.0        Belgium            0   \n",
       "2  14.000000       4.423655         77.0  United States            1   \n",
       "3  14.000000       4.421873         50.0  United States            1   \n",
       "4   3.979168       4.420719         46.0  United States            1   \n",
       "\n",
       "                                         Description  \n",
       "0  Imperial Stout brewed with heather honey and a...  \n",
       "1  Westvleteren has the smallest output of the Tr...  \n",
       "2  The Heart of Darkness is our capstone mead. It...  \n",
       "3  Meadmaker Ken Schramm crafted the Heart of Dar...  \n",
       "4  Editor’s Note: This is an archived entry for t...  "
      ]
     },
     "execution_count": 163,
     "metadata": {},
     "output_type": "execute_result"
    }
   ],
   "source": [
    "data.head()"
   ]
  },
  {
   "cell_type": "markdown",
   "metadata": {},
   "source": [
    "We will get only the top 10 countries based on the total number of beers from each country."
   ]
  },
  {
   "cell_type": "code",
   "execution_count": 164,
   "metadata": {
    "collapsed": true
   },
   "outputs": [],
   "source": [
    "total_beers = data.groupby('Country').Country.count()\n",
    "total_beers1 = dict(total_beers.sort_values(ascending=False).head(10))\n",
    "countries = list(total_beers1.keys())\n",
    "data_10 = pd.DataFrame()\n",
    "for c in countries:\n",
    "    data_10 = data_10.append(data[data.Country == c])"
   ]
  },
  {
   "cell_type": "markdown",
   "metadata": {},
   "source": [
    "For the first part of the analysis we will use only the Description column to predict the country labels (i.e 0 or 1 for all the countries using dummies). We will use logisitc regression and a OnevsRestClassifier (multilabel classifier)."
   ]
  },
  {
   "cell_type": "code",
   "execution_count": 173,
   "metadata": {
    "collapsed": true
   },
   "outputs": [],
   "source": [
    "#import packages \n",
    "from sklearn.feature_extraction.text import CountVectorizer\n",
    "from sklearn.pipeline import Pipeline\n",
    "from sklearn.multiclass import OneVsRestClassifier"
   ]
  },
  {
   "cell_type": "code",
   "execution_count": 169,
   "metadata": {
    "collapsed": true
   },
   "outputs": [],
   "source": [
    "#split the data into test and training sets\n",
    "X_train, X_test, y_train, y_test = train_test_split(data_10.Description,pd.get_dummies(data_10.Country),random_state=42)"
   ]
  },
  {
   "cell_type": "code",
   "execution_count": 174,
   "metadata": {},
   "outputs": [],
   "source": [
    "#iniate a pipeline object\n",
    "pl = Pipeline([\n",
    "        ('vec', CountVectorizer()),\n",
    "        ('clf', OneVsRestClassifier(LogisticRegression()))\n",
    "    ])"
   ]
  },
  {
   "cell_type": "code",
   "execution_count": 175,
   "metadata": {},
   "outputs": [
    {
     "data": {
      "text/plain": [
       "Pipeline(memory=None,\n",
       "     steps=[('vec', CountVectorizer(analyzer='word', binary=False, decode_error='strict',\n",
       "        dtype=<class 'numpy.int64'>, encoding='utf-8', input='content',\n",
       "        lowercase=True, max_df=1.0, max_features=None, min_df=1,\n",
       "        ngram_range=(1, 1), preprocessor=None, stop_words=None,\n",
       "        strip_...=None, solver='liblinear', tol=0.0001,\n",
       "          verbose=0, warm_start=False),\n",
       "          n_jobs=1))])"
      ]
     },
     "execution_count": 175,
     "metadata": {},
     "output_type": "execute_result"
    }
   ],
   "source": [
    "#fit pipeline to training data\n",
    "pl.fit(X_train,y_train)"
   ]
  },
  {
   "cell_type": "code",
   "execution_count": 176,
   "metadata": {},
   "outputs": [
    {
     "name": "stdout",
     "output_type": "stream",
     "text": [
      "\n",
      "Accuracy on test data - only for beer description:  0.770277390361\n"
     ]
    }
   ],
   "source": [
    "#compute accuracy score\n",
    "accuracy = pl.score(X_test,y_test)\n",
    "print (\"\\nAccuracy on test data - only for beer description: \", accuracy)"
   ]
  },
  {
   "cell_type": "markdown",
   "metadata": {},
   "source": [
    "The model is predicts the country labels with a 77% accuracy based only on the description. We will combine the ABV and rating count with the beer description to predict the country labels."
   ]
  },
  {
   "cell_type": "markdown",
   "metadata": {},
   "source": [
    "Since we need to combine text and numeric data, we will use methods such as FunctionTransform and FeatureUnion and build pipelines for predciting the country labels."
   ]
  },
  {
   "cell_type": "code",
   "execution_count": 179,
   "metadata": {
    "collapsed": true
   },
   "outputs": [],
   "source": [
    "# Import FunctionTransformer\n",
    "from sklearn.preprocessing import FunctionTransformer"
   ]
  },
  {
   "cell_type": "code",
   "execution_count": 181,
   "metadata": {},
   "outputs": [],
   "source": [
    "# get only text data\n",
    "get_text_data = FunctionTransformer(lambda x: x['Description'], validate=False)\n",
    "\n",
    "#get only numeric data\n",
    "get_numeric_data = FunctionTransformer(lambda x: x[['ABV','RatingCount']],validate=False)"
   ]
  },
  {
   "cell_type": "code",
   "execution_count": 182,
   "metadata": {
    "collapsed": true
   },
   "outputs": [],
   "source": [
    "text_data = get_text_data.fit_transform(data_10)\n",
    "numeric_data = get_numeric_data.fit_transform(data_10)"
   ]
  },
  {
   "cell_type": "code",
   "execution_count": 183,
   "metadata": {},
   "outputs": [
    {
     "data": {
      "text/plain": [
       "2    The Heart of Darkness is our capstone mead. It...\n",
       "3    Meadmaker Ken Schramm crafted the Heart of Dar...\n",
       "4    Editor’s Note: This is an archived entry for t...\n",
       "6    From Greg Hall: \"BCS rare, I’m excited. Brewed...\n",
       "7    A huge Imperial Stout with an explosive espres...\n",
       "Name: Description, dtype: object"
      ]
     },
     "execution_count": 183,
     "metadata": {},
     "output_type": "execute_result"
    }
   ],
   "source": [
    "text_data.head()"
   ]
  },
  {
   "cell_type": "code",
   "execution_count": 184,
   "metadata": {},
   "outputs": [
    {
     "data": {
      "text/html": [
       "<div>\n",
       "<style>\n",
       "    .dataframe thead tr:only-child th {\n",
       "        text-align: right;\n",
       "    }\n",
       "\n",
       "    .dataframe thead th {\n",
       "        text-align: left;\n",
       "    }\n",
       "\n",
       "    .dataframe tbody tr th {\n",
       "        vertical-align: top;\n",
       "    }\n",
       "</style>\n",
       "<table border=\"1\" class=\"dataframe\">\n",
       "  <thead>\n",
       "    <tr style=\"text-align: right;\">\n",
       "      <th></th>\n",
       "      <th>ABV</th>\n",
       "      <th>RatingCount</th>\n",
       "    </tr>\n",
       "  </thead>\n",
       "  <tbody>\n",
       "    <tr>\n",
       "      <th>2</th>\n",
       "      <td>14.000000</td>\n",
       "      <td>77.0</td>\n",
       "    </tr>\n",
       "    <tr>\n",
       "      <th>3</th>\n",
       "      <td>14.000000</td>\n",
       "      <td>50.0</td>\n",
       "    </tr>\n",
       "    <tr>\n",
       "      <th>4</th>\n",
       "      <td>3.979168</td>\n",
       "      <td>46.0</td>\n",
       "    </tr>\n",
       "    <tr>\n",
       "      <th>6</th>\n",
       "      <td>13.000000</td>\n",
       "      <td>417.0</td>\n",
       "    </tr>\n",
       "    <tr>\n",
       "      <th>7</th>\n",
       "      <td>12.000000</td>\n",
       "      <td>186.0</td>\n",
       "    </tr>\n",
       "  </tbody>\n",
       "</table>\n",
       "</div>"
      ],
      "text/plain": [
       "         ABV  RatingCount\n",
       "2  14.000000         77.0\n",
       "3  14.000000         50.0\n",
       "4   3.979168         46.0\n",
       "6  13.000000        417.0\n",
       "7  12.000000        186.0"
      ]
     },
     "execution_count": 184,
     "metadata": {},
     "output_type": "execute_result"
    }
   ],
   "source": [
    "numeric_data.head()"
   ]
  },
  {
   "cell_type": "code",
   "execution_count": 185,
   "metadata": {
    "collapsed": true
   },
   "outputs": [],
   "source": [
    "# Import FeatureUnion\n",
    "from sklearn.pipeline import FeatureUnion"
   ]
  },
  {
   "cell_type": "code",
   "execution_count": 202,
   "metadata": {},
   "outputs": [],
   "source": [
    "# split data into test and train sets\n",
    "X_train, X_test, y_train, y_test = train_test_split(data_10[['ABV', 'RatingCount', 'Description']],pd.get_dummies(data_10['Country']),random_state=22)"
   ]
  },
  {
   "cell_type": "code",
   "execution_count": 195,
   "metadata": {
    "collapsed": true
   },
   "outputs": [],
   "source": [
    "# Create nested pipeline and feature union to combine the features \n",
    "join_features = FeatureUnion(\n",
    "            transformer_list = [\n",
    "                ('numeric_features', Pipeline([\n",
    "                    ('selector', get_numeric_data)   \n",
    "                ])),\n",
    "                ('text_features', Pipeline([\n",
    "                    ('selector', get_text_data),\n",
    "                    ('vectorizer', CountVectorizer())\n",
    "                ]))\n",
    "             ]\n",
    "        )"
   ]
  },
  {
   "cell_type": "code",
   "execution_count": 190,
   "metadata": {
    "collapsed": true
   },
   "outputs": [],
   "source": [
    "# Instantiate pipeline\n",
    "pl = Pipeline([\n",
    "        ('union', join_features),\n",
    "        ('clf', OneVsRestClassifier(LogisticRegression()))\n",
    "    ])"
   ]
  },
  {
   "cell_type": "code",
   "execution_count": 191,
   "metadata": {},
   "outputs": [
    {
     "data": {
      "text/plain": [
       "Pipeline(memory=None,\n",
       "     steps=[('union', FeatureUnion(n_jobs=1,\n",
       "       transformer_list=[('numeric_features', Pipeline(memory=None,\n",
       "     steps=[('selector', FunctionTransformer(accept_sparse=False,\n",
       "          func=<function <lambda> at 0x000002A4FE8BE0D0>, inv_kw_args=None,\n",
       "          inverse_func=None, kw_args=None, pass_y=...=None, solver='liblinear', tol=0.0001,\n",
       "          verbose=0, warm_start=False),\n",
       "          n_jobs=1))])"
      ]
     },
     "execution_count": 191,
     "metadata": {},
     "output_type": "execute_result"
    }
   ],
   "source": [
    "# Fit pipeline\n",
    "pl.fit(X_train,y_train)"
   ]
  },
  {
   "cell_type": "code",
   "execution_count": 192,
   "metadata": {},
   "outputs": [
    {
     "name": "stdout",
     "output_type": "stream",
     "text": [
      "\n",
      "Accuracy on test data - for beer description, RatingCount, ABV :  0.775577250891\n"
     ]
    }
   ],
   "source": [
    "# Compute accuracy score\n",
    "accuracy = pl.score(X_test,y_test)\n",
    "print (\"\\nAccuracy on test data - for beer description, RatingCount, ABV : \", accuracy)"
   ]
  },
  {
   "cell_type": "markdown",
   "metadata": {},
   "source": [
    "The accuracy with the three features combined is 77.5%, an increase only by 0.5% compared to predicting only on beer description. We will try using an other classifier such as the RandomForestClassifer."
   ]
  },
  {
   "cell_type": "code",
   "execution_count": 205,
   "metadata": {
    "collapsed": true
   },
   "outputs": [],
   "source": [
    "from sklearn.ensemble import RandomForestClassifier\n",
    "pl1 = Pipeline([\n",
    "        ('union', FeatureUnion(\n",
    "            transformer_list = [\n",
    "                ('numeric_features', Pipeline([\n",
    "                    ('selector', get_numeric_data),\n",
    "                ])),\n",
    "                ('text_features', Pipeline([\n",
    "                    ('selector', get_text_data),\n",
    "                    ('vectorizer', CountVectorizer())\n",
    "                ]))\n",
    "             ]\n",
    "        )),\n",
    "        ('clf', RandomForestClassifier(n_estimators=15))\n",
    "    ])"
   ]
  },
  {
   "cell_type": "code",
   "execution_count": 206,
   "metadata": {},
   "outputs": [
    {
     "data": {
      "text/plain": [
       "Pipeline(memory=None,\n",
       "     steps=[('union', FeatureUnion(n_jobs=1,\n",
       "       transformer_list=[('numeric_features', Pipeline(memory=None,\n",
       "     steps=[('selector', FunctionTransformer(accept_sparse=False,\n",
       "          func=<function <lambda> at 0x000002A4FE8BE0D0>, inv_kw_args=None,\n",
       "          inverse_func=None, kw_args=None, pass_y=...n_jobs=1,\n",
       "            oob_score=False, random_state=None, verbose=0,\n",
       "            warm_start=False))])"
      ]
     },
     "execution_count": 206,
     "metadata": {},
     "output_type": "execute_result"
    }
   ],
   "source": [
    "pl1.fit(X_train,y_train)"
   ]
  },
  {
   "cell_type": "code",
   "execution_count": 207,
   "metadata": {},
   "outputs": [
    {
     "name": "stdout",
     "output_type": "stream",
     "text": [
      "\n",
      "Accuracy on test data - for beer description, RatingCount, ABV using RandomForestClassifier:  0.789183325585\n"
     ]
    }
   ],
   "source": [
    "accuracy = pl1.score(X_test,y_test)\n",
    "print (\"\\nAccuracy on test data - for beer description, RatingCount, ABV using RandomForestClassifier: \", accuracy)"
   ]
  },
  {
   "cell_type": "markdown",
   "metadata": {},
   "source": [
    "The accuracy increases slightly for RandomForestClassifier model. The accuracy now for prediciting country labels is 78.9%. We will apply some other methods for tokenization and scaling to see if we can increase the accuracy."
   ]
  },
  {
   "cell_type": "code",
   "execution_count": 209,
   "metadata": {},
   "outputs": [],
   "source": [
    "# Create a token pattern for the countvectorizer.\n",
    "TOKENS_ALPHANUMERIC = '[A-Za-z0-9]+(?=\\\\s+)'\n",
    "\n",
    "# Import MaxAbsScaler\n",
    "from sklearn.preprocessing import MaxAbsScaler\n",
    "\n",
    "# Instantiate a pipleline\n",
    "pl = Pipeline([\n",
    "        ('union', FeatureUnion(\n",
    "            transformer_list = [\n",
    "                ('numeric_features', Pipeline([\n",
    "                    ('selector', get_numeric_data),\n",
    "                ])),\n",
    "                ('text_features', Pipeline([\n",
    "                    ('selector', get_text_data),\n",
    "                    ('vectorizer', CountVectorizer(token_pattern=TOKENS_ALPHANUMERIC,\n",
    "                                                   ngram_range=(1,2))),\n",
    "                ]))\n",
    "             ]\n",
    "        )),\n",
    "        ('scale', MaxAbsScaler()),\n",
    "        ('clf', OneVsRestClassifier(LogisticRegression()))\n",
    "    ])"
   ]
  },
  {
   "cell_type": "code",
   "execution_count": 210,
   "metadata": {},
   "outputs": [
    {
     "data": {
      "text/plain": [
       "Pipeline(memory=None,\n",
       "     steps=[('union', FeatureUnion(n_jobs=1,\n",
       "       transformer_list=[('numeric_features', Pipeline(memory=None,\n",
       "     steps=[('selector', FunctionTransformer(accept_sparse=False,\n",
       "          func=<function <lambda> at 0x000002A4FE8BE0D0>, inv_kw_args=None,\n",
       "          inverse_func=None, kw_args=None, pass_y=...=None, solver='liblinear', tol=0.0001,\n",
       "          verbose=0, warm_start=False),\n",
       "          n_jobs=1))])"
      ]
     },
     "execution_count": 210,
     "metadata": {},
     "output_type": "execute_result"
    }
   ],
   "source": [
    "pl.fit(X_train,y_train)"
   ]
  },
  {
   "cell_type": "code",
   "execution_count": 223,
   "metadata": {},
   "outputs": [
    {
     "name": "stdout",
     "output_type": "stream",
     "text": [
      "\n",
      "Accuracy on test data - for beer description, RatingCount, ABV  0.706772044011\n"
     ]
    }
   ],
   "source": [
    "accuracy = pl.score(X_test,y_test)\n",
    "print (\"\\nAccuracy on test data - for beer description, RatingCount, ABV \", accuracy)"
   ]
  },
  {
   "cell_type": "markdown",
   "metadata": {},
   "source": [
    "The above model used a token vectorizer, ngrams and scalers with Logisitc Regression to fit the model. The accuracy reduces to 70%. We will remove the scaler, tokenization, change ngram range and rerun the model."
   ]
  },
  {
   "cell_type": "code",
   "execution_count": 219,
   "metadata": {
    "collapsed": true
   },
   "outputs": [],
   "source": [
    "# Instantiate a pipeline with the changes\n",
    "pl1 = Pipeline([\n",
    "        ('union', FeatureUnion(\n",
    "            transformer_list = [\n",
    "                ('numeric_features', Pipeline([\n",
    "                    ('selector', get_numeric_data),\n",
    "                ])),\n",
    "                ('text_features', Pipeline([\n",
    "                    ('selector', get_text_data),\n",
    "                    ('vectorizer', CountVectorizer(ngram_range=(1,3))),\n",
    "                ]))\n",
    "             ]\n",
    "      \n",
    "        )),\n",
    "        ('clf', OneVsRestClassifier(LogisticRegression()))\n",
    "    ])"
   ]
  },
  {
   "cell_type": "code",
   "execution_count": 220,
   "metadata": {},
   "outputs": [
    {
     "data": {
      "text/plain": [
       "Pipeline(memory=None,\n",
       "     steps=[('union', FeatureUnion(n_jobs=1,\n",
       "       transformer_list=[('numeric_features', Pipeline(memory=None,\n",
       "     steps=[('selector', FunctionTransformer(accept_sparse=False,\n",
       "          func=<function <lambda> at 0x000002A4FE8BE0D0>, inv_kw_args=None,\n",
       "          inverse_func=None, kw_args=None, pass_y=...=None, solver='liblinear', tol=0.0001,\n",
       "          verbose=0, warm_start=False),\n",
       "          n_jobs=1))])"
      ]
     },
     "execution_count": 220,
     "metadata": {},
     "output_type": "execute_result"
    }
   ],
   "source": [
    "# fit the pipeline\n",
    "pl1.fit(X_train,y_train)"
   ]
  },
  {
   "cell_type": "code",
   "execution_count": 221,
   "metadata": {},
   "outputs": [
    {
     "name": "stdout",
     "output_type": "stream",
     "text": [
      "\n",
      "Accuracy on test data - for beer description, RatingCount, ABV using ngrams:  0.812118394545\n"
     ]
    }
   ],
   "source": [
    "accuracy = pl1.score(X_test,y_test)\n",
    "print (\"\\nAccuracy on test data - for beer description, RatingCount, ABV using ngrams: \", accuracy)"
   ]
  },
  {
   "cell_type": "markdown",
   "metadata": {},
   "source": [
    "The model accuracy increases to 81% for predicting country labels using ngrams."
   ]
  },
  {
   "cell_type": "code",
   "execution_count": null,
   "metadata": {
    "collapsed": true
   },
   "outputs": [],
   "source": []
  }
 ],
 "metadata": {
  "kernelspec": {
   "display_name": "Python 3",
   "language": "python",
   "name": "python3"
  },
  "language_info": {
   "codemirror_mode": {
    "name": "ipython",
    "version": 3
   },
   "file_extension": ".py",
   "mimetype": "text/x-python",
   "name": "python",
   "nbconvert_exporter": "python",
   "pygments_lexer": "ipython3",
   "version": "3.6.3"
  }
 },
 "nbformat": 4,
 "nbformat_minor": 2
}

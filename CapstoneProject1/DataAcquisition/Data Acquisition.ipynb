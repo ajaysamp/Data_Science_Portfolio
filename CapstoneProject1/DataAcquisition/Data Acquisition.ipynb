{
 "cells": [
  {
   "cell_type": "markdown",
   "metadata": {},
   "source": [
    "## Data Acquisition"
   ]
  },
  {
   "cell_type": "markdown",
   "metadata": {},
   "source": [
    "This notebook will describe the process for downloading the data from ratebeer.com. "
   ]
  },
  {
   "cell_type": "markdown",
   "metadata": {},
   "source": [
    "## RateBeer Website\n",
    "\n",
    "RateBeer.com is widely recognized as the most in-depth, accurate, and one of the most-visited source for beer information. RateBeer is a world site for craft beer enthusiasts and is dedicated to serving the entire craft beer community through beer education, promotion and outreach. Established and maintained by dedicated volunteers, RateBeer has become the premier resource for consumer-driven beer ratings, features on beer culture and industry events, weekly beer-related editorials, and an internationally recognized, annual RateBeer Best competition. A vibrant community of hundreds of thousands of members from more than 100 countries have rated hundreds of thousands of different beers around the world."
   ]
  },
  {
   "cell_type": "markdown",
   "metadata": {},
   "source": [
    "## API\n",
    "\n",
    "The ratebeer website provides an API key for beer enthusiasts who are interested in developing beer apps in partnership with the website and also for students who are intersted in general data analysis research. For the purpose of this project, an API key was obtained under the academia agreement with RateBeer. \n",
    "\n",
    "The API documentation is provided at this link: https://www.ratebeer.com/api-documentation.asp"
   ]
  },
  {
   "cell_type": "markdown",
   "metadata": {},
   "source": [
    "## Download Data\n",
    "\n",
    "The data can be downloaded using the API key as json files. The data can be downloaded by ratings, 100 beers a time. A total of 5,000 calls are allowed per month.\n",
    "\n",
    "A for loop was written in python to do 100 calls at a time to not ovrload the server. The 'id' of the top ranked beer was obtained using the graphiql interface provided by ratebeer. The API query requires the a string to be stitched together as shown in the code below. This depends on the beer id. Once the for loop is done, the last downloaded beer id is obatained and the for loop is initalized again. This was done multiple times to due to server limitations. Eventually, data was downloaded for the top 220,000 beers as 13 different .json files."
   ]
  },
  {
   "cell_type": "code",
   "execution_count": null,
   "metadata": {
    "collapsed": true
   },
   "outputs": [],
   "source": [
    "#code for downloading data from ratebeer. The main code has been commented to prevent accidentally running it\n",
    "#imoort modules\n",
    "import requests\n",
    "import json\n",
    "import time\n",
    "\n",
    "#initalize headers as per API\n",
    "headers = {\n",
    "    'content-type': 'application/json',\n",
    "    'accept': 'application/json',\n",
    "    'x-api-key': '******************',\n",
    "}\n",
    "l = []  #initialize an empty list\n",
    "j = 31518   #beer id to initialize the for loop\n",
    "\n",
    "#for loop to acquire 10,000 beers starting from beer id 31518. This will for loop will combine the data into one final file.\n",
    "#for i in range(1,101) :\n",
    "#    request_string  =  '{' + '\"'+'query'+'\"'+':'+'\"'+\"query{topBeers(first: 100\" +\",\" + 'after:'+' '+str(j) + ')'+'{items{id,name,description,abv,styleScore,overallScore,averageRating,ratingCount,style{name,description},brewer{name, score, description,type,twitter,facebook,streetAddress,city,state{name,country{name,continent}}}},last}}' +'\"'+'}'\n",
    "#    r = requests.post('https://api.r8.beer/v1/api/graphql/', headers=headers, data=request_string)\n",
    "#    json_data = r.json()\n",
    "#   l.append(json_data)\n",
    "#    j = (json_data['data']['topBeers']['last'])\n",
    "#   time.sleep(2)    #wait for 2 seconds before starting the next iteration\n",
    "\n",
    "#write the json file\n",
    "output_file = open(\"beers_first200.json\", \"w\")\n",
    "json.dump(l,output_file, indent = 4)\n",
    "\n",
    "#get the last beer id to reset for loop\n",
    "print(json_data['data']['topBeers']['last'])"
   ]
  },
  {
   "cell_type": "markdown",
   "metadata": {},
   "source": [
    "## Data Merging\n",
    "\n",
    "A small code was written in R to merge the json files into one csv.This will be converted to a python code. "
   ]
  },
  {
   "cell_type": "markdown",
   "metadata": {},
   "source": [
    "Let's take quick look at the merged file."
   ]
  },
  {
   "cell_type": "code",
   "execution_count": 1,
   "metadata": {
    "collapsed": true
   },
   "outputs": [],
   "source": [
    "import pandas as pd"
   ]
  },
  {
   "cell_type": "code",
   "execution_count": 3,
   "metadata": {},
   "outputs": [],
   "source": [
    "df = pd.read_csv('RateBeer.csv')"
   ]
  },
  {
   "cell_type": "code",
   "execution_count": 4,
   "metadata": {},
   "outputs": [
    {
     "data": {
      "text/html": [
       "<div>\n",
       "<style>\n",
       "    .dataframe thead tr:only-child th {\n",
       "        text-align: right;\n",
       "    }\n",
       "\n",
       "    .dataframe thead th {\n",
       "        text-align: left;\n",
       "    }\n",
       "\n",
       "    .dataframe tbody tr th {\n",
       "        vertical-align: top;\n",
       "    }\n",
       "</style>\n",
       "<table border=\"1\" class=\"dataframe\">\n",
       "  <thead>\n",
       "    <tr style=\"text-align: right;\">\n",
       "      <th></th>\n",
       "      <th>Unnamed: 0</th>\n",
       "      <th>beer_id</th>\n",
       "      <th>beer_name</th>\n",
       "      <th>beer_description</th>\n",
       "      <th>beer_abv</th>\n",
       "      <th>beer_styleScore</th>\n",
       "      <th>beer_overallScore</th>\n",
       "      <th>beer_averageRating</th>\n",
       "      <th>beer_ratingCount</th>\n",
       "      <th>beer_styleName</th>\n",
       "      <th>brewery_name</th>\n",
       "      <th>brewery_type</th>\n",
       "      <th>brewery_street</th>\n",
       "      <th>brewery_city</th>\n",
       "      <th>brewery_state</th>\n",
       "      <th>brewery_country</th>\n",
       "      <th>brewery_continent</th>\n",
       "      <th>brewery_twitter</th>\n",
       "      <th>brewery_facebook</th>\n",
       "    </tr>\n",
       "  </thead>\n",
       "  <tbody>\n",
       "    <tr>\n",
       "      <th>0</th>\n",
       "      <td>1</td>\n",
       "      <td>58057</td>\n",
       "      <td>Närke Kaggen Stormaktsporter</td>\n",
       "      <td>Imperial Stout brewed with heather honey and a...</td>\n",
       "      <td>9.5</td>\n",
       "      <td>100.0</td>\n",
       "      <td>100.0</td>\n",
       "      <td>4.489771</td>\n",
       "      <td>557</td>\n",
       "      <td>Imperial Stout</td>\n",
       "      <td>Närke Kulturbryggeri</td>\n",
       "      <td>Microbrewery</td>\n",
       "      <td>Beväringsgatan 2</td>\n",
       "      <td>Örebro</td>\n",
       "      <td>NaN</td>\n",
       "      <td>Sweden</td>\n",
       "      <td>NaN</td>\n",
       "      <td>NaN</td>\n",
       "      <td>NaN</td>\n",
       "    </tr>\n",
       "    <tr>\n",
       "      <th>1</th>\n",
       "      <td>2</td>\n",
       "      <td>4934</td>\n",
       "      <td>Westvleteren 12 (XII)</td>\n",
       "      <td>Westvleteren has the smallest output of the Tr...</td>\n",
       "      <td>10.2</td>\n",
       "      <td>100.0</td>\n",
       "      <td>100.0</td>\n",
       "      <td>4.426578</td>\n",
       "      <td>3332</td>\n",
       "      <td>Abt/Quadrupel</td>\n",
       "      <td>Westvleteren Abdij St. Sixtus</td>\n",
       "      <td>Microbrewery</td>\n",
       "      <td>Donkerstraat 12</td>\n",
       "      <td>Westvleteren</td>\n",
       "      <td>NaN</td>\n",
       "      <td>Belgium</td>\n",
       "      <td>NaN</td>\n",
       "      <td>NaN</td>\n",
       "      <td>NaN</td>\n",
       "    </tr>\n",
       "    <tr>\n",
       "      <th>2</th>\n",
       "      <td>3</td>\n",
       "      <td>231441</td>\n",
       "      <td>Schramm’s The Heart of Darkness</td>\n",
       "      <td>The Heart of Darkness is our capstone mead. It...</td>\n",
       "      <td>14.0</td>\n",
       "      <td>100.0</td>\n",
       "      <td>100.0</td>\n",
       "      <td>4.423655</td>\n",
       "      <td>77</td>\n",
       "      <td>Mead</td>\n",
       "      <td>Schramm’s Mead</td>\n",
       "      <td>Meadery</td>\n",
       "      <td>327 West 9 Mile Road</td>\n",
       "      <td>Ferndale</td>\n",
       "      <td>Michigan</td>\n",
       "      <td>United States</td>\n",
       "      <td>North America</td>\n",
       "      <td>schrammsmead</td>\n",
       "      <td>https://facebook.com/SchrammsMeadery</td>\n",
       "    </tr>\n",
       "    <tr>\n",
       "      <th>3</th>\n",
       "      <td>4</td>\n",
       "      <td>106749</td>\n",
       "      <td>B. Nektar Ken Schramm Signature Series - The H...</td>\n",
       "      <td>Meadmaker Ken Schramm crafted the Heart of Dar...</td>\n",
       "      <td>14.0</td>\n",
       "      <td>100.0</td>\n",
       "      <td>100.0</td>\n",
       "      <td>4.421873</td>\n",
       "      <td>50</td>\n",
       "      <td>Mead</td>\n",
       "      <td>B. Nektar Meadery</td>\n",
       "      <td>Meadery</td>\n",
       "      <td>1511 Jarvis</td>\n",
       "      <td>Ferndale</td>\n",
       "      <td>Michigan</td>\n",
       "      <td>United States</td>\n",
       "      <td>North America</td>\n",
       "      <td>bnektar</td>\n",
       "      <td>https://facebook.com/b.nektar</td>\n",
       "    </tr>\n",
       "    <tr>\n",
       "      <th>4</th>\n",
       "      <td>5</td>\n",
       "      <td>140581</td>\n",
       "      <td>Cigar City Pilot Series Dragonfruit Passion Fr...</td>\n",
       "      <td>Editor’s Note: This is an archived entry for t...</td>\n",
       "      <td>0.0</td>\n",
       "      <td>100.0</td>\n",
       "      <td>100.0</td>\n",
       "      <td>4.420719</td>\n",
       "      <td>46</td>\n",
       "      <td>Berliner Weisse</td>\n",
       "      <td>Cigar City Brewing</td>\n",
       "      <td>Microbrewery</td>\n",
       "      <td>3924 W Spruce Street</td>\n",
       "      <td>Tampa</td>\n",
       "      <td>Florida</td>\n",
       "      <td>United States</td>\n",
       "      <td>North America</td>\n",
       "      <td>cigarcitybeer</td>\n",
       "      <td>https://facebook.com/cigarcitybeer</td>\n",
       "    </tr>\n",
       "  </tbody>\n",
       "</table>\n",
       "</div>"
      ],
      "text/plain": [
       "   Unnamed: 0  beer_id                                          beer_name  \\\n",
       "0           1    58057                       Närke Kaggen Stormaktsporter   \n",
       "1           2     4934                              Westvleteren 12 (XII)   \n",
       "2           3   231441                    Schramm’s The Heart of Darkness   \n",
       "3           4   106749  B. Nektar Ken Schramm Signature Series - The H...   \n",
       "4           5   140581  Cigar City Pilot Series Dragonfruit Passion Fr...   \n",
       "\n",
       "                                    beer_description  beer_abv  \\\n",
       "0  Imperial Stout brewed with heather honey and a...       9.5   \n",
       "1  Westvleteren has the smallest output of the Tr...      10.2   \n",
       "2  The Heart of Darkness is our capstone mead. It...      14.0   \n",
       "3  Meadmaker Ken Schramm crafted the Heart of Dar...      14.0   \n",
       "4  Editor’s Note: This is an archived entry for t...       0.0   \n",
       "\n",
       "   beer_styleScore  beer_overallScore  beer_averageRating  beer_ratingCount  \\\n",
       "0            100.0              100.0            4.489771               557   \n",
       "1            100.0              100.0            4.426578              3332   \n",
       "2            100.0              100.0            4.423655                77   \n",
       "3            100.0              100.0            4.421873                50   \n",
       "4            100.0              100.0            4.420719                46   \n",
       "\n",
       "    beer_styleName                   brewery_name  brewery_type  \\\n",
       "0   Imperial Stout           Närke Kulturbryggeri  Microbrewery   \n",
       "1    Abt/Quadrupel  Westvleteren Abdij St. Sixtus  Microbrewery   \n",
       "2             Mead                 Schramm’s Mead       Meadery   \n",
       "3             Mead              B. Nektar Meadery       Meadery   \n",
       "4  Berliner Weisse             Cigar City Brewing  Microbrewery   \n",
       "\n",
       "         brewery_street  brewery_city brewery_state brewery_country  \\\n",
       "0      Beväringsgatan 2        Örebro           NaN          Sweden   \n",
       "1       Donkerstraat 12  Westvleteren           NaN         Belgium   \n",
       "2  327 West 9 Mile Road      Ferndale      Michigan   United States   \n",
       "3           1511 Jarvis      Ferndale      Michigan   United States   \n",
       "4  3924 W Spruce Street         Tampa       Florida   United States   \n",
       "\n",
       "  brewery_continent brewery_twitter                      brewery_facebook  \n",
       "0               NaN             NaN                                   NaN  \n",
       "1               NaN             NaN                                   NaN  \n",
       "2     North America    schrammsmead  https://facebook.com/SchrammsMeadery  \n",
       "3     North America         bnektar         https://facebook.com/b.nektar  \n",
       "4     North America   cigarcitybeer    https://facebook.com/cigarcitybeer  "
      ]
     },
     "execution_count": 4,
     "metadata": {},
     "output_type": "execute_result"
    }
   ],
   "source": [
    "df.head()"
   ]
  },
  {
   "cell_type": "code",
   "execution_count": 6,
   "metadata": {},
   "outputs": [
    {
     "data": {
      "text/plain": [
       "(220000, 19)"
      ]
     },
     "execution_count": 6,
     "metadata": {},
     "output_type": "execute_result"
    }
   ],
   "source": [
    "df.shape"
   ]
  },
  {
   "cell_type": "markdown",
   "metadata": {},
   "source": [
    "The data set contains 220,000 beers with 19 variables. The data cleaning and further analysis will be described in separate notebooks."
   ]
  },
  {
   "cell_type": "code",
   "execution_count": null,
   "metadata": {
    "collapsed": true
   },
   "outputs": [],
   "source": []
  }
 ],
 "metadata": {
  "kernelspec": {
   "display_name": "Python 3",
   "language": "python",
   "name": "python3"
  },
  "language_info": {
   "codemirror_mode": {
    "name": "ipython",
    "version": 3
   },
   "file_extension": ".py",
   "mimetype": "text/x-python",
   "name": "python",
   "nbconvert_exporter": "python",
   "pygments_lexer": "ipython3",
   "version": "3.6.3"
  }
 },
 "nbformat": 4,
 "nbformat_minor": 2
}
